{
 "cells": [
  {
   "cell_type": "markdown",
   "metadata": {},
   "source": [
    "\t# Author: Alexander Staub\n",
    "\t## Last changed: 2025.02.04\n",
    "\t## Purpose: Trialing the Chartmetrci API\n"
   ]
  },
  {
   "cell_type": "code",
   "execution_count": 1,
   "metadata": {},
   "outputs": [],
   "source": [
    "#installing packages\n",
    "import requests\n",
    "from pprint import pprint"
   ]
  },
  {
   "cell_type": "code",
   "execution_count": 15,
   "metadata": {},
   "outputs": [],
   "source": [
    "# Define API host and your refresh token\n",
    "HOST = 'https://api.chartmetric.com'\n",
    "with open(\"chartmetric_refresh_token.txt\", \"r\") as f:\n",
    "    REFRESH_TOKEN = f.read().strip()"
   ]
  },
  {
   "cell_type": "code",
   "execution_count": 16,
   "metadata": {},
   "outputs": [],
   "source": [
    "# Retrieve an access token using the refresh token\n",
    "token_response = requests.post(f'{HOST}/api/token', json={'refreshtoken': REFRESH_TOKEN})\n",
    "if token_response.status_code != 200:\n",
    "    raise Exception(f\"Error: received {token_response.status_code} from /api/token\")\n",
    "access_token = token_response.json()['token']"
   ]
  },
  {
   "cell_type": "code",
   "execution_count": 17,
   "metadata": {},
   "outputs": [],
   "source": [
    "# Setup headers with the retrieved access token\n",
    "headers = {'Authorization': f'Bearer {access_token}'}\n",
    "\n",
    "def get_request(endpoint, params=None):\n",
    "    response = requests.get(f\"{HOST}{endpoint}\", headers=headers, params=params)\n",
    "    if response.status_code != 200:\n",
    "        raise Exception(f\"Error: received {response.status_code} when accessing {endpoint}\")\n",
    "    return response.json()"
   ]
  },
  {
   "cell_type": "markdown",
   "metadata": {},
   "source": [
    "Trial is to figure out whether the spotify audio features are still available:\n",
    "- they are not"
   ]
  },
  {
   "cell_type": "markdown",
   "metadata": {},
   "source": [
    "Next trial is to see if I can get chartmetric ID information on song title and artist"
   ]
  },
  {
   "cell_type": "code",
   "execution_count": 18,
   "metadata": {},
   "outputs": [
    {
     "name": "stdout",
     "output_type": "stream",
     "text": [
      "{'obj': {'tracks': [{'album': [{'id': 11885226,\n",
      "                                'label': 'Karmas Good Side Records',\n",
      "                                'name': 'Electronic Instrumentals, Pt. 4',\n",
      "                                'release_date': '2006-10-27',\n",
      "                                'upc': '195916831371'}],\n",
      "                     'artist': [{'id': 4249465, 'name': 'Troy Moore'}],\n",
      "                     'artist_names': ['Troy Moore'],\n",
      "                     'genres': [{'id': 462905, 'name': 'Others'}],\n",
      "                     'id': 54999415,\n",
      "                     'image_url': 'https://i.scdn.co/image/ab67616d0000b27359fec17027af12fdc14db3f7',\n",
      "                     'isrc': 'QZNWW2052438',\n",
      "                     'name': 'Under',\n",
      "                     'rank': None,\n",
      "                     'score': None}]}}\n"
     ]
    }
   ],
   "source": [
    "# get information about an artist and song\n",
    "\n",
    "search_enpoint = '/api/search'\n",
    "search_params = {'q': 'Under Pressure', 'type': 'tracks', 'limit': 10}\n",
    "\n",
    "search_output = get_request(search_enpoint, search_params)\n",
    "\n",
    "pprint(search_output)"
   ]
  },
  {
   "cell_type": "code",
   "execution_count": null,
   "metadata": {},
   "outputs": [],
   "source": [
    "# try the playlist endpoint with an actual playlist id = 2183278\n",
    "\n",
    "playlist_endpoint = '/api/playlist/spotify/2183278/current/tracks'\n",
    "\n",
    "playlist_output = get_request(playlist_endpoint)\n",
    "\n",
    "pprint(playlist_output)"
   ]
  }
 ],
 "metadata": {
  "kernelspec": {
   "display_name": "music_data_chartmetric",
   "language": "python",
   "name": "python3"
  },
  "language_info": {
   "codemirror_mode": {
    "name": "ipython",
    "version": 3
   },
   "file_extension": ".py",
   "mimetype": "text/x-python",
   "name": "python",
   "nbconvert_exporter": "python",
   "pygments_lexer": "ipython3",
   "version": "3.12.8"
  }
 },
 "nbformat": 4,
 "nbformat_minor": 2
}
