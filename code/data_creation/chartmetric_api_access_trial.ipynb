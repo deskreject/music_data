{
 "cells": [
  {
   "cell_type": "markdown",
   "metadata": {},
   "source": [
    "\t# Author: Alexander Staub\n",
    "\t## Last changed: 2025.02.04\n",
    "\t## Purpose: Trialing the Chartmetrci API\n"
   ]
  },
  {
   "cell_type": "code",
   "execution_count": 2,
   "metadata": {},
   "outputs": [],
   "source": [
    "#installing packages\n",
    "import requests\n",
    "from pprint import pprint"
   ]
  },
  {
   "cell_type": "code",
   "execution_count": 3,
   "metadata": {},
   "outputs": [],
   "source": [
    "# Define API host and your refresh token\n",
    "HOST = 'https://api.chartmetric.com'\n",
    "with open(\"chartmetric_refresh_token.txt\", \"r\") as f:\n",
    "    REFRESH_TOKEN = f.read().strip()"
   ]
  },
  {
   "cell_type": "code",
   "execution_count": 4,
   "metadata": {},
   "outputs": [],
   "source": [
    "# Retrieve an access token using the refresh token\n",
    "token_response = requests.post(f'{HOST}/api/token', json={'refreshtoken': REFRESH_TOKEN})\n",
    "if token_response.status_code != 200:\n",
    "    raise Exception(f\"Error: received {token_response.status_code} from /api/token\")\n",
    "access_token = token_response.json()['token']"
   ]
  },
  {
   "cell_type": "code",
   "execution_count": 5,
   "metadata": {},
   "outputs": [],
   "source": [
    "# Setup headers with the retrieved access token\n",
    "headers = {'Authorization': f'Bearer {access_token}'}\n",
    "\n",
    "def get_request(endpoint, params=None):\n",
    "    response = requests.get(f\"{HOST}{endpoint}\", headers=headers, params=params)\n",
    "    if response.status_code != 200:\n",
    "        raise Exception(f\"Error: received {response.status_code} when accessing {endpoint}\")\n",
    "    return response.json()"
   ]
  },
  {
   "cell_type": "markdown",
   "metadata": {},
   "source": [
    "Trial is to figure out whether the spotify audio features are still available:\n",
    "- they are not"
   ]
  },
  {
   "cell_type": "markdown",
   "metadata": {},
   "source": [
    "Next trial is to see if I can get chartmetric ID information on song title and artist"
   ]
  },
  {
   "cell_type": "code",
   "execution_count": 15,
   "metadata": {},
   "outputs": [
    {
     "name": "stdout",
     "output_type": "stream",
     "text": [
      "{'obj': {'tracks': [{'album': [{'id': 17379165,\n",
      "                                'label': 'Dos Dub Tre LLC',\n",
      "                                'name': 'Not the Usual',\n",
      "                                'release_date': '2019-05-28',\n",
      "                                'upc': '194171290725'}],\n",
      "                     'artist': [{'id': 992610, 'name': 'Beaniedon'}],\n",
      "                     'artist_names': ['Beaniedon'],\n",
      "                     'genres': [{'id': 462883, 'name': 'Hip-Hop/Rap'},\n",
      "                                {'id': 462882, 'name': 'Pop'}],\n",
      "                     'id': 108974293,\n",
      "                     'image_url': 'https://is1-ssl.mzstatic.com/image/thumb/Music123/v4/e6/62/68/e662680d-897c-71fc-1737-a368f0a2e18b/194171290725.jpg/160x160bb.jpg',\n",
      "                     'isrc': 'USHM21921966',\n",
      "                     'name': 'Kanye',\n",
      "                     'rank': None,\n",
      "                     'score': None}]}}\n"
     ]
    }
   ],
   "source": [
    "# get information about an artist and song\n",
    "\n",
    "search_enpoint = '/api/search'\n",
    "search_params = {'q': '\"Stronger\" \"Kanye West\"', 'type': 'tracks'}\n",
    "\n",
    "search_output = get_request(search_enpoint, search_params)\n",
    "\n",
    "pprint(search_output)"
   ]
  },
  {
   "cell_type": "code",
   "execution_count": null,
   "metadata": {},
   "outputs": [],
   "source": [
    "# try the playlist endpoint with an actual playlist id = 2183278\n",
    "\n",
    "playlist_endpoint = '/api/playlist/spotify/2183278/current/tracks'\n",
    "\n",
    "playlist_output = get_request(playlist_endpoint)\n",
    "\n",
    "pprint(playlist_output)"
   ]
  }
 ],
 "metadata": {
  "kernelspec": {
   "display_name": "music_data_chartmetric",
   "language": "python",
   "name": "python3"
  },
  "language_info": {
   "codemirror_mode": {
    "name": "ipython",
    "version": 3
   },
   "file_extension": ".py",
   "mimetype": "text/x-python",
   "name": "python",
   "nbconvert_exporter": "python",
   "pygments_lexer": "ipython3",
   "version": "3.12.8"
  }
 },
 "nbformat": 4,
 "nbformat_minor": 2
}
