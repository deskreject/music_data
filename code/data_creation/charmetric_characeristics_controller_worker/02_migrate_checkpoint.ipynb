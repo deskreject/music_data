{
 "cells": [
  {
   "cell_type": "code",
   "execution_count": 3,
   "metadata": {},
   "outputs": [
    {
     "name": "stdout",
     "output_type": "stream",
     "text": [
      "Migrating checkpoint for Worker 3...\n",
      "Loading //bigdata.wu.ac.at/delpero/Data_alexander/data/raw_data/chartmetric/chartmetric_chars/part_3\\song_chars_checkpoint_repaired.json...\n",
      "Loaded 25,005 records. Now splitting into batches of 1000...\n",
      "Successfully split data into 26 batch files in:\n",
      "//bigdata.wu.ac.at/delpero/Data_alexander/data/raw_data/chartmetric/chartmetric_chars/part_3\\responses\n"
     ]
    }
   ],
   "source": [
    "# FILE: 01_migrate_checkpoint.ipynb\n",
    "import json\n",
    "import os\n",
    "import math\n",
    "\n",
    "# --- CONFIGURATION ---\n",
    "# !!! EDIT THESE TWO LINES FOR EACH WORKER'S CHECKPOINT YOU MIGRATE !!!\n",
    "PART_NUMBER = 3\n",
    "BATCH_SIZE = 1000 # The number of records per batch file. 1000 is a good default.\n",
    "# -------------------------------------------------------------------\n",
    "\n",
    "# --- Define Paths ---\n",
    "# This should be the directory where your MERGED data will eventually go\n",
    "METADATA_OUTPUT_DIR = \"//bigdata.wu.ac.at/delpero/Data_alexander/data/raw_data/chartmetric/chartmetric_chars/\"\n",
    "# This is the path to your CURRENT large checkpoint file\n",
    "EXISTING_CHECKPOINT_FILE = os.path.join(METADATA_OUTPUT_DIR, f\"part_{PART_NUMBER}\", \"song_chars_checkpoint_repaired.json\")\n",
    "# This is the new directory where the small batch files will be created\n",
    "BATCH_OUTPUT_DIR = os.path.join(METADATA_OUTPUT_DIR, f\"part_{PART_NUMBER}\", \"responses\")\n",
    "\n",
    "print(f\"Migrating checkpoint for Worker {PART_NUMBER}...\")\n",
    "\n",
    "if not os.path.exists(EXISTING_CHECKPOINT_FILE):\n",
    "    print(f\"ERROR: Cannot find existing checkpoint file at: {EXISTING_CHECKPOINT_FILE}\")\n",
    "else:\n",
    "    os.makedirs(BATCH_OUTPUT_DIR, exist_ok=True)\n",
    "    \n",
    "    # Load the entire existing checkpoint file into memory one last time\n",
    "    print(f\"Loading {EXISTING_CHECKPOINT_FILE}...\")\n",
    "    with open(EXISTING_CHECKPOINT_FILE, \"r\") as f:\n",
    "        all_responses = json.load(f)\n",
    "    \n",
    "    print(f\"Loaded {len(all_responses):,} records. Now splitting into batches of {BATCH_SIZE}...\")\n",
    "\n",
    "    # Loop through the data in chunks and save each chunk as a new batch file\n",
    "    num_batches = math.ceil(len(all_responses) / BATCH_SIZE)\n",
    "    for i in range(num_batches):\n",
    "        start_index = i * BATCH_SIZE\n",
    "        end_index = start_index + BATCH_SIZE\n",
    "        batch_data = all_responses[start_index:end_index]\n",
    "        \n",
    "        # Format batch number with leading zeros for correct sorting (e.g., batch_00001.json)\n",
    "        batch_filename = os.path.join(BATCH_OUTPUT_DIR, f\"batch_{i+1:05d}.json\")\n",
    "        \n",
    "        with open(batch_filename, \"w\") as f:\n",
    "            json.dump(batch_data, f, indent=2)\n",
    "\n",
    "    print(f\"Successfully split data into {num_batches} batch files in:\\n{BATCH_OUTPUT_DIR}\")"
   ]
  }
 ],
 "metadata": {
  "kernelspec": {
   "display_name": "music_data_chartmetric",
   "language": "python",
   "name": "python3"
  },
  "language_info": {
   "codemirror_mode": {
    "name": "ipython",
    "version": 3
   },
   "file_extension": ".py",
   "mimetype": "text/x-python",
   "name": "python",
   "nbconvert_exporter": "python",
   "pygments_lexer": "ipython3",
   "version": "3.12.8"
  }
 },
 "nbformat": 4,
 "nbformat_minor": 2
}
