{
 "cells": [
  {
   "cell_type": "code",
   "execution_count": null,
   "id": "b6625a47",
   "metadata": {},
   "outputs": [],
   "source": [
    "\t# Author: Alexander Staub\n",
    "\t## Last changed: 2025.08.26\n",
    "\t## Purpose: Checking the overlap between Khwan's audio char data and our data"
   ]
  },
  {
   "cell_type": "code",
   "execution_count": 3,
   "id": "f16f0470",
   "metadata": {},
   "outputs": [],
   "source": [
    "#importing packages\n",
    "import pandas as pd\n",
    "import numpy as np\n",
    "import os\n",
    "import csv\n"
   ]
  },
  {
   "cell_type": "code",
   "execution_count": 12,
   "id": "13208e93",
   "metadata": {},
   "outputs": [],
   "source": [
    "#import the dataframe \n",
    "\n",
    "country_labels = pd.read_csv(\"//bigdata.wu.ac.at/delpero/Data_alexander/data/raw_data/musicbrainz/sql_exports/release_country_labels_80_10.csv\")\n",
    "charts = pd.read_csv(\"//bigdata.wu.ac.at/delpero/Data_alexander/data/raw_data/Spotify/1980_2000_songs_artists/all_charts_songs_1980_2000_complete_clean.csv\")"
   ]
  },
  {
   "cell_type": "code",
   "execution_count": 13,
   "id": "25a06e5d",
   "metadata": {},
   "outputs": [],
   "source": [
    "#keep only columns name_country, name_label, name_label_type of country_labels\n",
    "country_labels = country_labels[['name_country', 'name_label', 'name_label_type']]\n",
    "\n",
    "#keep only label and country from the charts data\n",
    "charts_labels = charts[['label', 'country']]\n",
    "\n"
   ]
  },
  {
   "cell_type": "code",
   "execution_count": 16,
   "id": "a87a89d0",
   "metadata": {},
   "outputs": [
    {
     "name": "stderr",
     "output_type": "stream",
     "text": [
      "C:\\Users\\User\\AppData\\Local\\Temp\\ipykernel_4528\\521662322.py:5: SettingWithCopyWarning: \n",
      "A value is trying to be set on a copy of a slice from a DataFrame.\n",
      "Try using .loc[row_indexer,col_indexer] = value instead\n",
      "\n",
      "See the caveats in the documentation: https://pandas.pydata.org/pandas-docs/stable/user_guide/indexing.html#returning-a-view-versus-a-copy\n",
      "  charts_labels['count'] = charts_labels.groupby('label')['label'].transform('count')\n"
     ]
    }
   ],
   "source": [
    "#keep only unique values of 'name_label' in country_labels, and only unique values of 'label' in charts_labels,\n",
    "# but include an extra column called 'count' that counts the number of occurrences of each unique value in the original dataframe\n",
    "country_labels['count'] = country_labels.groupby('name_label')['name_label'].transform('count')\n",
    "\n",
    "charts_labels['count'] = charts_labels.groupby('label')['label'].transform('count')\n",
    "\n",
    "country_labels_unique = country_labels.drop_duplicates(subset=['name_label'])\n",
    "\n",
    "charts_labels_unique = charts_labels.drop_duplicates(subset=['label'])"
   ]
  },
  {
   "cell_type": "code",
   "execution_count": 17,
   "id": "cc72ff81",
   "metadata": {},
   "outputs": [],
   "source": [
    "# save the two dataframes as csv files \n",
    "country_labels_unique.to_csv(\"//bigdata.wu.ac.at/delpero/Data_alexander/data/incidental/khwan_related/label_names_musicbrainz_80_10.csv\", index=False)\n",
    "charts_labels_unique.to_csv(\"//bigdata.wu.ac.at/delpero/Data_alexander/data/incidental/khwan_related/label_names_charts_1980_2000.csv\", index=False)"
   ]
  }
 ],
 "metadata": {
  "kernelspec": {
   "display_name": "music_data_chartmetric",
   "language": "python",
   "name": "python3"
  },
  "language_info": {
   "codemirror_mode": {
    "name": "ipython",
    "version": 3
   },
   "file_extension": ".py",
   "mimetype": "text/x-python",
   "name": "python",
   "nbconvert_exporter": "python",
   "pygments_lexer": "ipython3",
   "version": "3.12.8"
  }
 },
 "nbformat": 4,
 "nbformat_minor": 5
}
