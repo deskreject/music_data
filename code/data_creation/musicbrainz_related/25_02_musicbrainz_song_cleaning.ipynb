{
 "cells": [
  {
   "cell_type": "markdown",
   "metadata": {},
   "source": []
  },
  {
   "cell_type": "markdown",
   "metadata": {},
   "source": [
    "\t# Author: Alexander Staub\n",
    "\t## Last changed: 2025.02.20\n",
    "\t## Purpose: cutting down the large json with 11 million songs into a dataset to check the overlap with acousticbrainz with"
   ]
  },
  {
   "cell_type": "markdown",
   "metadata": {},
   "source": [
    "# Purpose\n",
    "\n",
    "- remove duplicate recording_id level information\n",
    "- remove songs that don't have an associated record label\n",
    "- remove entries that are not really songs"
   ]
  },
  {
   "cell_type": "code",
   "execution_count": 17,
   "metadata": {},
   "outputs": [],
   "source": [
    "# load necessary packages\n",
    "#installing packages\n",
    "import pandas as pd\n",
    "from datetime import datetime\n",
    "import json\n",
    "import re  # Import the regular expression module"
   ]
  },
  {
   "cell_type": "code",
   "execution_count": 5,
   "metadata": {},
   "outputs": [],
   "source": [
    "# load in the json from Z:\\Data_alexander\\data\\raw_data\\musicbrainz\\sql_exports named release_recordings_unique_80_10_complied.json\n",
    "\n",
    "file_path_mb_songs = 'Z:/Data_alexander/data/raw_data/musicbrainz/sql_exports/release_recordings_unique_80_10_complied.json'\n",
    "file_path_mb_albums = 'Z:/Data_alexander/data/raw_data/musicbrainz/sql_exports/release_country_labels_80_10.csv'\n",
    "\n",
    "mb_songs = pd.read_csv(file_path_mb_songs)\n",
    "mb_releases = pd.read_csv(file_path_mb_albums)"
   ]
  },
  {
   "cell_type": "code",
   "execution_count": 6,
   "metadata": {},
   "outputs": [
    {
     "name": "stdout",
     "output_type": "stream",
     "text": [
      "   id_release name_medium_format  id_track  \\\n",
      "0     1275064                 CD        41   \n",
      "1     1275064                 CD        42   \n",
      "2     1275064                 CD        43   \n",
      "3     1275064                 CD        44   \n",
      "4     1275064                 CD        45   \n",
      "\n",
      "                             mbid_track  id_recording  \\\n",
      "0  8d13b868-aada-3aae-a31c-bc305528de52            19   \n",
      "1  6ba592c0-3788-3d6d-b900-ab5d64374054            18   \n",
      "2  87cc2257-592a-3f54-ad0f-61380cb9b346            15   \n",
      "3  7b6cd398-9867-3b70-9be8-8ee49f36bbb8            14   \n",
      "4  8dc6d377-8f15-32d6-8545-1c13f33bbd40            11   \n",
      "\n",
      "                         mbid_recording                   name_recording  \\\n",
      "0  823de184-19a6-4420-80b4-265afa81999c                   Safe From Harm   \n",
      "1  032c4ce0-b1fd-442d-8bf1-b7777e4832e7                         One Love   \n",
      "2  bef81f8f-4bcf-4308-bd66-e57018169a94                       Blue Lines   \n",
      "3  44bda0c6-7d93-4000-9b7f-b2b5a4025ad4  Be Thankful for What You’ve Got   \n",
      "4  b30b9943-9100-4d84-9ad2-69859ea88fbb                    Five Man Army   \n",
      "\n",
      "   id_artist_credit name_artist_credit  \n",
      "0                 4     Massive Attack  \n",
      "1                 4     Massive Attack  \n",
      "2                 4     Massive Attack  \n",
      "3                 4     Massive Attack  \n",
      "4                 4     Massive Attack  \n",
      "   id_release  date_year  date_month  date_day  id_country name_country  \\\n",
      "0     1968996       2010         NaN       NaN          14      Austria   \n",
      "1     1427936       2005         NaN       NaN          14      Austria   \n",
      "2       68494       1994         9.0      19.0          14      Austria   \n",
      "3       97102       1997         NaN       NaN          14      Austria   \n",
      "4      116365       1989         NaN       NaN          14      Austria   \n",
      "\n",
      "           name_label      name_label_type  \\\n",
      "0             monkey.            Publisher   \n",
      "1  Non Visual Objects  Original Production   \n",
      "2  KOCH International           Production   \n",
      "3  KOCH International           Production   \n",
      "4              Amadeo  Original Production   \n",
      "\n",
      "                           mbid_release        name_release  \\\n",
      "0  716787a0-b8e0-43fd-a056-c228015c1b75     Maximum Minisex   \n",
      "1  69020faf-0f54-463b-adc7-852ebb1b693c           Bradycard   \n",
      "2  fa29306e-b128-4e19-a9ac-f0256696a688  Im Namen der Liebe   \n",
      "3  587ae7f9-7432-3aec-bc3c-4c9b0f474a63  Who Dominates Who?   \n",
      "4  89c82c55-11ad-43a0-b67a-58d882b4654f       Liagn & lochn   \n",
      "\n",
      "  name_release_g_type  id_artist_credit  \n",
      "0               Album            245346  \n",
      "1               Album            466986  \n",
      "2               Album             49605  \n",
      "3               Album            210470  \n",
      "4               Album             56009  \n"
     ]
    }
   ],
   "source": [
    "#print heads of both dataframes\n",
    "print(mb_songs.head())\n",
    "print(mb_releases.head())"
   ]
  },
  {
   "cell_type": "code",
   "execution_count": 8,
   "metadata": {},
   "outputs": [
    {
     "name": "stdout",
     "output_type": "stream",
     "text": [
      "name_release_g_type\n",
      "Album        741201\n",
      "Single       164270\n",
      "EP            75771\n",
      "Other         12343\n",
      "Broadcast      1030\n",
      "Name: count, dtype: int64\n"
     ]
    }
   ],
   "source": [
    "#create a a summary of counts of the column name_release_g_type\n",
    "print(mb_releases['name_release_g_type'].value_counts())"
   ]
  },
  {
   "cell_type": "code",
   "execution_count": 12,
   "metadata": {},
   "outputs": [],
   "source": [
    "#create seperate dataframes of Broadcasts and Other type\n",
    "mb_broadcasts = mb_releases[mb_releases['name_release_g_type'] == 'Broadcast']\n",
    "\n",
    "mb_other = mb_releases[mb_releases['name_release_g_type'] == 'Other']"
   ]
  },
  {
   "cell_type": "code",
   "execution_count": null,
   "metadata": {},
   "outputs": [],
   "source": [
    "# Convert the \"name_release\" column to a string and print it\n",
    "name_release_str = mb_other['name_release'].to_string(index=False)\n",
    "\n",
    "# Print the string\n",
    "print(name_release_str)"
   ]
  },
  {
   "cell_type": "code",
   "execution_count": 9,
   "metadata": {},
   "outputs": [
    {
     "name": "stdout",
     "output_type": "stream",
     "text": [
      "name_label\n",
      "[no label]            25070\n",
      "Columbia              14034\n",
      "Polydor                9049\n",
      "EMI                    8372\n",
      "Virgin                 7992\n",
      "                      ...  \n",
      "EsionGod                  1\n",
      "Mediarock                 1\n",
      "Qasida                    1\n",
      "Empty Boat Records        1\n",
      "Sambuca Records           1\n",
      "Name: count, Length: 83137, dtype: int64\n"
     ]
    }
   ],
   "source": [
    "#create a summary of counts of the column name_label \n",
    "print(mb_releases['name_label'].value_counts())"
   ]
  },
  {
   "cell_type": "code",
   "execution_count": 16,
   "metadata": {},
   "outputs": [],
   "source": [
    "# remove all observations where the name_label == [no label]\n",
    "mb_releases_filtered = mb_releases[mb_releases['name_label'] != '[no label]']"
   ]
  },
  {
   "cell_type": "code",
   "execution_count": 18,
   "metadata": {},
   "outputs": [],
   "source": [
    "#remove all observations where the name_release_g_type == Broadcast\n",
    "mb_releases_filtered = mb_releases_filtered[mb_releases_filtered['name_release_g_type'] != 'Broadcast']"
   ]
  },
  {
   "cell_type": "code",
   "execution_count": 28,
   "metadata": {},
   "outputs": [],
   "source": [
    "#recategorize all observations where the name_release_g_type == Other to Album and matches the expressions below\n",
    "def identify_and_recategorize_compilations(df):\n",
    "    \"\"\"\n",
    "    Identifies potential compilation/greatest hits releases in a DataFrame\n",
    "    and recategorizes them as \"album\".\n",
    "\n",
    "    Args:\n",
    "        df: pandas DataFrame containing MusicBrainz release data.  Must have\n",
    "            columns named 'name_release' and 'name_release_g_type'.\n",
    "\n",
    "    Returns:\n",
    "        A tuple containing:\n",
    "          1. A new pandas DataFrame with the identified releases recategorized.\n",
    "          2. A list of the release names that were recategorized.\n",
    "    \"\"\"\n",
    "\n",
    "    df_copy = mb_releases_filtered.copy()\n",
    "    compilation_names = []  # Initialize an empty list to store identified names\n",
    "\n",
    "    # --- Identification Logic (Regular Expressions) ---\n",
    "    patterns = [\n",
    "        r\".*(greatest hits|best of|collection|anthology|years|sounds of|classics).*\",  # Common keywords\n",
    "        r\".*(compilation|sampler).*\", #compilation and sampler\n",
    "        r\".*(\\bvol\\b|\\bvolume\\b).*\\d+.*\", # Volumes\n",
    "        r\".*\\d{4}[s]?\\b.*\", # Decades\n",
    "        r\".*(the essential|ultimate|definitive).*\",\n",
    "        r\".*(gold|platinum|diamond|anniversary).*\",\n",
    "        r\".*edition.*\",\n",
    "        r\".*(\\bHits\\b).*\"\n",
    "    ]\n",
    "\n",
    "    for index, row in df_copy.iterrows():\n",
    "      name_release = row['name_release']\n",
    "      if isinstance(name_release, str):  # Make sure the name_release is a string.\n",
    "        name_release_lower = name_release.lower()\n",
    "        for pattern in patterns:\n",
    "            if re.match(pattern, name_release_lower):\n",
    "                if (\n",
    "                    \"demo\" not in name_release_lower and\n",
    "                    \"interview\" not in name_release_lower and\n",
    "                    #\"live\" not in name_release_lower and\n",
    "                    \"session\" not in name_release_lower and\n",
    "                    \"promo\" not in name_release_lower and\n",
    "                    \"soundtrack\" not in name_release_lower and  # Exclude soundtracks of the *score*\n",
    "                    \"sampler\" not in name_release_lower and\n",
    "                    (\"soundtrack\" not in name_release_lower or ((\"various\" in name_release_lower or \"artists\" in name_release_lower) and \"soundtrack\" in name_release_lower))\n",
    "                ):\n",
    "                    compilation_names.append(name_release)\n",
    "                    break #once matched, no need to check other paterns\n",
    "\n",
    "    # --- Recategorization (using .loc, as before) ---\n",
    "    df_copy.loc[df_copy['name_release'].isin(compilation_names), 'name_release_g_type'] = 'Album'\n",
    "\n",
    "    return df_copy, compilation_names"
   ]
  },
  {
   "cell_type": "code",
   "execution_count": 29,
   "metadata": {},
   "outputs": [],
   "source": [
    "#Call the function to identify and recategorize\n",
    "mb_releases_recategorized, identified_compilations = identify_and_recategorize_compilations(mb_releases_filtered)"
   ]
  },
  {
   "cell_type": "code",
   "execution_count": 30,
   "metadata": {},
   "outputs": [
    {
     "name": "stdout",
     "output_type": "stream",
     "text": [
      "\n",
      "Verification\n",
      "                  name_release name_release_g_type\n",
      "0              Maximum Minisex               Album\n",
      "1                    Bradycard               Album\n",
      "2           Im Namen der Liebe               Album\n",
      "3           Who Dominates Who?               Album\n",
      "4                Liagn & lochn               Album\n",
      "...                        ...                 ...\n",
      "1009562  Southern Rock Masters               Album\n",
      "1009563                  Actor               Album\n",
      "1009564       Burning Memories               Album\n",
      "1009565                  Karma               Album\n",
      "1009566           Appassionato               Album\n",
      "\n",
      "[733503 rows x 2 columns]\n",
      "\n",
      " Number of rows changed:  733503\n",
      "\n",
      " Number of compilations identified: 103901\n"
     ]
    }
   ],
   "source": [
    "#Verification, to check how many rows were changes, and to quickly visualize\n",
    "#the changes\n",
    "print(\"\\nVerification\")\n",
    "print(mb_releases_recategorized[mb_releases_recategorized[\"name_release_g_type\"]==\"Album\"][[\"name_release\", \"name_release_g_type\"]])\n",
    "print(f\"\\n Number of rows changed:  {(mb_releases_recategorized['name_release_g_type'] == 'Album').sum()}\")\n",
    "print(f\"\\n Number of compilations identified: {len(identified_compilations)}\")"
   ]
  },
  {
   "cell_type": "code",
   "execution_count": 32,
   "metadata": {},
   "outputs": [
    {
     "name": "stdout",
     "output_type": "stream",
     "text": [
      "name_release_g_type\n",
      "Album     733503\n",
      "Single    159878\n",
      "EP         67009\n",
      "Other      10507\n",
      "Name: count, dtype: int64\n",
      "name_release_g_type\n",
      "Album     725686\n",
      "Single    162656\n",
      "EP         69473\n",
      "Other      11432\n",
      "Name: count, dtype: int64\n"
     ]
    }
   ],
   "source": [
    "#create a summary of counts of the column name_label \n",
    "print(mb_releases_recategorized['name_release_g_type'].value_counts())\n",
    "print(mb_releases_filtered['name_release_g_type'].value_counts())"
   ]
  },
  {
   "cell_type": "code",
   "execution_count": 33,
   "metadata": {},
   "outputs": [],
   "source": [
    "#remove all observations where the name_release_g_type == Other\n",
    "mb_releases_recategorized = mb_releases_recategorized[mb_releases_recategorized['name_release_g_type'] != 'Other']"
   ]
  },
  {
   "cell_type": "code",
   "execution_count": 34,
   "metadata": {},
   "outputs": [],
   "source": [
    "# create a random sample of 500 rows as a new dataframe named \"random_sample_releases\" from the mb_releases_recategorized dataframe\n",
    "random_sample_releases = mb_releases_recategorized.sample(n=500)"
   ]
  },
  {
   "cell_type": "markdown",
   "metadata": {},
   "source": [
    "# Removal of duplicate recording ids and the releases that were removed from the songs dataframe"
   ]
  },
  {
   "cell_type": "code",
   "execution_count": 36,
   "metadata": {},
   "outputs": [],
   "source": [
    "#remove all duplicates of the recording_id column in the mb_songs dataframe\n",
    "mb_songs_unique_id = mb_songs.drop_duplicates(subset='id_recording')"
   ]
  },
  {
   "cell_type": "code",
   "execution_count": 37,
   "metadata": {},
   "outputs": [],
   "source": [
    "#remove all rows that don't have the release ids of the mb_releases_recategorized dataframe in the mb_songs_unique_id dataframe\n",
    "# Get the list of unique id_release values from mb_releases_recategorized\n",
    "valid_id_releases = mb_releases_recategorized['id_release'].unique()\n",
    "\n",
    "# Filter mb_songs_unique_id to keep only rows with id_release values present in valid_id_releases\n",
    "mb_songs_unique_id = mb_songs_unique_id[mb_songs_unique_id['id_release'].isin(valid_id_releases)]\n"
   ]
  },
  {
   "cell_type": "code",
   "execution_count": 38,
   "metadata": {},
   "outputs": [],
   "source": [
    "# save both mb_songs_unique_id and mb_releases_recategorized as csv files in \n",
    "# the Z:\\Data_alexander\\data\\raw_data\\musicbrainz\\sql_exports\\musicbrainz_data_refined folder\n",
    "mb_songs_unique_id.to_csv('Z:/Data_alexander/data/raw_data/musicbrainz/sql_exports/musicbrainz_data_refined/release_recordings_unique_80_10_refined.csv', index=False)\n",
    "mb_releases_recategorized.to_csv('Z:/Data_alexander/data/raw_data/musicbrainz/sql_exports/musicbrainz_data_refined/release_country_labels_80_10_refined.csv', index=False)"
   ]
  }
 ],
 "metadata": {
  "kernelspec": {
   "display_name": "music_data_chartmetric",
   "language": "python",
   "name": "python3"
  },
  "language_info": {
   "codemirror_mode": {
    "name": "ipython",
    "version": 3
   },
   "file_extension": ".py",
   "mimetype": "text/x-python",
   "name": "python",
   "nbconvert_exporter": "python",
   "pygments_lexer": "ipython3",
   "version": "3.12.8"
  }
 },
 "nbformat": 4,
 "nbformat_minor": 2
}
