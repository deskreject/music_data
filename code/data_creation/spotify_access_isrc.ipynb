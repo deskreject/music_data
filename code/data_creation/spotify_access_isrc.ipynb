{
 "cells": [
  {
   "attachments": {},
   "cell_type": "markdown",
   "metadata": {},
   "source": [
    "\t# Author: Alexander Staub\n",
    "\t## Last changed: 2023.03.21\n",
    "\t## Purpose: Accessing the Spotify API\n"
   ]
  },
  {
   "attachments": {},
   "cell_type": "markdown",
   "metadata": {},
   "source": [
    "# Done to dos:\n",
    "* rate limits: 10/second without rate limit extension\n",
    "* changed the .append to .concat in the loop to avoid warnings \n",
    "* added the audio feature elements from spotify - all of them according to gpt-4\n"
   ]
  },
  {
   "attachments": {},
   "cell_type": "markdown",
   "metadata": {},
   "source": [
    "# Next up to dos - 23.03.28\n",
    "\n",
    "* with the first random sample, a number of songs were not matched. Think of a way to get all the songs that weren't matched into a seperate dataframe\n"
   ]
  },
  {
   "cell_type": "code",
   "execution_count": 26,
   "metadata": {},
   "outputs": [],
   "source": [
    "#library loading\n",
    "\n",
    "import os\n",
    "import spotipy # lightweight Python library for the Spotify Web API\n",
    "import pandas as pd\n",
    "from spotipy.oauth2 import SpotifyClientCredentials # to access authorised Spotify data\n",
    "import json # to read json files\n",
    "import time # to time the code\n",
    "import requests # to make http requests"
   ]
  },
  {
   "cell_type": "code",
   "execution_count": 10,
   "metadata": {},
   "outputs": [
    {
     "name": "stdout",
     "output_type": "stream",
     "text": [
      "c:\\Users\\User\\Documents\\R_Work\\research\\music_data\n"
     ]
    }
   ],
   "source": [
    "# path specification - using os\n",
    "\n",
    "# Get the current working directory\n",
    "current_dir = os.getcwd()\n",
    "\n",
    "# Navigate up two levels to the root directory\n",
    "root_dir = os.path.abspath(os.path.join(current_dir, '..', '..'))\n",
    "\n",
    "print(root_dir)\n"
   ]
  },
  {
   "cell_type": "code",
   "execution_count": 4,
   "metadata": {},
   "outputs": [],
   "source": [
    "# get the client id and client secret for my account\n",
    "\n",
    "# access the spotify credentials from the json file and store it as variable \"f\"\n",
    "with open('spotify_credentials.json') as f:\n",
    "\n",
    "    # transform the json file into a dictionary\n",
    "    data = json.load(f)\n",
    "    client_id = data['SPOTIPY_CLIENT_ID']\n",
    "    client_secret = data['SPOTIPY_CLIENT_SECRET']\n",
    "\n",
    "if not client_id or not client_secret:\n",
    "    raise ValueError(\"Spotify API credentials not found in environment variables\")\n",
    "\n",
    "sp = spotipy.Spotify(auth_manager=SpotifyClientCredentials(client_id=client_id, client_secret=client_secret))"
   ]
  },
  {
   "cell_type": "code",
   "execution_count": 13,
   "metadata": {},
   "outputs": [],
   "source": [
    "# load in the random sample w isrcs into a dataframe\n",
    "\n",
    "# Create the path to the CSV file\n",
    "csv_file_path = os.path.join(root_dir, 'data', 'interim_data', 'random_sample_w_iscrcs_mb_v5_export.csv')"
   ]
  },
  {
   "cell_type": "code",
   "execution_count": 14,
   "metadata": {},
   "outputs": [],
   "source": [
    "#detect the encoding of the csv\n",
    "\n",
    "import chardet    \n",
    "\n",
    "rawdata = open(csv_file_path, \"rb\").read()\n",
    "result = chardet.detect(rawdata)\n",
    "charenc = result['encoding']"
   ]
  },
  {
   "cell_type": "code",
   "execution_count": 16,
   "metadata": {},
   "outputs": [],
   "source": [
    "# Now read the CSV into a DataFrame\n",
    "sample_songs_w_isrcs = pd.read_csv(csv_file_path, encoding=charenc)\n",
    "\n",
    "#remove the column named \"unnamed\" from the sample_songs_w_isrcs dataframe\n",
    "sample_songs_w_isrcs = sample_songs_w_isrcs.loc[:, ~sample_songs_w_isrcs.columns.str.contains('^Unnamed')]\n"
   ]
  },
  {
   "cell_type": "markdown",
   "metadata": {},
   "source": [
    "Currently, the loaded dataframe includes variables of the type \"object\" - which means that they are some generic form of data type.\n",
    "Converting all but date to string will make it easier to access spotify API"
   ]
  },
  {
   "cell_type": "code",
   "execution_count": 19,
   "metadata": {},
   "outputs": [],
   "source": [
    "#loop through all variables and convert them to strings - except the date column\n",
    "for col in sample_songs_w_isrcs.columns:\n",
    "    if col != 'date':\n",
    "        sample_songs_w_isrcs[col] = sample_songs_w_isrcs[col].astype(str)\n",
    "\n"
   ]
  },
  {
   "cell_type": "markdown",
   "metadata": {},
   "source": [
    "The code below is meant to:\n",
    "- check the ISRC codes in the musicbrainz dataframe and collect the name of thesong, artist and acoustic charactersitics from the Spotify Api\n",
    "- respect the rate limits of 10 requests per second\n",
    "- save the data periodically in case of some error\n",
    "- collect data about unmatched isrcs in a seperate file for later review\n",
    "- not restart from 0 in case the operation fails, but check what was already collected"
   ]
  },
  {
   "cell_type": "code",
   "execution_count": 21,
   "metadata": {},
   "outputs": [
    {
     "name": "stdout",
     "output_type": "stream",
     "text": [
      "c:\\Users\\User\\Documents\\R_Work\\research\\music_data\\data\\interim_data\\spotify_isrc_sample\n"
     ]
    }
   ],
   "source": [
    "# create the save path\n",
    "save_path = os.path.join(root_dir, \"data\", \"interim_data\", \"spotify_isrc_sample\")\n",
    "\n",
    "print(save_path)"
   ]
  },
  {
   "cell_type": "code",
   "execution_count": 29,
   "metadata": {},
   "outputs": [],
   "source": [
    "#try whether the the dataframe already exists or whether it needs to be created\n",
    "\n",
    "try:\n",
    "    df_spotify = pd.read_csv(os.path.join(save_path, \"partial_spotify_data.csv\"))\n",
    "except FileNotFoundError:\n",
    "    df_spotify = pd.DataFrame()\n",
    "\n",
    "try:\n",
    "    with open(os.path.join(save_path, \"unmatched_isrcs.json\"), \"r\") as f:\n",
    "        unmatched_isrcs = json.load(f)\n",
    "except FileNotFoundError:\n",
    "    unmatched_isrcs = []\n",
    "\n",
    "# List to hold dictionaries to append to df_spotify\n",
    "data_to_append = []  \n"
   ]
  },
  {
   "cell_type": "code",
   "execution_count": 30,
   "metadata": {},
   "outputs": [],
   "source": [
    "# Track where you are in the loop in case you have to restart\n",
    "start_point = 0\n",
    "try:\n",
    "    # Check if a start_point file exists (this assumes the file holds an integer)\n",
    "    with open(os.path.join(save_path, \"start_point.txt\"), \"r\") as f:\n",
    "        start_point = int(f.read())\n",
    "except FileNotFoundError:\n",
    "    pass"
   ]
  },
  {
   "cell_type": "code",
   "execution_count": null,
   "metadata": {},
   "outputs": [],
   "source": [
    "# Loop through your Musicbrainz dataframe\n",
    "for i, row in sample_songs_w_isrcs.iloc[start_point:].iterrows():\n",
    "    \n",
    "    isrc = row['ISRC']\n",
    "    \n",
    "    try:\n",
    "        # Search for track by ISRC\n",
    "        results = sp.search(q=f'isrc:{isrc}', type='track')\n",
    "        \n",
    "        # Check if the search returned any tracks\n",
    "        if results['tracks']['items']:\n",
    "            track = results['tracks']['items'][0]\n",
    "            \n",
    "            # Fetch audio features using Spotify ID\n",
    "            audio_features = sp.audio_features(track[\"id\"])[0]\n",
    "\n",
    "            # Extract and append information to df_spotify\n",
    "            if audio_features is not None:\n",
    "                track_info = {\n",
    "                    \"ISRC\": isrc,\n",
    "                    \"name\": track[\"name\"],\n",
    "                    \"artist\": track[\"artists\"][0][\"name\"],\n",
    "                    **audio_features\n",
    "                }\n",
    "                data_to_append.append(track_info)\n",
    "            else:\n",
    "                print(f\"Audio features missing for ISRC: {isrc}\")\n",
    "                unmatched_isrcs.append((i, isrc))\n",
    "        else:\n",
    "            print(f\"Couldn't match ISRC: {isrc}\")\n",
    "            unmatched_isrcs.append((i, isrc))\n",
    "\n",
    "    except requests.exceptions.HTTPError as err:\n",
    "        if err.response.status_code == 429:  # HTTP Status Code for Too Many Requests\n",
    "            time.sleep(1)  # Pause for 1 second and then retry\n",
    "            continue\n",
    "        else:\n",
    "            print(f\"HTTP Error for ISRC: {isrc}, Error: {err}\")\n",
    "            unmatched_isrcs.append((i, isrc))\n",
    "        \n",
    "    # Manage rate limits (Spotify API allows 10 requests per second)\n",
    "    time.sleep(0.2)\n",
    "    \n",
    "    # Save start_point\n",
    "    with open(os.path.join(save_path, \"start_point.txt\"), \"w\") as f:\n",
    "        f.write(str(i))\n",
    "    \n",
    "    # You may also want to save your results periodically to a CSV or JSON\n",
    "    if i % 100 == 0:\n",
    "        df_spotify.to_csv(os.path.join(save_path, \"partial_spotify_data.csv\"), index=False)\n",
    "        with open(os.path.join(save_path, \"unmatched_isrcs.json\"), \"w\") as f:\n",
    "            json.dump(unmatched_isrcs, f)\n",
    "\n",
    "\n",
    "#Use pandas.concat to append all rows at once\n",
    "if data_to_append:\n",
    "    df_spotify = pd.concat([df_spotify, pd.DataFrame(data_to_append)], ignore_index=True)\n",
    "\n",
    "\n",
    "# Save your results\n",
    "df_spotify.to_csv(os.path.join(save_path, \"complete_spotify_data.csv\"), index=False)\n",
    "with open(os.path.join(save_path, \"unmatched_isrcs.json\"), \"w\") as f:\n",
    "    json.dump(unmatched_isrcs, f)"
   ]
  },
  {
   "cell_type": "markdown",
   "metadata": {},
   "source": [
    "# First random sample of songs - without ISRC\n",
    "To do:\n",
    "- move this into a new Jupyter notebook"
   ]
  },
  {
   "cell_type": "code",
   "execution_count": 1,
   "metadata": {},
   "outputs": [],
   "source": [
    "import os\n",
    "import spotipy # lightweight Python library for the Spotify Web API\n",
    "import pandas as pd\n",
    "from spotipy.oauth2 import SpotifyClientCredentials # to access authorised Spotify data"
   ]
  },
  {
   "cell_type": "code",
   "execution_count": 2,
   "metadata": {},
   "outputs": [],
   "source": [
    "# package for accessing the local environment variables\n",
    "import os\n",
    "\n",
    "# get the client id and client secret from the environment variables\n",
    "client_id = os.environ.get('SPOTIPY_CLIENT_ID')\n",
    "client_secret = os.environ.get('SPOTIPY_CLIENT_SECRET')\n",
    "\n",
    "if not client_id or not client_secret:\n",
    "    raise ValueError(\"Spotify API credentials not found in environment variables\")\n",
    "\n",
    "sp = spotipy.Spotify(auth_manager=SpotifyClientCredentials(client_id=client_id, client_secret=client_secret))"
   ]
  },
  {
   "cell_type": "code",
   "execution_count": 3,
   "metadata": {},
   "outputs": [],
   "source": [
    "#required package\n",
    "\n",
    "from pandas import read_csv\n",
    "\n",
    "# loading in the csv file with the songs from billboard and musicbrainz\n",
    "\n",
    "df_HH_mb_matched = read_csv('C:/R work/Research/music_data/data/interim_data/df_hh_and_mb_leftjoin_fuzzy.csv')"
   ]
  },
  {
   "cell_type": "code",
   "execution_count": 5,
   "metadata": {},
   "outputs": [],
   "source": [
    "# draw a random observation from the dataframe, retaining only the first two columns \n",
    "random_100_df = df_HH_mb_matched.sample(100)[['Artist', 'Track']]\n",
    "\n"
   ]
  },
  {
   "cell_type": "code",
   "execution_count": 6,
   "metadata": {},
   "outputs": [],
   "source": [
    "#create the song infor retreival function\n",
    "\n",
    "# added a bit to the function to handle errors and retries\n",
    "import time\n",
    "\n",
    "#here the max retries is 3\n",
    "def get_song_data(song_name, artist_name, max_retries=3):\n",
    "    query = f'track:{song_name} artist:{artist_name}'\n",
    "    retries = 0\n",
    "    \n",
    "    #while loop to retry the query if it fails n times (as defined by max_retries)\n",
    "    while retries <= max_retries:\n",
    "        try:\n",
    "            results = sp.search(q=query, type='track', limit=1)\n",
    "            \n",
    "            if results['tracks']['items']:\n",
    "                track = results['tracks']['items'][0]\n",
    "\n",
    "               # Get the track's ID\n",
    "                track_id = track['id']\n",
    "                \n",
    "                # Get the audio features for the track\n",
    "                audio_features = sp.audio_features([track_id])[0]\n",
    "\n",
    "                song_data = {\n",
    "                    'song_name': track['name'],\n",
    "                    'artist_name': track['artists'][0]['name'],\n",
    "                    'album_name_spotify': track['album']['name'],\n",
    "                    'release_date_spotify': track['album']['release_date'],\n",
    "                    'popularity': track['popularity'],\n",
    "                    'explicit': track['explicit'],\n",
    "                    'duration_ms': track['duration_ms'],\n",
    "                    # 'preview_url': track['preview_url'],\n",
    "                    'acousticness': audio_features['acousticness'],\n",
    "                    'danceability': audio_features['danceability'],\n",
    "                    'energy': audio_features['energy'],\n",
    "                    'instrumentalness': audio_features['instrumentalness'],\n",
    "                    'liveness': audio_features['liveness'],\n",
    "                    'loudness': audio_features['loudness'],\n",
    "                    'speechiness': audio_features['speechiness'],\n",
    "                    'valence': audio_features['valence'],\n",
    "                    'tempo': audio_features['tempo'],\n",
    "                    'key': audio_features['key'],\n",
    "                    'mode': audio_features['mode'], # mode is either major or minor\n",
    "                    'time_signature': audio_features['time_signature']\n",
    "                }\n",
    "                return song_data\n",
    "            else:\n",
    "                return None\n",
    "        \n",
    "        except Exception as e:\n",
    "            print(f\"Error: {e}\")\n",
    "            retries += 1\n",
    "            sleep_time = 2 ** retries\n",
    "            print(f\"Retrying ({retries}/{max_retries}) after {sleep_time} seconds\")\n",
    "            time.sleep(sleep_time)\n",
    "    \n",
    "    return None\n",
    "\n"
   ]
  },
  {
   "cell_type": "code",
   "execution_count": 11,
   "metadata": {},
   "outputs": [
    {
     "name": "stderr",
     "output_type": "stream",
     "text": [
      "C:\\Users\\astaub\\AppData\\Local\\Temp\\ipykernel_16592\\1066911844.py:24: FutureWarning: In a future version, object-dtype columns with all-bool values will not be included in reductions with bool_only=True. Explicitly cast to bool dtype instead.\n",
      "  results_df = pd.concat([results_df, song_data_df], ignore_index=True)\n"
     ]
    },
    {
     "name": "stdout",
     "output_type": "stream",
     "text": [
      "Song not found: Karma by Lloyd Banks Featuring Avant\n"
     ]
    },
    {
     "name": "stderr",
     "output_type": "stream",
     "text": [
      "C:\\Users\\astaub\\AppData\\Local\\Temp\\ipykernel_16592\\1066911844.py:24: FutureWarning: In a future version, object-dtype columns with all-bool values will not be included in reductions with bool_only=True. Explicitly cast to bool dtype instead.\n",
      "  results_df = pd.concat([results_df, song_data_df], ignore_index=True)\n",
      "C:\\Users\\astaub\\AppData\\Local\\Temp\\ipykernel_16592\\1066911844.py:24: FutureWarning: In a future version, object-dtype columns with all-bool values will not be included in reductions with bool_only=True. Explicitly cast to bool dtype instead.\n",
      "  results_df = pd.concat([results_df, song_data_df], ignore_index=True)\n",
      "C:\\Users\\astaub\\AppData\\Local\\Temp\\ipykernel_16592\\1066911844.py:24: FutureWarning: In a future version, object-dtype columns with all-bool values will not be included in reductions with bool_only=True. Explicitly cast to bool dtype instead.\n",
      "  results_df = pd.concat([results_df, song_data_df], ignore_index=True)\n",
      "C:\\Users\\astaub\\AppData\\Local\\Temp\\ipykernel_16592\\1066911844.py:24: FutureWarning: In a future version, object-dtype columns with all-bool values will not be included in reductions with bool_only=True. Explicitly cast to bool dtype instead.\n",
      "  results_df = pd.concat([results_df, song_data_df], ignore_index=True)\n"
     ]
    },
    {
     "name": "stdout",
     "output_type": "stream",
     "text": [
      "Song not found: Area Codes by Ludacris Featuring Nate Dogg\n"
     ]
    },
    {
     "name": "stderr",
     "output_type": "stream",
     "text": [
      "C:\\Users\\astaub\\AppData\\Local\\Temp\\ipykernel_16592\\1066911844.py:24: FutureWarning: In a future version, object-dtype columns with all-bool values will not be included in reductions with bool_only=True. Explicitly cast to bool dtype instead.\n",
      "  results_df = pd.concat([results_df, song_data_df], ignore_index=True)\n",
      "C:\\Users\\astaub\\AppData\\Local\\Temp\\ipykernel_16592\\1066911844.py:24: FutureWarning: In a future version, object-dtype columns with all-bool values will not be included in reductions with bool_only=True. Explicitly cast to bool dtype instead.\n",
      "  results_df = pd.concat([results_df, song_data_df], ignore_index=True)\n",
      "C:\\Users\\astaub\\AppData\\Local\\Temp\\ipykernel_16592\\1066911844.py:24: FutureWarning: In a future version, object-dtype columns with all-bool values will not be included in reductions with bool_only=True. Explicitly cast to bool dtype instead.\n",
      "  results_df = pd.concat([results_df, song_data_df], ignore_index=True)\n",
      "C:\\Users\\astaub\\AppData\\Local\\Temp\\ipykernel_16592\\1066911844.py:24: FutureWarning: In a future version, object-dtype columns with all-bool values will not be included in reductions with bool_only=True. Explicitly cast to bool dtype instead.\n",
      "  results_df = pd.concat([results_df, song_data_df], ignore_index=True)\n",
      "C:\\Users\\astaub\\AppData\\Local\\Temp\\ipykernel_16592\\1066911844.py:24: FutureWarning: In a future version, object-dtype columns with all-bool values will not be included in reductions with bool_only=True. Explicitly cast to bool dtype instead.\n",
      "  results_df = pd.concat([results_df, song_data_df], ignore_index=True)\n",
      "C:\\Users\\astaub\\AppData\\Local\\Temp\\ipykernel_16592\\1066911844.py:24: FutureWarning: In a future version, object-dtype columns with all-bool values will not be included in reductions with bool_only=True. Explicitly cast to bool dtype instead.\n",
      "  results_df = pd.concat([results_df, song_data_df], ignore_index=True)\n",
      "C:\\Users\\astaub\\AppData\\Local\\Temp\\ipykernel_16592\\1066911844.py:24: FutureWarning: In a future version, object-dtype columns with all-bool values will not be included in reductions with bool_only=True. Explicitly cast to bool dtype instead.\n",
      "  results_df = pd.concat([results_df, song_data_df], ignore_index=True)\n",
      "C:\\Users\\astaub\\AppData\\Local\\Temp\\ipykernel_16592\\1066911844.py:24: FutureWarning: In a future version, object-dtype columns with all-bool values will not be included in reductions with bool_only=True. Explicitly cast to bool dtype instead.\n",
      "  results_df = pd.concat([results_df, song_data_df], ignore_index=True)\n",
      "C:\\Users\\astaub\\AppData\\Local\\Temp\\ipykernel_16592\\1066911844.py:24: FutureWarning: In a future version, object-dtype columns with all-bool values will not be included in reductions with bool_only=True. Explicitly cast to bool dtype instead.\n",
      "  results_df = pd.concat([results_df, song_data_df], ignore_index=True)\n",
      "C:\\Users\\astaub\\AppData\\Local\\Temp\\ipykernel_16592\\1066911844.py:24: FutureWarning: In a future version, object-dtype columns with all-bool values will not be included in reductions with bool_only=True. Explicitly cast to bool dtype instead.\n",
      "  results_df = pd.concat([results_df, song_data_df], ignore_index=True)\n",
      "C:\\Users\\astaub\\AppData\\Local\\Temp\\ipykernel_16592\\1066911844.py:24: FutureWarning: In a future version, object-dtype columns with all-bool values will not be included in reductions with bool_only=True. Explicitly cast to bool dtype instead.\n",
      "  results_df = pd.concat([results_df, song_data_df], ignore_index=True)\n"
     ]
    },
    {
     "name": "stdout",
     "output_type": "stream",
     "text": [
      "Song not found: If I Could Go! by Angie Martinez Featuring Lil' Mo & Sacario\n",
      "Song not found: Hey Luv (Anything) by Mobb Deep Featuring 112\n"
     ]
    },
    {
     "name": "stderr",
     "output_type": "stream",
     "text": [
      "C:\\Users\\astaub\\AppData\\Local\\Temp\\ipykernel_16592\\1066911844.py:24: FutureWarning: In a future version, object-dtype columns with all-bool values will not be included in reductions with bool_only=True. Explicitly cast to bool dtype instead.\n",
      "  results_df = pd.concat([results_df, song_data_df], ignore_index=True)\n"
     ]
    },
    {
     "name": "stdout",
     "output_type": "stream",
     "text": [
      "Song not found: Sympathy For The Devil (Remixes) by The Rolling Stones\n"
     ]
    },
    {
     "name": "stderr",
     "output_type": "stream",
     "text": [
      "C:\\Users\\astaub\\AppData\\Local\\Temp\\ipykernel_16592\\1066911844.py:24: FutureWarning: In a future version, object-dtype columns with all-bool values will not be included in reductions with bool_only=True. Explicitly cast to bool dtype instead.\n",
      "  results_df = pd.concat([results_df, song_data_df], ignore_index=True)\n",
      "C:\\Users\\astaub\\AppData\\Local\\Temp\\ipykernel_16592\\1066911844.py:24: FutureWarning: In a future version, object-dtype columns with all-bool values will not be included in reductions with bool_only=True. Explicitly cast to bool dtype instead.\n",
      "  results_df = pd.concat([results_df, song_data_df], ignore_index=True)\n"
     ]
    },
    {
     "name": "stdout",
     "output_type": "stream",
     "text": [
      "Song not found: Don't Think I'm Not by Kandi\n"
     ]
    },
    {
     "name": "stderr",
     "output_type": "stream",
     "text": [
      "C:\\Users\\astaub\\AppData\\Local\\Temp\\ipykernel_16592\\1066911844.py:24: FutureWarning: In a future version, object-dtype columns with all-bool values will not be included in reductions with bool_only=True. Explicitly cast to bool dtype instead.\n",
      "  results_df = pd.concat([results_df, song_data_df], ignore_index=True)\n",
      "C:\\Users\\astaub\\AppData\\Local\\Temp\\ipykernel_16592\\1066911844.py:24: FutureWarning: In a future version, object-dtype columns with all-bool values will not be included in reductions with bool_only=True. Explicitly cast to bool dtype instead.\n",
      "  results_df = pd.concat([results_df, song_data_df], ignore_index=True)\n",
      "C:\\Users\\astaub\\AppData\\Local\\Temp\\ipykernel_16592\\1066911844.py:24: FutureWarning: In a future version, object-dtype columns with all-bool values will not be included in reductions with bool_only=True. Explicitly cast to bool dtype instead.\n",
      "  results_df = pd.concat([results_df, song_data_df], ignore_index=True)\n",
      "C:\\Users\\astaub\\AppData\\Local\\Temp\\ipykernel_16592\\1066911844.py:24: FutureWarning: In a future version, object-dtype columns with all-bool values will not be included in reductions with bool_only=True. Explicitly cast to bool dtype instead.\n",
      "  results_df = pd.concat([results_df, song_data_df], ignore_index=True)\n",
      "C:\\Users\\astaub\\AppData\\Local\\Temp\\ipykernel_16592\\1066911844.py:24: FutureWarning: In a future version, object-dtype columns with all-bool values will not be included in reductions with bool_only=True. Explicitly cast to bool dtype instead.\n",
      "  results_df = pd.concat([results_df, song_data_df], ignore_index=True)\n"
     ]
    },
    {
     "name": "stdout",
     "output_type": "stream",
     "text": [
      "Song not found: Don't Think I'm Not by Kandi\n"
     ]
    },
    {
     "name": "stderr",
     "output_type": "stream",
     "text": [
      "C:\\Users\\astaub\\AppData\\Local\\Temp\\ipykernel_16592\\1066911844.py:24: FutureWarning: In a future version, object-dtype columns with all-bool values will not be included in reductions with bool_only=True. Explicitly cast to bool dtype instead.\n",
      "  results_df = pd.concat([results_df, song_data_df], ignore_index=True)\n",
      "C:\\Users\\astaub\\AppData\\Local\\Temp\\ipykernel_16592\\1066911844.py:24: FutureWarning: In a future version, object-dtype columns with all-bool values will not be included in reductions with bool_only=True. Explicitly cast to bool dtype instead.\n",
      "  results_df = pd.concat([results_df, song_data_df], ignore_index=True)\n",
      "C:\\Users\\astaub\\AppData\\Local\\Temp\\ipykernel_16592\\1066911844.py:24: FutureWarning: In a future version, object-dtype columns with all-bool values will not be included in reductions with bool_only=True. Explicitly cast to bool dtype instead.\n",
      "  results_df = pd.concat([results_df, song_data_df], ignore_index=True)\n",
      "C:\\Users\\astaub\\AppData\\Local\\Temp\\ipykernel_16592\\1066911844.py:24: FutureWarning: In a future version, object-dtype columns with all-bool values will not be included in reductions with bool_only=True. Explicitly cast to bool dtype instead.\n",
      "  results_df = pd.concat([results_df, song_data_df], ignore_index=True)\n",
      "C:\\Users\\astaub\\AppData\\Local\\Temp\\ipykernel_16592\\1066911844.py:24: FutureWarning: In a future version, object-dtype columns with all-bool values will not be included in reductions with bool_only=True. Explicitly cast to bool dtype instead.\n",
      "  results_df = pd.concat([results_df, song_data_df], ignore_index=True)\n"
     ]
    },
    {
     "name": "stdout",
     "output_type": "stream",
     "text": [
      "Song not found: Ride Wit Me by Nelly Featuring City Spud\n"
     ]
    },
    {
     "name": "stderr",
     "output_type": "stream",
     "text": [
      "C:\\Users\\astaub\\AppData\\Local\\Temp\\ipykernel_16592\\1066911844.py:24: FutureWarning: In a future version, object-dtype columns with all-bool values will not be included in reductions with bool_only=True. Explicitly cast to bool dtype instead.\n",
      "  results_df = pd.concat([results_df, song_data_df], ignore_index=True)\n",
      "C:\\Users\\astaub\\AppData\\Local\\Temp\\ipykernel_16592\\1066911844.py:24: FutureWarning: In a future version, object-dtype columns with all-bool values will not be included in reductions with bool_only=True. Explicitly cast to bool dtype instead.\n",
      "  results_df = pd.concat([results_df, song_data_df], ignore_index=True)\n",
      "C:\\Users\\astaub\\AppData\\Local\\Temp\\ipykernel_16592\\1066911844.py:24: FutureWarning: In a future version, object-dtype columns with all-bool values will not be included in reductions with bool_only=True. Explicitly cast to bool dtype instead.\n",
      "  results_df = pd.concat([results_df, song_data_df], ignore_index=True)\n",
      "C:\\Users\\astaub\\AppData\\Local\\Temp\\ipykernel_16592\\1066911844.py:24: FutureWarning: In a future version, object-dtype columns with all-bool values will not be included in reductions with bool_only=True. Explicitly cast to bool dtype instead.\n",
      "  results_df = pd.concat([results_df, song_data_df], ignore_index=True)\n",
      "C:\\Users\\astaub\\AppData\\Local\\Temp\\ipykernel_16592\\1066911844.py:24: FutureWarning: In a future version, object-dtype columns with all-bool values will not be included in reductions with bool_only=True. Explicitly cast to bool dtype instead.\n",
      "  results_df = pd.concat([results_df, song_data_df], ignore_index=True)\n",
      "C:\\Users\\astaub\\AppData\\Local\\Temp\\ipykernel_16592\\1066911844.py:24: FutureWarning: In a future version, object-dtype columns with all-bool values will not be included in reductions with bool_only=True. Explicitly cast to bool dtype instead.\n",
      "  results_df = pd.concat([results_df, song_data_df], ignore_index=True)\n",
      "C:\\Users\\astaub\\AppData\\Local\\Temp\\ipykernel_16592\\1066911844.py:24: FutureWarning: In a future version, object-dtype columns with all-bool values will not be included in reductions with bool_only=True. Explicitly cast to bool dtype instead.\n",
      "  results_df = pd.concat([results_df, song_data_df], ignore_index=True)\n",
      "C:\\Users\\astaub\\AppData\\Local\\Temp\\ipykernel_16592\\1066911844.py:24: FutureWarning: In a future version, object-dtype columns with all-bool values will not be included in reductions with bool_only=True. Explicitly cast to bool dtype instead.\n",
      "  results_df = pd.concat([results_df, song_data_df], ignore_index=True)\n",
      "C:\\Users\\astaub\\AppData\\Local\\Temp\\ipykernel_16592\\1066911844.py:24: FutureWarning: In a future version, object-dtype columns with all-bool values will not be included in reductions with bool_only=True. Explicitly cast to bool dtype instead.\n",
      "  results_df = pd.concat([results_df, song_data_df], ignore_index=True)\n",
      "C:\\Users\\astaub\\AppData\\Local\\Temp\\ipykernel_16592\\1066911844.py:24: FutureWarning: In a future version, object-dtype columns with all-bool values will not be included in reductions with bool_only=True. Explicitly cast to bool dtype instead.\n",
      "  results_df = pd.concat([results_df, song_data_df], ignore_index=True)\n",
      "C:\\Users\\astaub\\AppData\\Local\\Temp\\ipykernel_16592\\1066911844.py:24: FutureWarning: In a future version, object-dtype columns with all-bool values will not be included in reductions with bool_only=True. Explicitly cast to bool dtype instead.\n",
      "  results_df = pd.concat([results_df, song_data_df], ignore_index=True)\n",
      "C:\\Users\\astaub\\AppData\\Local\\Temp\\ipykernel_16592\\1066911844.py:24: FutureWarning: In a future version, object-dtype columns with all-bool values will not be included in reductions with bool_only=True. Explicitly cast to bool dtype instead.\n",
      "  results_df = pd.concat([results_df, song_data_df], ignore_index=True)\n",
      "C:\\Users\\astaub\\AppData\\Local\\Temp\\ipykernel_16592\\1066911844.py:24: FutureWarning: In a future version, object-dtype columns with all-bool values will not be included in reductions with bool_only=True. Explicitly cast to bool dtype instead.\n",
      "  results_df = pd.concat([results_df, song_data_df], ignore_index=True)\n",
      "C:\\Users\\astaub\\AppData\\Local\\Temp\\ipykernel_16592\\1066911844.py:24: FutureWarning: In a future version, object-dtype columns with all-bool values will not be included in reductions with bool_only=True. Explicitly cast to bool dtype instead.\n",
      "  results_df = pd.concat([results_df, song_data_df], ignore_index=True)\n",
      "C:\\Users\\astaub\\AppData\\Local\\Temp\\ipykernel_16592\\1066911844.py:24: FutureWarning: In a future version, object-dtype columns with all-bool values will not be included in reductions with bool_only=True. Explicitly cast to bool dtype instead.\n",
      "  results_df = pd.concat([results_df, song_data_df], ignore_index=True)\n",
      "C:\\Users\\astaub\\AppData\\Local\\Temp\\ipykernel_16592\\1066911844.py:24: FutureWarning: In a future version, object-dtype columns with all-bool values will not be included in reductions with bool_only=True. Explicitly cast to bool dtype instead.\n",
      "  results_df = pd.concat([results_df, song_data_df], ignore_index=True)\n",
      "C:\\Users\\astaub\\AppData\\Local\\Temp\\ipykernel_16592\\1066911844.py:24: FutureWarning: In a future version, object-dtype columns with all-bool values will not be included in reductions with bool_only=True. Explicitly cast to bool dtype instead.\n",
      "  results_df = pd.concat([results_df, song_data_df], ignore_index=True)\n"
     ]
    },
    {
     "name": "stdout",
     "output_type": "stream",
     "text": [
      "Song not found: Untitled (How Does It Feel) by D'Angelo\n"
     ]
    },
    {
     "name": "stderr",
     "output_type": "stream",
     "text": [
      "C:\\Users\\astaub\\AppData\\Local\\Temp\\ipykernel_16592\\1066911844.py:24: FutureWarning: In a future version, object-dtype columns with all-bool values will not be included in reductions with bool_only=True. Explicitly cast to bool dtype instead.\n",
      "  results_df = pd.concat([results_df, song_data_df], ignore_index=True)\n",
      "C:\\Users\\astaub\\AppData\\Local\\Temp\\ipykernel_16592\\1066911844.py:24: FutureWarning: In a future version, object-dtype columns with all-bool values will not be included in reductions with bool_only=True. Explicitly cast to bool dtype instead.\n",
      "  results_df = pd.concat([results_df, song_data_df], ignore_index=True)\n"
     ]
    },
    {
     "name": "stdout",
     "output_type": "stream",
     "text": [
      "Song not found: What Happened To That Boy by Baby Featuring Clipse\n"
     ]
    },
    {
     "name": "stderr",
     "output_type": "stream",
     "text": [
      "C:\\Users\\astaub\\AppData\\Local\\Temp\\ipykernel_16592\\1066911844.py:24: FutureWarning: In a future version, object-dtype columns with all-bool values will not be included in reductions with bool_only=True. Explicitly cast to bool dtype instead.\n",
      "  results_df = pd.concat([results_df, song_data_df], ignore_index=True)\n",
      "C:\\Users\\astaub\\AppData\\Local\\Temp\\ipykernel_16592\\1066911844.py:24: FutureWarning: In a future version, object-dtype columns with all-bool values will not be included in reductions with bool_only=True. Explicitly cast to bool dtype instead.\n",
      "  results_df = pd.concat([results_df, song_data_df], ignore_index=True)\n",
      "C:\\Users\\astaub\\AppData\\Local\\Temp\\ipykernel_16592\\1066911844.py:24: FutureWarning: In a future version, object-dtype columns with all-bool values will not be included in reductions with bool_only=True. Explicitly cast to bool dtype instead.\n",
      "  results_df = pd.concat([results_df, song_data_df], ignore_index=True)\n",
      "C:\\Users\\astaub\\AppData\\Local\\Temp\\ipykernel_16592\\1066911844.py:24: FutureWarning: In a future version, object-dtype columns with all-bool values will not be included in reductions with bool_only=True. Explicitly cast to bool dtype instead.\n",
      "  results_df = pd.concat([results_df, song_data_df], ignore_index=True)\n",
      "C:\\Users\\astaub\\AppData\\Local\\Temp\\ipykernel_16592\\1066911844.py:24: FutureWarning: In a future version, object-dtype columns with all-bool values will not be included in reductions with bool_only=True. Explicitly cast to bool dtype instead.\n",
      "  results_df = pd.concat([results_df, song_data_df], ignore_index=True)\n",
      "C:\\Users\\astaub\\AppData\\Local\\Temp\\ipykernel_16592\\1066911844.py:24: FutureWarning: In a future version, object-dtype columns with all-bool values will not be included in reductions with bool_only=True. Explicitly cast to bool dtype instead.\n",
      "  results_df = pd.concat([results_df, song_data_df], ignore_index=True)\n"
     ]
    },
    {
     "name": "stdout",
     "output_type": "stream",
     "text": [
      "Song not found: Move Ya Body by Nina Sky Featuring Jabba\n"
     ]
    },
    {
     "name": "stderr",
     "output_type": "stream",
     "text": [
      "C:\\Users\\astaub\\AppData\\Local\\Temp\\ipykernel_16592\\1066911844.py:24: FutureWarning: In a future version, object-dtype columns with all-bool values will not be included in reductions with bool_only=True. Explicitly cast to bool dtype instead.\n",
      "  results_df = pd.concat([results_df, song_data_df], ignore_index=True)\n",
      "C:\\Users\\astaub\\AppData\\Local\\Temp\\ipykernel_16592\\1066911844.py:24: FutureWarning: In a future version, object-dtype columns with all-bool values will not be included in reductions with bool_only=True. Explicitly cast to bool dtype instead.\n",
      "  results_df = pd.concat([results_df, song_data_df], ignore_index=True)\n",
      "C:\\Users\\astaub\\AppData\\Local\\Temp\\ipykernel_16592\\1066911844.py:24: FutureWarning: In a future version, object-dtype columns with all-bool values will not be included in reductions with bool_only=True. Explicitly cast to bool dtype instead.\n",
      "  results_df = pd.concat([results_df, song_data_df], ignore_index=True)\n",
      "C:\\Users\\astaub\\AppData\\Local\\Temp\\ipykernel_16592\\1066911844.py:24: FutureWarning: In a future version, object-dtype columns with all-bool values will not be included in reductions with bool_only=True. Explicitly cast to bool dtype instead.\n",
      "  results_df = pd.concat([results_df, song_data_df], ignore_index=True)\n",
      "C:\\Users\\astaub\\AppData\\Local\\Temp\\ipykernel_16592\\1066911844.py:24: FutureWarning: In a future version, object-dtype columns with all-bool values will not be included in reductions with bool_only=True. Explicitly cast to bool dtype instead.\n",
      "  results_df = pd.concat([results_df, song_data_df], ignore_index=True)\n",
      "C:\\Users\\astaub\\AppData\\Local\\Temp\\ipykernel_16592\\1066911844.py:24: FutureWarning: In a future version, object-dtype columns with all-bool values will not be included in reductions with bool_only=True. Explicitly cast to bool dtype instead.\n",
      "  results_df = pd.concat([results_df, song_data_df], ignore_index=True)\n",
      "C:\\Users\\astaub\\AppData\\Local\\Temp\\ipykernel_16592\\1066911844.py:24: FutureWarning: In a future version, object-dtype columns with all-bool values will not be included in reductions with bool_only=True. Explicitly cast to bool dtype instead.\n",
      "  results_df = pd.concat([results_df, song_data_df], ignore_index=True)\n"
     ]
    },
    {
     "name": "stdout",
     "output_type": "stream",
     "text": [
      "Song not found: Gangsta Lovin' by Eve Featuring Alicia Keys\n"
     ]
    },
    {
     "name": "stderr",
     "output_type": "stream",
     "text": [
      "C:\\Users\\astaub\\AppData\\Local\\Temp\\ipykernel_16592\\1066911844.py:24: FutureWarning: In a future version, object-dtype columns with all-bool values will not be included in reductions with bool_only=True. Explicitly cast to bool dtype instead.\n",
      "  results_df = pd.concat([results_df, song_data_df], ignore_index=True)\n",
      "C:\\Users\\astaub\\AppData\\Local\\Temp\\ipykernel_16592\\1066911844.py:24: FutureWarning: In a future version, object-dtype columns with all-bool values will not be included in reductions with bool_only=True. Explicitly cast to bool dtype instead.\n",
      "  results_df = pd.concat([results_df, song_data_df], ignore_index=True)\n",
      "C:\\Users\\astaub\\AppData\\Local\\Temp\\ipykernel_16592\\1066911844.py:24: FutureWarning: In a future version, object-dtype columns with all-bool values will not be included in reductions with bool_only=True. Explicitly cast to bool dtype instead.\n",
      "  results_df = pd.concat([results_df, song_data_df], ignore_index=True)\n",
      "C:\\Users\\astaub\\AppData\\Local\\Temp\\ipykernel_16592\\1066911844.py:24: FutureWarning: In a future version, object-dtype columns with all-bool values will not be included in reductions with bool_only=True. Explicitly cast to bool dtype instead.\n",
      "  results_df = pd.concat([results_df, song_data_df], ignore_index=True)\n"
     ]
    },
    {
     "name": "stdout",
     "output_type": "stream",
     "text": [
      "Song not found: Drift Away by Uncle Kracker Featuring Dobie Gray\n"
     ]
    },
    {
     "name": "stderr",
     "output_type": "stream",
     "text": [
      "C:\\Users\\astaub\\AppData\\Local\\Temp\\ipykernel_16592\\1066911844.py:24: FutureWarning: In a future version, object-dtype columns with all-bool values will not be included in reductions with bool_only=True. Explicitly cast to bool dtype instead.\n",
      "  results_df = pd.concat([results_df, song_data_df], ignore_index=True)\n",
      "C:\\Users\\astaub\\AppData\\Local\\Temp\\ipykernel_16592\\1066911844.py:24: FutureWarning: In a future version, object-dtype columns with all-bool values will not be included in reductions with bool_only=True. Explicitly cast to bool dtype instead.\n",
      "  results_df = pd.concat([results_df, song_data_df], ignore_index=True)\n",
      "C:\\Users\\astaub\\AppData\\Local\\Temp\\ipykernel_16592\\1066911844.py:24: FutureWarning: In a future version, object-dtype columns with all-bool values will not be included in reductions with bool_only=True. Explicitly cast to bool dtype instead.\n",
      "  results_df = pd.concat([results_df, song_data_df], ignore_index=True)\n",
      "C:\\Users\\astaub\\AppData\\Local\\Temp\\ipykernel_16592\\1066911844.py:24: FutureWarning: In a future version, object-dtype columns with all-bool values will not be included in reductions with bool_only=True. Explicitly cast to bool dtype instead.\n",
      "  results_df = pd.concat([results_df, song_data_df], ignore_index=True)\n",
      "C:\\Users\\astaub\\AppData\\Local\\Temp\\ipykernel_16592\\1066911844.py:24: FutureWarning: In a future version, object-dtype columns with all-bool values will not be included in reductions with bool_only=True. Explicitly cast to bool dtype instead.\n",
      "  results_df = pd.concat([results_df, song_data_df], ignore_index=True)\n"
     ]
    },
    {
     "name": "stdout",
     "output_type": "stream",
     "text": [
      "Song not found: Feel It Boy by Beenie Man Featuring Janet\n"
     ]
    },
    {
     "name": "stderr",
     "output_type": "stream",
     "text": [
      "C:\\Users\\astaub\\AppData\\Local\\Temp\\ipykernel_16592\\1066911844.py:24: FutureWarning: In a future version, object-dtype columns with all-bool values will not be included in reductions with bool_only=True. Explicitly cast to bool dtype instead.\n",
      "  results_df = pd.concat([results_df, song_data_df], ignore_index=True)\n",
      "C:\\Users\\astaub\\AppData\\Local\\Temp\\ipykernel_16592\\1066911844.py:24: FutureWarning: In a future version, object-dtype columns with all-bool values will not be included in reductions with bool_only=True. Explicitly cast to bool dtype instead.\n",
      "  results_df = pd.concat([results_df, song_data_df], ignore_index=True)\n",
      "C:\\Users\\astaub\\AppData\\Local\\Temp\\ipykernel_16592\\1066911844.py:24: FutureWarning: In a future version, object-dtype columns with all-bool values will not be included in reductions with bool_only=True. Explicitly cast to bool dtype instead.\n",
      "  results_df = pd.concat([results_df, song_data_df], ignore_index=True)\n",
      "C:\\Users\\astaub\\AppData\\Local\\Temp\\ipykernel_16592\\1066911844.py:24: FutureWarning: In a future version, object-dtype columns with all-bool values will not be included in reductions with bool_only=True. Explicitly cast to bool dtype instead.\n",
      "  results_df = pd.concat([results_df, song_data_df], ignore_index=True)\n",
      "C:\\Users\\astaub\\AppData\\Local\\Temp\\ipykernel_16592\\1066911844.py:24: FutureWarning: In a future version, object-dtype columns with all-bool values will not be included in reductions with bool_only=True. Explicitly cast to bool dtype instead.\n",
      "  results_df = pd.concat([results_df, song_data_df], ignore_index=True)\n",
      "C:\\Users\\astaub\\AppData\\Local\\Temp\\ipykernel_16592\\1066911844.py:24: FutureWarning: In a future version, object-dtype columns with all-bool values will not be included in reductions with bool_only=True. Explicitly cast to bool dtype instead.\n",
      "  results_df = pd.concat([results_df, song_data_df], ignore_index=True)\n"
     ]
    },
    {
     "name": "stdout",
     "output_type": "stream",
     "text": [
      "Song not found: Oochie Wally by QB Finest Featuring Nas & Bravehearts\n"
     ]
    },
    {
     "name": "stderr",
     "output_type": "stream",
     "text": [
      "C:\\Users\\astaub\\AppData\\Local\\Temp\\ipykernel_16592\\1066911844.py:24: FutureWarning: In a future version, object-dtype columns with all-bool values will not be included in reductions with bool_only=True. Explicitly cast to bool dtype instead.\n",
      "  results_df = pd.concat([results_df, song_data_df], ignore_index=True)\n",
      "C:\\Users\\astaub\\AppData\\Local\\Temp\\ipykernel_16592\\1066911844.py:24: FutureWarning: In a future version, object-dtype columns with all-bool values will not be included in reductions with bool_only=True. Explicitly cast to bool dtype instead.\n",
      "  results_df = pd.concat([results_df, song_data_df], ignore_index=True)\n",
      "C:\\Users\\astaub\\AppData\\Local\\Temp\\ipykernel_16592\\1066911844.py:24: FutureWarning: In a future version, object-dtype columns with all-bool values will not be included in reductions with bool_only=True. Explicitly cast to bool dtype instead.\n",
      "  results_df = pd.concat([results_df, song_data_df], ignore_index=True)\n",
      "C:\\Users\\astaub\\AppData\\Local\\Temp\\ipykernel_16592\\1066911844.py:24: FutureWarning: In a future version, object-dtype columns with all-bool values will not be included in reductions with bool_only=True. Explicitly cast to bool dtype instead.\n",
      "  results_df = pd.concat([results_df, song_data_df], ignore_index=True)\n",
      "C:\\Users\\astaub\\AppData\\Local\\Temp\\ipykernel_16592\\1066911844.py:24: FutureWarning: In a future version, object-dtype columns with all-bool values will not be included in reductions with bool_only=True. Explicitly cast to bool dtype instead.\n",
      "  results_df = pd.concat([results_df, song_data_df], ignore_index=True)\n"
     ]
    },
    {
     "name": "stdout",
     "output_type": "stream",
     "text": [
      "Song not found: I'm Your Angel by R. Kelly & Celine Dion\n"
     ]
    },
    {
     "name": "stderr",
     "output_type": "stream",
     "text": [
      "C:\\Users\\astaub\\AppData\\Local\\Temp\\ipykernel_16592\\1066911844.py:24: FutureWarning: In a future version, object-dtype columns with all-bool values will not be included in reductions with bool_only=True. Explicitly cast to bool dtype instead.\n",
      "  results_df = pd.concat([results_df, song_data_df], ignore_index=True)\n"
     ]
    },
    {
     "name": "stdout",
     "output_type": "stream",
     "text": [
      "Song not found: Work It by Missy \"Misdemeanor\" Elliott\n"
     ]
    }
   ],
   "source": [
    "# create an empty dataframe\n",
    "results_df = pd.DataFrame(columns=[\"Track\", \"Artist\", \"song_name\", \"artist_name\", \"album_name_spotify\", \"release_date_spotify\",\n",
    "                                    \"popularity\", \"explicit\", \"duration_ms\", \"acousticness\", \"danceability\",\"energy\",\"instrumentalness\",\n",
    "                                    \"liveness\", \"loudness\", \"speechiness\", \"valence\", \"tempo\", \"key\", \"mode\", \"time_signature\"])\n",
    "\n",
    "# loop over the random sample dataframe\n",
    "\n",
    "rest_period = 0.2  # Time in seconds between requests\n",
    "\n",
    "for index, row in random_100_df.iterrows():\n",
    "    song_name = row[\"Track\"]\n",
    "    artist_name = row[\"Artist\"]\n",
    "\n",
    "    song_data = get_song_data(song_name, artist_name)\n",
    "    if song_data:\n",
    "        song_data[\"Track\"] = song_name\n",
    "        song_data[\"Artist\"] = artist_name\n",
    "\n",
    "        # Convert song_data dictionary to a DataFrame\n",
    "        song_data_df = pd.DataFrame([song_data])\n",
    "\n",
    "        # changed results.append to results_df.concat as per the errors in the previous code\n",
    "        \n",
    "        results_df = pd.concat([results_df, song_data_df], ignore_index=True)\n",
    "    else:\n",
    "        print(f\"Song not found: {song_name} by {artist_name}\")\n",
    "        \n",
    "    time.sleep(rest_period)  # Pause execution for the specified rest period    \n",
    "\n"
   ]
  }
 ],
 "metadata": {
  "kernelspec": {
   "display_name": "music_data",
   "language": "python",
   "name": "python3"
  },
  "language_info": {
   "codemirror_mode": {
    "name": "ipython",
    "version": 3
   },
   "file_extension": ".py",
   "mimetype": "text/x-python",
   "name": "python",
   "nbconvert_exporter": "python",
   "pygments_lexer": "ipython3",
   "version": "3.10.9"
  },
  "orig_nbformat": 4
 },
 "nbformat": 4,
 "nbformat_minor": 2
}
