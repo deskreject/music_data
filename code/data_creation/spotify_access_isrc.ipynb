{
 "cells": [
  {
   "attachments": {},
   "cell_type": "markdown",
   "metadata": {},
   "source": [
    "\t# Author: Alexander Staub\n",
    "\t## Last changed: 2023.03.21\n",
    "\t## Purpose: Accessing the Spotify API\n"
   ]
  },
  {
   "attachments": {},
   "cell_type": "markdown",
   "metadata": {},
   "source": [
    "# Done to dos:\n",
    "* rate limits: 10/second without rate limit extension\n",
    "* changed the .append to .concat in the loop to avoid warnings \n",
    "* added the audio feature elements from spotify - all of them according to gpt-4\n"
   ]
  },
  {
   "attachments": {},
   "cell_type": "markdown",
   "metadata": {},
   "source": [
    "# Next up to dos - 23.03.28\n",
    "\n",
    "* with the first random sample, a number of songs were not matched. Think of a way to get all the songs that weren't matched into a seperate dataframe\n"
   ]
  },
  {
   "cell_type": "code",
   "execution_count": 1,
   "metadata": {},
   "outputs": [],
   "source": [
    "#library loading\n",
    "\n",
    "import os\n",
    "import spotipy # lightweight Python library for the Spotify Web API\n",
    "import pandas as pd\n",
    "from spotipy.oauth2 import SpotifyClientCredentials # to access authorised Spotify data\n",
    "import json # to read json files\n",
    "import time # to time the code\n",
    "import requests # to make http requests"
   ]
  },
  {
   "cell_type": "code",
   "execution_count": 2,
   "metadata": {},
   "outputs": [
    {
     "name": "stdout",
     "output_type": "stream",
     "text": [
      "c:\\Users\\User\\Documents\\R_Work\\research\\music_data\n"
     ]
    }
   ],
   "source": [
    "# path specification - using os\n",
    "\n",
    "# Get the current working directory\n",
    "current_dir = os.getcwd()\n",
    "\n",
    "# Navigate up two levels to the root directory\n",
    "root_dir = os.path.abspath(os.path.join(current_dir, '..', '..'))\n",
    "\n",
    "print(root_dir)\n"
   ]
  },
  {
   "cell_type": "code",
   "execution_count": 3,
   "metadata": {},
   "outputs": [],
   "source": [
    "# get the client id and client secret for my account\n",
    "\n",
    "# access the spotify credentials from the json file and store it as variable \"f\"\n",
    "with open('spotify_credentials.json') as f:\n",
    "\n",
    "    # transform the json file into a dictionary\n",
    "    data = json.load(f)\n",
    "    client_id = data['SPOTIPY_CLIENT_ID']\n",
    "    client_secret = data['SPOTIPY_CLIENT_SECRET']\n",
    "\n",
    "if not client_id or not client_secret:\n",
    "    raise ValueError(\"Spotify API credentials not found in environment variables\")\n",
    "\n",
    "sp = spotipy.Spotify(auth_manager=SpotifyClientCredentials(client_id=client_id, client_secret=client_secret))"
   ]
  },
  {
   "cell_type": "code",
   "execution_count": 5,
   "metadata": {},
   "outputs": [],
   "source": [
    "# load in the random sample w isrcs into a dataframe\n",
    "\n",
    "# Create the path to the CSV file\n",
    "csv_file_path = os.path.join(root_dir, 'data', 'interim_data', 'random_sample_w_iscrcs_mb_v5_export.csv')\n",
    "\n",
    "#create the json file path\n",
    "json_file_path = os.path.join(root_dir, 'data', 'raw_data','musicbrainz', 'isrcs_from_release_with_label_v6.json')"
   ]
  },
  {
   "cell_type": "markdown",
   "metadata": {},
   "source": [
    "Below is the code to read in a csv - created when interested in analyzing a random sample"
   ]
  },
  {
   "cell_type": "code",
   "execution_count": 6,
   "metadata": {},
   "outputs": [],
   "source": [
    "#detect the encoding of the csv\n",
    "\n",
    "import chardet    \n",
    "\n",
    "rawdata = open(csv_file_path, \"rb\").read()\n",
    "result = chardet.detect(rawdata)\n",
    "charenc = result['encoding']"
   ]
  },
  {
   "cell_type": "code",
   "execution_count": 7,
   "metadata": {},
   "outputs": [],
   "source": [
    "# Now read the CSV into a DataFrame\n",
    "sample_songs_w_isrcs = pd.read_csv(csv_file_path, encoding=charenc)\n",
    "\n",
    "#remove the column named \"unnamed\" from the sample_songs_w_isrcs dataframe\n",
    "sample_songs_w_isrcs = sample_songs_w_isrcs.loc[:, ~sample_songs_w_isrcs.columns.str.contains('^Unnamed')]\n"
   ]
  },
  {
   "cell_type": "markdown",
   "metadata": {},
   "source": [
    "Currently, the loaded dataframe includes variables of the type \"object\" - which means that they are some generic form of data type.\n",
    "Converting all but date to string will make it easier to access spotify API"
   ]
  },
  {
   "cell_type": "code",
   "execution_count": 8,
   "metadata": {},
   "outputs": [],
   "source": [
    "#loop through all variables and convert them to strings - except the date column\n",
    "for col in sample_songs_w_isrcs.columns:\n",
    "    if col != 'date':\n",
    "        sample_songs_w_isrcs[col] = sample_songs_w_isrcs[col].astype(str)\n",
    "\n"
   ]
  },
  {
   "cell_type": "markdown",
   "metadata": {},
   "source": [
    "Below is the code for reading in the json based dataframe including isrcs from all US released songs in the timeframe of interest"
   ]
  },
  {
   "cell_type": "code",
   "execution_count": 9,
   "metadata": {},
   "outputs": [],
   "source": [
    "# read in json file\n",
    "us_songs_w_isrcs = pd.read_json(json_file_path)\n",
    "\n"
   ]
  },
  {
   "cell_type": "code",
   "execution_count": 10,
   "metadata": {},
   "outputs": [],
   "source": [
    "# drop the last column\n",
    "us_songs_w_isrcs = us_songs_w_isrcs.iloc[:, :-1]"
   ]
  },
  {
   "cell_type": "code",
   "execution_count": 11,
   "metadata": {},
   "outputs": [],
   "source": [
    "#loop through all variables and convert them to strings - except the date column\n",
    "for col in us_songs_w_isrcs.columns:\n",
    "    if col != 'release_date':\n",
    "        us_songs_w_isrcs[col] = us_songs_w_isrcs[col].astype(str)"
   ]
  },
  {
   "cell_type": "markdown",
   "metadata": {},
   "source": [
    "The code below is meant to:\n",
    "- check the ISRC codes in the musicbrainz dataframe and collect the name of thesong, artist and acoustic charactersitics from the Spotify Api\n",
    "- respect the rate limits of 10 requests per second\n",
    "- save the data periodically in case of some error\n",
    "- collect data about unmatched isrcs in a seperate file for later review\n",
    "- not restart from 0 in case the operation fails, but check what was already collected"
   ]
  },
  {
   "cell_type": "code",
   "execution_count": 12,
   "metadata": {},
   "outputs": [
    {
     "name": "stdout",
     "output_type": "stream",
     "text": [
      "c:\\Users\\User\\Documents\\R_Work\\research\\music_data\\data\\interim_data\\spotify_isrc_sample\n"
     ]
    }
   ],
   "source": [
    "# create the save path\n",
    "save_path = os.path.join(root_dir, \"data\", \"interim_data\", \"spotify_isrc_sample\")\n",
    "\n",
    "print(save_path)"
   ]
  },
  {
   "cell_type": "code",
   "execution_count": 14,
   "metadata": {},
   "outputs": [],
   "source": [
    "#try whether the the dataframe already exists or whether it needs to be created\n",
    "\n",
    "# Try whether the dataframe already exists or whether it needs to be created\n",
    "try:\n",
    "    df_spotify = pd.read_csv(os.path.join(save_path, \"partial_spotify_data.csv\"))\n",
    "except (FileNotFoundError, pd.errors.EmptyDataError):  # Catching both exceptions\n",
    "    df_spotify = pd.DataFrame()\n",
    "\n",
    "try:\n",
    "    with open(os.path.join(save_path, \"unmatched_isrcs.json\"), \"r\") as f:\n",
    "        unmatched_isrcs = json.load(f)\n",
    "except FileNotFoundError:\n",
    "    unmatched_isrcs = []\n",
    "\n",
    "# List to hold dictionaries to append to df_spotify\n",
    "data_to_append = []\n"
   ]
  },
  {
   "cell_type": "code",
   "execution_count": 15,
   "metadata": {},
   "outputs": [
    {
     "data": {
      "text/plain": [
       "isrc                  0\n",
       "track_id              0\n",
       "track_title           0\n",
       "artist_name           0\n",
       "artist_mbid           0\n",
       "release_mbid          0\n",
       "release_group_mbid    0\n",
       "release_date          0\n",
       "dtype: int64"
      ]
     },
     "execution_count": 15,
     "metadata": {},
     "output_type": "execute_result"
    }
   ],
   "source": [
    "#check \n",
    "us_songs_w_isrcs.describe()\n",
    "\n",
    "# check how many NA values are present by column in the us_songs_w_isrcs dataframe\n",
    "us_songs_w_isrcs.isna().sum()"
   ]
  },
  {
   "cell_type": "code",
   "execution_count": 16,
   "metadata": {},
   "outputs": [],
   "source": [
    "# Track where you are in the loop in case you have to restart\n",
    "start_point = 0\n",
    "try:\n",
    "    # Check if a start_point file exists (this assumes the file holds an integer)\n",
    "    with open(os.path.join(save_path, \"start_point.txt\"), \"r\") as f:\n",
    "        start_point = int(f.read())\n",
    "except FileNotFoundError:\n",
    "    pass"
   ]
  },
  {
   "cell_type": "markdown",
   "metadata": {},
   "source": [
    "Tenacity based rate limiting with exponential wait times - might be causing an issue"
   ]
  },
  {
   "cell_type": "code",
   "execution_count": 33,
   "metadata": {},
   "outputs": [],
   "source": [
    "from tenacity import retry, stop_after_attempt, wait_exponential\n",
    "import time\n",
    "\n",
    "@retry(stop=stop_after_attempt(5), wait=wait_exponential(multiplier=1, min=5, max=60))\n",
    "def fetch_track_data(isrc):\n",
    "    time.sleep(1/3)  # Slow down to 3 requests per second\n",
    "    return sp.search(q=f'isrc:{isrc}', type='track')\n",
    "\n",
    "@retry(stop=stop_after_attempt(5), wait=wait_exponential(multiplier=1, min=5, max=60))\n",
    "def fetch_audio_features(spotify_id):\n",
    "    time.sleep(1/3)  # Slow down to 3 requests per second\n",
    "    return sp.audio_features(spotify_id)[0]"
   ]
  },
  {
   "cell_type": "markdown",
   "metadata": {},
   "source": [
    "Alternative, less sophisticated rate limiting to check if tenacity is causing the problem or if I have been blocked from this IP address"
   ]
  },
  {
   "cell_type": "code",
   "execution_count": 17,
   "metadata": {},
   "outputs": [],
   "source": [
    "import time\n",
    "\n",
    "def fetch_track_data(isrc):\n",
    "    for _ in range(5):\n",
    "        time.sleep(1/3)  # Wait 1/3 of a second before making the request\n",
    "        try:\n",
    "            return sp.search(q=f'isrc:{isrc}', type='track')\n",
    "        except requests.exceptions.HTTPError as err:\n",
    "            print(f\"Error, will retry: {err}\")\n",
    "            time.sleep(5)  # 5 seconds delay before retry\n",
    "    print(\"Max retries reached\")\n",
    "    return None\n",
    "\n",
    "def fetch_audio_features(spotify_id):\n",
    "    for _ in range(5):\n",
    "        time.sleep(1/3)  # Wait 1/3 of a second before making the request\n",
    "        try:\n",
    "            return sp.audio_features(spotify_id)[0]\n",
    "        except requests.exceptions.HTTPError as err:\n",
    "            print(f\"Error, will retry: {err}\")\n",
    "            time.sleep(5)  # 5 seconds delay before retry\n",
    "    print(\"Max retries reached\")\n",
    "    return None\n"
   ]
  },
  {
   "cell_type": "code",
   "execution_count": 18,
   "metadata": {},
   "outputs": [
    {
     "name": "stderr",
     "output_type": "stream",
     "text": [
      "Max Retries reached\n"
     ]
    },
    {
     "ename": "SpotifyException",
     "evalue": "http status: 429, code:-1 - /v1/audio-features/?ids=69Vhf1vZKV0yord49HiRi4:\n Max Retries, reason: too many 429 error responses",
     "output_type": "error",
     "traceback": [
      "\u001b[1;31m---------------------------------------------------------------------------\u001b[0m",
      "\u001b[1;31mMaxRetryError\u001b[0m                             Traceback (most recent call last)",
      "File \u001b[1;32mc:\\Users\\User\\anaconda3\\envs\\new_music_data\\lib\\site-packages\\requests\\adapters.py:489\u001b[0m, in \u001b[0;36mHTTPAdapter.send\u001b[1;34m(self, request, stream, timeout, verify, cert, proxies)\u001b[0m\n\u001b[0;32m    488\u001b[0m \u001b[39mif\u001b[39;00m \u001b[39mnot\u001b[39;00m chunked:\n\u001b[1;32m--> 489\u001b[0m     resp \u001b[39m=\u001b[39m conn\u001b[39m.\u001b[39;49murlopen(\n\u001b[0;32m    490\u001b[0m         method\u001b[39m=\u001b[39;49mrequest\u001b[39m.\u001b[39;49mmethod,\n\u001b[0;32m    491\u001b[0m         url\u001b[39m=\u001b[39;49murl,\n\u001b[0;32m    492\u001b[0m         body\u001b[39m=\u001b[39;49mrequest\u001b[39m.\u001b[39;49mbody,\n\u001b[0;32m    493\u001b[0m         headers\u001b[39m=\u001b[39;49mrequest\u001b[39m.\u001b[39;49mheaders,\n\u001b[0;32m    494\u001b[0m         redirect\u001b[39m=\u001b[39;49m\u001b[39mFalse\u001b[39;49;00m,\n\u001b[0;32m    495\u001b[0m         assert_same_host\u001b[39m=\u001b[39;49m\u001b[39mFalse\u001b[39;49;00m,\n\u001b[0;32m    496\u001b[0m         preload_content\u001b[39m=\u001b[39;49m\u001b[39mFalse\u001b[39;49;00m,\n\u001b[0;32m    497\u001b[0m         decode_content\u001b[39m=\u001b[39;49m\u001b[39mFalse\u001b[39;49;00m,\n\u001b[0;32m    498\u001b[0m         retries\u001b[39m=\u001b[39;49m\u001b[39mself\u001b[39;49m\u001b[39m.\u001b[39;49mmax_retries,\n\u001b[0;32m    499\u001b[0m         timeout\u001b[39m=\u001b[39;49mtimeout,\n\u001b[0;32m    500\u001b[0m     )\n\u001b[0;32m    502\u001b[0m \u001b[39m# Send the request.\u001b[39;00m\n\u001b[0;32m    503\u001b[0m \u001b[39melse\u001b[39;00m:\n",
      "File \u001b[1;32mc:\\Users\\User\\anaconda3\\envs\\new_music_data\\lib\\site-packages\\urllib3\\connectionpool.py:878\u001b[0m, in \u001b[0;36mHTTPConnectionPool.urlopen\u001b[1;34m(self, method, url, body, headers, retries, redirect, assert_same_host, timeout, pool_timeout, release_conn, chunked, body_pos, **response_kw)\u001b[0m\n\u001b[0;32m    877\u001b[0m     log\u001b[39m.\u001b[39mdebug(\u001b[39m\"\u001b[39m\u001b[39mRetry: \u001b[39m\u001b[39m%s\u001b[39;00m\u001b[39m\"\u001b[39m, url)\n\u001b[1;32m--> 878\u001b[0m     \u001b[39mreturn\u001b[39;00m \u001b[39mself\u001b[39m\u001b[39m.\u001b[39murlopen(\n\u001b[0;32m    879\u001b[0m         method,\n\u001b[0;32m    880\u001b[0m         url,\n\u001b[0;32m    881\u001b[0m         body,\n\u001b[0;32m    882\u001b[0m         headers,\n\u001b[0;32m    883\u001b[0m         retries\u001b[39m=\u001b[39mretries,\n\u001b[0;32m    884\u001b[0m         redirect\u001b[39m=\u001b[39mredirect,\n\u001b[0;32m    885\u001b[0m         assert_same_host\u001b[39m=\u001b[39massert_same_host,\n\u001b[0;32m    886\u001b[0m         timeout\u001b[39m=\u001b[39mtimeout,\n\u001b[0;32m    887\u001b[0m         pool_timeout\u001b[39m=\u001b[39mpool_timeout,\n\u001b[0;32m    888\u001b[0m         release_conn\u001b[39m=\u001b[39mrelease_conn,\n\u001b[0;32m    889\u001b[0m         chunked\u001b[39m=\u001b[39mchunked,\n\u001b[0;32m    890\u001b[0m         body_pos\u001b[39m=\u001b[39mbody_pos,\n\u001b[0;32m    891\u001b[0m         \u001b[39m*\u001b[39m\u001b[39m*\u001b[39mresponse_kw\n\u001b[0;32m    892\u001b[0m     )\n\u001b[0;32m    894\u001b[0m \u001b[39mreturn\u001b[39;00m response\n",
      "File \u001b[1;32mc:\\Users\\User\\anaconda3\\envs\\new_music_data\\lib\\site-packages\\urllib3\\connectionpool.py:878\u001b[0m, in \u001b[0;36mHTTPConnectionPool.urlopen\u001b[1;34m(self, method, url, body, headers, retries, redirect, assert_same_host, timeout, pool_timeout, release_conn, chunked, body_pos, **response_kw)\u001b[0m\n\u001b[0;32m    877\u001b[0m     log\u001b[39m.\u001b[39mdebug(\u001b[39m\"\u001b[39m\u001b[39mRetry: \u001b[39m\u001b[39m%s\u001b[39;00m\u001b[39m\"\u001b[39m, url)\n\u001b[1;32m--> 878\u001b[0m     \u001b[39mreturn\u001b[39;00m \u001b[39mself\u001b[39m\u001b[39m.\u001b[39murlopen(\n\u001b[0;32m    879\u001b[0m         method,\n\u001b[0;32m    880\u001b[0m         url,\n\u001b[0;32m    881\u001b[0m         body,\n\u001b[0;32m    882\u001b[0m         headers,\n\u001b[0;32m    883\u001b[0m         retries\u001b[39m=\u001b[39mretries,\n\u001b[0;32m    884\u001b[0m         redirect\u001b[39m=\u001b[39mredirect,\n\u001b[0;32m    885\u001b[0m         assert_same_host\u001b[39m=\u001b[39massert_same_host,\n\u001b[0;32m    886\u001b[0m         timeout\u001b[39m=\u001b[39mtimeout,\n\u001b[0;32m    887\u001b[0m         pool_timeout\u001b[39m=\u001b[39mpool_timeout,\n\u001b[0;32m    888\u001b[0m         release_conn\u001b[39m=\u001b[39mrelease_conn,\n\u001b[0;32m    889\u001b[0m         chunked\u001b[39m=\u001b[39mchunked,\n\u001b[0;32m    890\u001b[0m         body_pos\u001b[39m=\u001b[39mbody_pos,\n\u001b[0;32m    891\u001b[0m         \u001b[39m*\u001b[39m\u001b[39m*\u001b[39mresponse_kw\n\u001b[0;32m    892\u001b[0m     )\n\u001b[0;32m    894\u001b[0m \u001b[39mreturn\u001b[39;00m response\n",
      "File \u001b[1;32mc:\\Users\\User\\anaconda3\\envs\\new_music_data\\lib\\site-packages\\urllib3\\connectionpool.py:878\u001b[0m, in \u001b[0;36mHTTPConnectionPool.urlopen\u001b[1;34m(self, method, url, body, headers, retries, redirect, assert_same_host, timeout, pool_timeout, release_conn, chunked, body_pos, **response_kw)\u001b[0m\n\u001b[0;32m    877\u001b[0m     log\u001b[39m.\u001b[39mdebug(\u001b[39m\"\u001b[39m\u001b[39mRetry: \u001b[39m\u001b[39m%s\u001b[39;00m\u001b[39m\"\u001b[39m, url)\n\u001b[1;32m--> 878\u001b[0m     \u001b[39mreturn\u001b[39;00m \u001b[39mself\u001b[39m\u001b[39m.\u001b[39murlopen(\n\u001b[0;32m    879\u001b[0m         method,\n\u001b[0;32m    880\u001b[0m         url,\n\u001b[0;32m    881\u001b[0m         body,\n\u001b[0;32m    882\u001b[0m         headers,\n\u001b[0;32m    883\u001b[0m         retries\u001b[39m=\u001b[39mretries,\n\u001b[0;32m    884\u001b[0m         redirect\u001b[39m=\u001b[39mredirect,\n\u001b[0;32m    885\u001b[0m         assert_same_host\u001b[39m=\u001b[39massert_same_host,\n\u001b[0;32m    886\u001b[0m         timeout\u001b[39m=\u001b[39mtimeout,\n\u001b[0;32m    887\u001b[0m         pool_timeout\u001b[39m=\u001b[39mpool_timeout,\n\u001b[0;32m    888\u001b[0m         release_conn\u001b[39m=\u001b[39mrelease_conn,\n\u001b[0;32m    889\u001b[0m         chunked\u001b[39m=\u001b[39mchunked,\n\u001b[0;32m    890\u001b[0m         body_pos\u001b[39m=\u001b[39mbody_pos,\n\u001b[0;32m    891\u001b[0m         \u001b[39m*\u001b[39m\u001b[39m*\u001b[39mresponse_kw\n\u001b[0;32m    892\u001b[0m     )\n\u001b[0;32m    894\u001b[0m \u001b[39mreturn\u001b[39;00m response\n",
      "File \u001b[1;32mc:\\Users\\User\\anaconda3\\envs\\new_music_data\\lib\\site-packages\\urllib3\\connectionpool.py:868\u001b[0m, in \u001b[0;36mHTTPConnectionPool.urlopen\u001b[1;34m(self, method, url, body, headers, retries, redirect, assert_same_host, timeout, pool_timeout, release_conn, chunked, body_pos, **response_kw)\u001b[0m\n\u001b[0;32m    867\u001b[0m \u001b[39mtry\u001b[39;00m:\n\u001b[1;32m--> 868\u001b[0m     retries \u001b[39m=\u001b[39m retries\u001b[39m.\u001b[39;49mincrement(method, url, response\u001b[39m=\u001b[39;49mresponse, _pool\u001b[39m=\u001b[39;49m\u001b[39mself\u001b[39;49m)\n\u001b[0;32m    869\u001b[0m \u001b[39mexcept\u001b[39;00m MaxRetryError:\n",
      "File \u001b[1;32mc:\\Users\\User\\anaconda3\\envs\\new_music_data\\lib\\site-packages\\urllib3\\util\\retry.py:592\u001b[0m, in \u001b[0;36mRetry.increment\u001b[1;34m(self, method, url, response, error, _pool, _stacktrace)\u001b[0m\n\u001b[0;32m    591\u001b[0m \u001b[39mif\u001b[39;00m new_retry\u001b[39m.\u001b[39mis_exhausted():\n\u001b[1;32m--> 592\u001b[0m     \u001b[39mraise\u001b[39;00m MaxRetryError(_pool, url, error \u001b[39mor\u001b[39;00m ResponseError(cause))\n\u001b[0;32m    594\u001b[0m log\u001b[39m.\u001b[39mdebug(\u001b[39m\"\u001b[39m\u001b[39mIncremented Retry for (url=\u001b[39m\u001b[39m'\u001b[39m\u001b[39m%s\u001b[39;00m\u001b[39m'\u001b[39m\u001b[39m): \u001b[39m\u001b[39m%r\u001b[39;00m\u001b[39m\"\u001b[39m, url, new_retry)\n",
      "\u001b[1;31mMaxRetryError\u001b[0m: HTTPSConnectionPool(host='api.spotify.com', port=443): Max retries exceeded with url: /v1/audio-features/?ids=69Vhf1vZKV0yord49HiRi4 (Caused by ResponseError('too many 429 error responses'))",
      "\nDuring handling of the above exception, another exception occurred:\n",
      "\u001b[1;31mRetryError\u001b[0m                                Traceback (most recent call last)",
      "File \u001b[1;32mc:\\Users\\User\\anaconda3\\envs\\new_music_data\\lib\\site-packages\\spotipy\\client.py:264\u001b[0m, in \u001b[0;36mSpotify._internal_call\u001b[1;34m(self, method, url, payload, params)\u001b[0m\n\u001b[0;32m    263\u001b[0m \u001b[39mtry\u001b[39;00m:\n\u001b[1;32m--> 264\u001b[0m     response \u001b[39m=\u001b[39m \u001b[39mself\u001b[39m\u001b[39m.\u001b[39m_session\u001b[39m.\u001b[39mrequest(\n\u001b[0;32m    265\u001b[0m         method, url, headers\u001b[39m=\u001b[39mheaders, proxies\u001b[39m=\u001b[39m\u001b[39mself\u001b[39m\u001b[39m.\u001b[39mproxies,\n\u001b[0;32m    266\u001b[0m         timeout\u001b[39m=\u001b[39m\u001b[39mself\u001b[39m\u001b[39m.\u001b[39mrequests_timeout, \u001b[39m*\u001b[39m\u001b[39m*\u001b[39margs\n\u001b[0;32m    267\u001b[0m     )\n\u001b[0;32m    269\u001b[0m     response\u001b[39m.\u001b[39mraise_for_status()\n",
      "File \u001b[1;32mc:\\Users\\User\\anaconda3\\envs\\new_music_data\\lib\\site-packages\\requests\\sessions.py:587\u001b[0m, in \u001b[0;36mSession.request\u001b[1;34m(self, method, url, params, data, headers, cookies, files, auth, timeout, allow_redirects, proxies, hooks, stream, verify, cert, json)\u001b[0m\n\u001b[0;32m    586\u001b[0m send_kwargs\u001b[39m.\u001b[39mupdate(settings)\n\u001b[1;32m--> 587\u001b[0m resp \u001b[39m=\u001b[39m \u001b[39mself\u001b[39m\u001b[39m.\u001b[39msend(prep, \u001b[39m*\u001b[39m\u001b[39m*\u001b[39msend_kwargs)\n\u001b[0;32m    589\u001b[0m \u001b[39mreturn\u001b[39;00m resp\n",
      "File \u001b[1;32mc:\\Users\\User\\anaconda3\\envs\\new_music_data\\lib\\site-packages\\requests\\sessions.py:701\u001b[0m, in \u001b[0;36mSession.send\u001b[1;34m(self, request, **kwargs)\u001b[0m\n\u001b[0;32m    700\u001b[0m \u001b[39m# Send the request\u001b[39;00m\n\u001b[1;32m--> 701\u001b[0m r \u001b[39m=\u001b[39m adapter\u001b[39m.\u001b[39msend(request, \u001b[39m*\u001b[39m\u001b[39m*\u001b[39mkwargs)\n\u001b[0;32m    703\u001b[0m \u001b[39m# Total elapsed time of the request (approximately)\u001b[39;00m\n",
      "File \u001b[1;32mc:\\Users\\User\\anaconda3\\envs\\new_music_data\\lib\\site-packages\\requests\\adapters.py:556\u001b[0m, in \u001b[0;36mHTTPAdapter.send\u001b[1;34m(self, request, stream, timeout, verify, cert, proxies)\u001b[0m\n\u001b[0;32m    555\u001b[0m \u001b[39mif\u001b[39;00m \u001b[39misinstance\u001b[39m(e\u001b[39m.\u001b[39mreason, ResponseError):\n\u001b[1;32m--> 556\u001b[0m     \u001b[39mraise\u001b[39;00m RetryError(e, request\u001b[39m=\u001b[39mrequest)\n\u001b[0;32m    558\u001b[0m \u001b[39mif\u001b[39;00m \u001b[39misinstance\u001b[39m(e\u001b[39m.\u001b[39mreason, _ProxyError):\n",
      "\u001b[1;31mRetryError\u001b[0m: HTTPSConnectionPool(host='api.spotify.com', port=443): Max retries exceeded with url: /v1/audio-features/?ids=69Vhf1vZKV0yord49HiRi4 (Caused by ResponseError('too many 429 error responses'))",
      "\nDuring handling of the above exception, another exception occurred:\n",
      "\u001b[1;31mSpotifyException\u001b[0m                          Traceback (most recent call last)",
      "\u001b[1;32mc:\\Users\\User\\Documents\\R_Work\\research\\music_data\\code\\data_creation\\spotify_access_isrc.ipynb Cell 26\u001b[0m line \u001b[0;36m1\n\u001b[0;32m     <a href='vscode-notebook-cell:/c%3A/Users/User/Documents/R_Work/research/music_data/code/data_creation/spotify_access_isrc.ipynb#X34sZmlsZQ%3D%3D?line=11'>12</a>\u001b[0m track \u001b[39m=\u001b[39m results[\u001b[39m'\u001b[39m\u001b[39mtracks\u001b[39m\u001b[39m'\u001b[39m][\u001b[39m'\u001b[39m\u001b[39mitems\u001b[39m\u001b[39m'\u001b[39m][\u001b[39m0\u001b[39m]\n\u001b[0;32m     <a href='vscode-notebook-cell:/c%3A/Users/User/Documents/R_Work/research/music_data/code/data_creation/spotify_access_isrc.ipynb#X34sZmlsZQ%3D%3D?line=13'>14</a>\u001b[0m \u001b[39m# Fetch audio features using Spotify ID\u001b[39;00m\n\u001b[0;32m     <a href='vscode-notebook-cell:/c%3A/Users/User/Documents/R_Work/research/music_data/code/data_creation/spotify_access_isrc.ipynb#X34sZmlsZQ%3D%3D?line=14'>15</a>\u001b[0m \u001b[39m#audio_features = sp.audio_features(track[\"id\"])[0]\u001b[39;00m\n\u001b[1;32m---> <a href='vscode-notebook-cell:/c%3A/Users/User/Documents/R_Work/research/music_data/code/data_creation/spotify_access_isrc.ipynb#X34sZmlsZQ%3D%3D?line=15'>16</a>\u001b[0m audio_features \u001b[39m=\u001b[39m fetch_audio_features(track[\u001b[39m\"\u001b[39;49m\u001b[39mid\u001b[39;49m\u001b[39m\"\u001b[39;49m])\n\u001b[0;32m     <a href='vscode-notebook-cell:/c%3A/Users/User/Documents/R_Work/research/music_data/code/data_creation/spotify_access_isrc.ipynb#X34sZmlsZQ%3D%3D?line=17'>18</a>\u001b[0m \u001b[39m# Extract and append information to df_spotify\u001b[39;00m\n\u001b[0;32m     <a href='vscode-notebook-cell:/c%3A/Users/User/Documents/R_Work/research/music_data/code/data_creation/spotify_access_isrc.ipynb#X34sZmlsZQ%3D%3D?line=18'>19</a>\u001b[0m \u001b[39mif\u001b[39;00m audio_features \u001b[39mis\u001b[39;00m \u001b[39mnot\u001b[39;00m \u001b[39mNone\u001b[39;00m:\n",
      "\u001b[1;32mc:\\Users\\User\\Documents\\R_Work\\research\\music_data\\code\\data_creation\\spotify_access_isrc.ipynb Cell 26\u001b[0m line \u001b[0;36m1\n\u001b[0;32m     <a href='vscode-notebook-cell:/c%3A/Users/User/Documents/R_Work/research/music_data/code/data_creation/spotify_access_isrc.ipynb#X34sZmlsZQ%3D%3D?line=15'>16</a>\u001b[0m time\u001b[39m.\u001b[39msleep(\u001b[39m1\u001b[39m\u001b[39m/\u001b[39m\u001b[39m3\u001b[39m)  \u001b[39m# Wait 1/3 of a second before making the request\u001b[39;00m\n\u001b[0;32m     <a href='vscode-notebook-cell:/c%3A/Users/User/Documents/R_Work/research/music_data/code/data_creation/spotify_access_isrc.ipynb#X34sZmlsZQ%3D%3D?line=16'>17</a>\u001b[0m \u001b[39mtry\u001b[39;00m:\n\u001b[1;32m---> <a href='vscode-notebook-cell:/c%3A/Users/User/Documents/R_Work/research/music_data/code/data_creation/spotify_access_isrc.ipynb#X34sZmlsZQ%3D%3D?line=17'>18</a>\u001b[0m     \u001b[39mreturn\u001b[39;00m sp\u001b[39m.\u001b[39;49maudio_features(spotify_id)[\u001b[39m0\u001b[39m]\n\u001b[0;32m     <a href='vscode-notebook-cell:/c%3A/Users/User/Documents/R_Work/research/music_data/code/data_creation/spotify_access_isrc.ipynb#X34sZmlsZQ%3D%3D?line=18'>19</a>\u001b[0m \u001b[39mexcept\u001b[39;00m requests\u001b[39m.\u001b[39mexceptions\u001b[39m.\u001b[39mHTTPError \u001b[39mas\u001b[39;00m err:\n\u001b[0;32m     <a href='vscode-notebook-cell:/c%3A/Users/User/Documents/R_Work/research/music_data/code/data_creation/spotify_access_isrc.ipynb#X34sZmlsZQ%3D%3D?line=19'>20</a>\u001b[0m     \u001b[39mprint\u001b[39m(\u001b[39mf\u001b[39m\u001b[39m\"\u001b[39m\u001b[39mError, will retry: \u001b[39m\u001b[39m{\u001b[39;00merr\u001b[39m}\u001b[39;00m\u001b[39m\"\u001b[39m)\n",
      "File \u001b[1;32mc:\\Users\\User\\anaconda3\\envs\\new_music_data\\lib\\site-packages\\spotipy\\client.py:1732\u001b[0m, in \u001b[0;36mSpotify.audio_features\u001b[1;34m(self, tracks)\u001b[0m\n\u001b[0;32m   1730\u001b[0m \u001b[39mif\u001b[39;00m \u001b[39misinstance\u001b[39m(tracks, \u001b[39mstr\u001b[39m):\n\u001b[0;32m   1731\u001b[0m     trackid \u001b[39m=\u001b[39m \u001b[39mself\u001b[39m\u001b[39m.\u001b[39m_get_id(\u001b[39m\"\u001b[39m\u001b[39mtrack\u001b[39m\u001b[39m\"\u001b[39m, tracks)\n\u001b[1;32m-> 1732\u001b[0m     results \u001b[39m=\u001b[39m \u001b[39mself\u001b[39;49m\u001b[39m.\u001b[39;49m_get(\u001b[39m\"\u001b[39;49m\u001b[39maudio-features/?ids=\u001b[39;49m\u001b[39m\"\u001b[39;49m \u001b[39m+\u001b[39;49m trackid)\n\u001b[0;32m   1733\u001b[0m \u001b[39melse\u001b[39;00m:\n\u001b[0;32m   1734\u001b[0m     tlist \u001b[39m=\u001b[39m [\u001b[39mself\u001b[39m\u001b[39m.\u001b[39m_get_id(\u001b[39m\"\u001b[39m\u001b[39mtrack\u001b[39m\u001b[39m\"\u001b[39m, t) \u001b[39mfor\u001b[39;00m t \u001b[39min\u001b[39;00m tracks]\n",
      "File \u001b[1;32mc:\\Users\\User\\anaconda3\\envs\\new_music_data\\lib\\site-packages\\spotipy\\client.py:321\u001b[0m, in \u001b[0;36mSpotify._get\u001b[1;34m(self, url, args, payload, **kwargs)\u001b[0m\n\u001b[0;32m    318\u001b[0m \u001b[39mif\u001b[39;00m args:\n\u001b[0;32m    319\u001b[0m     kwargs\u001b[39m.\u001b[39mupdate(args)\n\u001b[1;32m--> 321\u001b[0m \u001b[39mreturn\u001b[39;00m \u001b[39mself\u001b[39;49m\u001b[39m.\u001b[39;49m_internal_call(\u001b[39m\"\u001b[39;49m\u001b[39mGET\u001b[39;49m\u001b[39m\"\u001b[39;49m, url, payload, kwargs)\n",
      "File \u001b[1;32mc:\\Users\\User\\anaconda3\\envs\\new_music_data\\lib\\site-packages\\spotipy\\client.py:305\u001b[0m, in \u001b[0;36mSpotify._internal_call\u001b[1;34m(self, method, url, payload, params)\u001b[0m\n\u001b[0;32m    303\u001b[0m     \u001b[39mexcept\u001b[39;00m (\u001b[39mIndexError\u001b[39;00m, \u001b[39mAttributeError\u001b[39;00m):\n\u001b[0;32m    304\u001b[0m         reason \u001b[39m=\u001b[39m \u001b[39mNone\u001b[39;00m\n\u001b[1;32m--> 305\u001b[0m     \u001b[39mraise\u001b[39;00m SpotifyException(\n\u001b[0;32m    306\u001b[0m         \u001b[39m429\u001b[39m,\n\u001b[0;32m    307\u001b[0m         \u001b[39m-\u001b[39m\u001b[39m1\u001b[39m,\n\u001b[0;32m    308\u001b[0m         \u001b[39m\"\u001b[39m\u001b[39m%s\u001b[39;00m\u001b[39m:\u001b[39m\u001b[39m\\n\u001b[39;00m\u001b[39m \u001b[39m\u001b[39m%s\u001b[39;00m\u001b[39m\"\u001b[39m \u001b[39m%\u001b[39m (request\u001b[39m.\u001b[39mpath_url, \u001b[39m\"\u001b[39m\u001b[39mMax Retries\u001b[39m\u001b[39m\"\u001b[39m),\n\u001b[0;32m    309\u001b[0m         reason\u001b[39m=\u001b[39mreason\n\u001b[0;32m    310\u001b[0m     )\n\u001b[0;32m    311\u001b[0m \u001b[39mexcept\u001b[39;00m \u001b[39mValueError\u001b[39;00m:\n\u001b[0;32m    312\u001b[0m     results \u001b[39m=\u001b[39m \u001b[39mNone\u001b[39;00m\n",
      "\u001b[1;31mSpotifyException\u001b[0m: http status: 429, code:-1 - /v1/audio-features/?ids=69Vhf1vZKV0yord49HiRi4:\n Max Retries, reason: too many 429 error responses"
     ]
    }
   ],
   "source": [
    "# Loop through your Musicbrainz dataframe\n",
    "for i, row in us_songs_w_isrcs.iloc[start_point:].iterrows():\n",
    "    \n",
    "    isrc = row['isrc']\n",
    "    \n",
    "    try:\n",
    "        # Search for track by ISRC\n",
    "        results = fetch_track_data(isrc)\n",
    "        \n",
    "        # Check if the search returned any tracks\n",
    "        if results['tracks']['items']:\n",
    "            track = results['tracks']['items'][0]\n",
    "            \n",
    "            # Fetch audio features using Spotify ID\n",
    "            #audio_features = sp.audio_features(track[\"id\"])[0]\n",
    "            audio_features = fetch_audio_features(track[\"id\"])\n",
    "\n",
    "            # Extract and append information to df_spotify\n",
    "            if audio_features is not None:\n",
    "                track_info = {\n",
    "                    \"ISRC\": isrc,\n",
    "                    \"name\": track[\"name\"],\n",
    "                    \"artist\": track[\"artists\"][0][\"name\"],\n",
    "                    **audio_features\n",
    "                }\n",
    "                data_to_append.append(track_info)\n",
    "            else:\n",
    "                print(f\"Audio features missing for ISRC: {isrc}\")\n",
    "                unmatched_isrcs.append((i, isrc))\n",
    "        else:\n",
    "            print(f\"Couldn't match ISRC: {isrc}\")\n",
    "            unmatched_isrcs.append((i, isrc))\n",
    "\n",
    "    except requests.exceptions.HTTPError as err:\n",
    "        if err.response.status_code == 429:  # HTTP Status Code for Too Many Requests\n",
    "            retry_after = err.response.headers.get('Retry-After', None)\n",
    "            if retry_after:\n",
    "                print(f\"Rate limit reached. Retry after {retry_after} seconds.\")\n",
    "            else:\n",
    "                print(\"Rate limit reached. No Retry-After header found.\")\n",
    "            continue  # Retry logic is now handled by the @retry decorator\n",
    "        else:\n",
    "            print(f\"HTTP Error for ISRC: {isrc}, Error: {err}\")\n",
    "            unmatched_isrcs.append((i, isrc))\n",
    "        \n",
    "    # Manage rate limits (Spotify API allows 10 requests per second)\n",
    "    #time.sleep(0.2)\n",
    "    \n",
    "    # Save start_point\n",
    "    with open(os.path.join(save_path, \"start_point.txt\"), \"w\") as f:\n",
    "        f.write(str(i))\n",
    "    \n",
    "    # You may also want to save your results periodically to a CSV or JSON\n",
    "    if i % 100 == 0:\n",
    "        df_spotify.to_csv(os.path.join(save_path, \"partial_spotify_data.csv\"), index=False)\n",
    "        with open(os.path.join(save_path, \"unmatched_isrcs.json\"), \"w\") as f:\n",
    "            json.dump(unmatched_isrcs, f)\n",
    "\n",
    "\n",
    "#Use pandas.concat to append all rows at once\n",
    "if data_to_append:\n",
    "    df_spotify = pd.concat([df_spotify, pd.DataFrame(data_to_append)], ignore_index=True)\n",
    "\n",
    "\n",
    "# Save your results\n",
    "df_spotify.to_csv(os.path.join(save_path, \"complete_spotify_data.csv\"), index=False)\n",
    "with open(os.path.join(save_path, \"unmatched_isrcs.json\"), \"w\") as f:\n",
    "    json.dump(unmatched_isrcs, f)"
   ]
  },
  {
   "cell_type": "markdown",
   "metadata": {},
   "source": [
    "# First random sample of songs - without ISRC\n",
    "To do:\n",
    "- move this into a new Jupyter notebook"
   ]
  },
  {
   "cell_type": "code",
   "execution_count": 1,
   "metadata": {},
   "outputs": [],
   "source": [
    "import os\n",
    "import spotipy # lightweight Python library for the Spotify Web API\n",
    "import pandas as pd\n",
    "from spotipy.oauth2 import SpotifyClientCredentials # to access authorised Spotify data"
   ]
  },
  {
   "cell_type": "code",
   "execution_count": 2,
   "metadata": {},
   "outputs": [],
   "source": [
    "# package for accessing the local environment variables\n",
    "import os\n",
    "\n",
    "# get the client id and client secret from the environment variables\n",
    "client_id = os.environ.get('SPOTIPY_CLIENT_ID')\n",
    "client_secret = os.environ.get('SPOTIPY_CLIENT_SECRET')\n",
    "\n",
    "if not client_id or not client_secret:\n",
    "    raise ValueError(\"Spotify API credentials not found in environment variables\")\n",
    "\n",
    "sp = spotipy.Spotify(auth_manager=SpotifyClientCredentials(client_id=client_id, client_secret=client_secret))"
   ]
  },
  {
   "cell_type": "code",
   "execution_count": 3,
   "metadata": {},
   "outputs": [],
   "source": [
    "#required package\n",
    "\n",
    "from pandas import read_csv\n",
    "\n",
    "# loading in the csv file with the songs from billboard and musicbrainz\n",
    "\n",
    "df_HH_mb_matched = read_csv('C:/R work/Research/music_data/data/interim_data/df_hh_and_mb_leftjoin_fuzzy.csv')"
   ]
  },
  {
   "cell_type": "code",
   "execution_count": 5,
   "metadata": {},
   "outputs": [],
   "source": [
    "# draw a random observation from the dataframe, retaining only the first two columns \n",
    "random_100_df = df_HH_mb_matched.sample(100)[['Artist', 'Track']]\n",
    "\n"
   ]
  },
  {
   "cell_type": "code",
   "execution_count": 6,
   "metadata": {},
   "outputs": [],
   "source": [
    "#create the song infor retreival function\n",
    "\n",
    "# added a bit to the function to handle errors and retries\n",
    "import time\n",
    "\n",
    "#here the max retries is 3\n",
    "def get_song_data(song_name, artist_name, max_retries=3):\n",
    "    query = f'track:{song_name} artist:{artist_name}'\n",
    "    retries = 0\n",
    "    \n",
    "    #while loop to retry the query if it fails n times (as defined by max_retries)\n",
    "    while retries <= max_retries:\n",
    "        try:\n",
    "            results = sp.search(q=query, type='track', limit=1)\n",
    "            \n",
    "            if results['tracks']['items']:\n",
    "                track = results['tracks']['items'][0]\n",
    "\n",
    "               # Get the track's ID\n",
    "                track_id = track['id']\n",
    "                \n",
    "                # Get the audio features for the track\n",
    "                audio_features = sp.audio_features([track_id])[0]\n",
    "\n",
    "                song_data = {\n",
    "                    'song_name': track['name'],\n",
    "                    'artist_name': track['artists'][0]['name'],\n",
    "                    'album_name_spotify': track['album']['name'],\n",
    "                    'release_date_spotify': track['album']['release_date'],\n",
    "                    'popularity': track['popularity'],\n",
    "                    'explicit': track['explicit'],\n",
    "                    'duration_ms': track['duration_ms'],\n",
    "                    # 'preview_url': track['preview_url'],\n",
    "                    'acousticness': audio_features['acousticness'],\n",
    "                    'danceability': audio_features['danceability'],\n",
    "                    'energy': audio_features['energy'],\n",
    "                    'instrumentalness': audio_features['instrumentalness'],\n",
    "                    'liveness': audio_features['liveness'],\n",
    "                    'loudness': audio_features['loudness'],\n",
    "                    'speechiness': audio_features['speechiness'],\n",
    "                    'valence': audio_features['valence'],\n",
    "                    'tempo': audio_features['tempo'],\n",
    "                    'key': audio_features['key'],\n",
    "                    'mode': audio_features['mode'], # mode is either major or minor\n",
    "                    'time_signature': audio_features['time_signature']\n",
    "                }\n",
    "                return song_data\n",
    "            else:\n",
    "                return None\n",
    "        \n",
    "        except Exception as e:\n",
    "            print(f\"Error: {e}\")\n",
    "            retries += 1\n",
    "            sleep_time = 2 ** retries\n",
    "            print(f\"Retrying ({retries}/{max_retries}) after {sleep_time} seconds\")\n",
    "            time.sleep(sleep_time)\n",
    "    \n",
    "    return None\n",
    "\n"
   ]
  },
  {
   "cell_type": "code",
   "execution_count": 11,
   "metadata": {},
   "outputs": [
    {
     "name": "stderr",
     "output_type": "stream",
     "text": [
      "C:\\Users\\astaub\\AppData\\Local\\Temp\\ipykernel_16592\\1066911844.py:24: FutureWarning: In a future version, object-dtype columns with all-bool values will not be included in reductions with bool_only=True. Explicitly cast to bool dtype instead.\n",
      "  results_df = pd.concat([results_df, song_data_df], ignore_index=True)\n"
     ]
    },
    {
     "name": "stdout",
     "output_type": "stream",
     "text": [
      "Song not found: Karma by Lloyd Banks Featuring Avant\n"
     ]
    },
    {
     "name": "stderr",
     "output_type": "stream",
     "text": [
      "C:\\Users\\astaub\\AppData\\Local\\Temp\\ipykernel_16592\\1066911844.py:24: FutureWarning: In a future version, object-dtype columns with all-bool values will not be included in reductions with bool_only=True. Explicitly cast to bool dtype instead.\n",
      "  results_df = pd.concat([results_df, song_data_df], ignore_index=True)\n",
      "C:\\Users\\astaub\\AppData\\Local\\Temp\\ipykernel_16592\\1066911844.py:24: FutureWarning: In a future version, object-dtype columns with all-bool values will not be included in reductions with bool_only=True. Explicitly cast to bool dtype instead.\n",
      "  results_df = pd.concat([results_df, song_data_df], ignore_index=True)\n",
      "C:\\Users\\astaub\\AppData\\Local\\Temp\\ipykernel_16592\\1066911844.py:24: FutureWarning: In a future version, object-dtype columns with all-bool values will not be included in reductions with bool_only=True. Explicitly cast to bool dtype instead.\n",
      "  results_df = pd.concat([results_df, song_data_df], ignore_index=True)\n",
      "C:\\Users\\astaub\\AppData\\Local\\Temp\\ipykernel_16592\\1066911844.py:24: FutureWarning: In a future version, object-dtype columns with all-bool values will not be included in reductions with bool_only=True. Explicitly cast to bool dtype instead.\n",
      "  results_df = pd.concat([results_df, song_data_df], ignore_index=True)\n"
     ]
    },
    {
     "name": "stdout",
     "output_type": "stream",
     "text": [
      "Song not found: Area Codes by Ludacris Featuring Nate Dogg\n"
     ]
    },
    {
     "name": "stderr",
     "output_type": "stream",
     "text": [
      "C:\\Users\\astaub\\AppData\\Local\\Temp\\ipykernel_16592\\1066911844.py:24: FutureWarning: In a future version, object-dtype columns with all-bool values will not be included in reductions with bool_only=True. Explicitly cast to bool dtype instead.\n",
      "  results_df = pd.concat([results_df, song_data_df], ignore_index=True)\n",
      "C:\\Users\\astaub\\AppData\\Local\\Temp\\ipykernel_16592\\1066911844.py:24: FutureWarning: In a future version, object-dtype columns with all-bool values will not be included in reductions with bool_only=True. Explicitly cast to bool dtype instead.\n",
      "  results_df = pd.concat([results_df, song_data_df], ignore_index=True)\n",
      "C:\\Users\\astaub\\AppData\\Local\\Temp\\ipykernel_16592\\1066911844.py:24: FutureWarning: In a future version, object-dtype columns with all-bool values will not be included in reductions with bool_only=True. Explicitly cast to bool dtype instead.\n",
      "  results_df = pd.concat([results_df, song_data_df], ignore_index=True)\n",
      "C:\\Users\\astaub\\AppData\\Local\\Temp\\ipykernel_16592\\1066911844.py:24: FutureWarning: In a future version, object-dtype columns with all-bool values will not be included in reductions with bool_only=True. Explicitly cast to bool dtype instead.\n",
      "  results_df = pd.concat([results_df, song_data_df], ignore_index=True)\n",
      "C:\\Users\\astaub\\AppData\\Local\\Temp\\ipykernel_16592\\1066911844.py:24: FutureWarning: In a future version, object-dtype columns with all-bool values will not be included in reductions with bool_only=True. Explicitly cast to bool dtype instead.\n",
      "  results_df = pd.concat([results_df, song_data_df], ignore_index=True)\n",
      "C:\\Users\\astaub\\AppData\\Local\\Temp\\ipykernel_16592\\1066911844.py:24: FutureWarning: In a future version, object-dtype columns with all-bool values will not be included in reductions with bool_only=True. Explicitly cast to bool dtype instead.\n",
      "  results_df = pd.concat([results_df, song_data_df], ignore_index=True)\n",
      "C:\\Users\\astaub\\AppData\\Local\\Temp\\ipykernel_16592\\1066911844.py:24: FutureWarning: In a future version, object-dtype columns with all-bool values will not be included in reductions with bool_only=True. Explicitly cast to bool dtype instead.\n",
      "  results_df = pd.concat([results_df, song_data_df], ignore_index=True)\n",
      "C:\\Users\\astaub\\AppData\\Local\\Temp\\ipykernel_16592\\1066911844.py:24: FutureWarning: In a future version, object-dtype columns with all-bool values will not be included in reductions with bool_only=True. Explicitly cast to bool dtype instead.\n",
      "  results_df = pd.concat([results_df, song_data_df], ignore_index=True)\n",
      "C:\\Users\\astaub\\AppData\\Local\\Temp\\ipykernel_16592\\1066911844.py:24: FutureWarning: In a future version, object-dtype columns with all-bool values will not be included in reductions with bool_only=True. Explicitly cast to bool dtype instead.\n",
      "  results_df = pd.concat([results_df, song_data_df], ignore_index=True)\n",
      "C:\\Users\\astaub\\AppData\\Local\\Temp\\ipykernel_16592\\1066911844.py:24: FutureWarning: In a future version, object-dtype columns with all-bool values will not be included in reductions with bool_only=True. Explicitly cast to bool dtype instead.\n",
      "  results_df = pd.concat([results_df, song_data_df], ignore_index=True)\n",
      "C:\\Users\\astaub\\AppData\\Local\\Temp\\ipykernel_16592\\1066911844.py:24: FutureWarning: In a future version, object-dtype columns with all-bool values will not be included in reductions with bool_only=True. Explicitly cast to bool dtype instead.\n",
      "  results_df = pd.concat([results_df, song_data_df], ignore_index=True)\n"
     ]
    },
    {
     "name": "stdout",
     "output_type": "stream",
     "text": [
      "Song not found: If I Could Go! by Angie Martinez Featuring Lil' Mo & Sacario\n",
      "Song not found: Hey Luv (Anything) by Mobb Deep Featuring 112\n"
     ]
    },
    {
     "name": "stderr",
     "output_type": "stream",
     "text": [
      "C:\\Users\\astaub\\AppData\\Local\\Temp\\ipykernel_16592\\1066911844.py:24: FutureWarning: In a future version, object-dtype columns with all-bool values will not be included in reductions with bool_only=True. Explicitly cast to bool dtype instead.\n",
      "  results_df = pd.concat([results_df, song_data_df], ignore_index=True)\n"
     ]
    },
    {
     "name": "stdout",
     "output_type": "stream",
     "text": [
      "Song not found: Sympathy For The Devil (Remixes) by The Rolling Stones\n"
     ]
    },
    {
     "name": "stderr",
     "output_type": "stream",
     "text": [
      "C:\\Users\\astaub\\AppData\\Local\\Temp\\ipykernel_16592\\1066911844.py:24: FutureWarning: In a future version, object-dtype columns with all-bool values will not be included in reductions with bool_only=True. Explicitly cast to bool dtype instead.\n",
      "  results_df = pd.concat([results_df, song_data_df], ignore_index=True)\n",
      "C:\\Users\\astaub\\AppData\\Local\\Temp\\ipykernel_16592\\1066911844.py:24: FutureWarning: In a future version, object-dtype columns with all-bool values will not be included in reductions with bool_only=True. Explicitly cast to bool dtype instead.\n",
      "  results_df = pd.concat([results_df, song_data_df], ignore_index=True)\n"
     ]
    },
    {
     "name": "stdout",
     "output_type": "stream",
     "text": [
      "Song not found: Don't Think I'm Not by Kandi\n"
     ]
    },
    {
     "name": "stderr",
     "output_type": "stream",
     "text": [
      "C:\\Users\\astaub\\AppData\\Local\\Temp\\ipykernel_16592\\1066911844.py:24: FutureWarning: In a future version, object-dtype columns with all-bool values will not be included in reductions with bool_only=True. Explicitly cast to bool dtype instead.\n",
      "  results_df = pd.concat([results_df, song_data_df], ignore_index=True)\n",
      "C:\\Users\\astaub\\AppData\\Local\\Temp\\ipykernel_16592\\1066911844.py:24: FutureWarning: In a future version, object-dtype columns with all-bool values will not be included in reductions with bool_only=True. Explicitly cast to bool dtype instead.\n",
      "  results_df = pd.concat([results_df, song_data_df], ignore_index=True)\n",
      "C:\\Users\\astaub\\AppData\\Local\\Temp\\ipykernel_16592\\1066911844.py:24: FutureWarning: In a future version, object-dtype columns with all-bool values will not be included in reductions with bool_only=True. Explicitly cast to bool dtype instead.\n",
      "  results_df = pd.concat([results_df, song_data_df], ignore_index=True)\n",
      "C:\\Users\\astaub\\AppData\\Local\\Temp\\ipykernel_16592\\1066911844.py:24: FutureWarning: In a future version, object-dtype columns with all-bool values will not be included in reductions with bool_only=True. Explicitly cast to bool dtype instead.\n",
      "  results_df = pd.concat([results_df, song_data_df], ignore_index=True)\n",
      "C:\\Users\\astaub\\AppData\\Local\\Temp\\ipykernel_16592\\1066911844.py:24: FutureWarning: In a future version, object-dtype columns with all-bool values will not be included in reductions with bool_only=True. Explicitly cast to bool dtype instead.\n",
      "  results_df = pd.concat([results_df, song_data_df], ignore_index=True)\n"
     ]
    },
    {
     "name": "stdout",
     "output_type": "stream",
     "text": [
      "Song not found: Don't Think I'm Not by Kandi\n"
     ]
    },
    {
     "name": "stderr",
     "output_type": "stream",
     "text": [
      "C:\\Users\\astaub\\AppData\\Local\\Temp\\ipykernel_16592\\1066911844.py:24: FutureWarning: In a future version, object-dtype columns with all-bool values will not be included in reductions with bool_only=True. Explicitly cast to bool dtype instead.\n",
      "  results_df = pd.concat([results_df, song_data_df], ignore_index=True)\n",
      "C:\\Users\\astaub\\AppData\\Local\\Temp\\ipykernel_16592\\1066911844.py:24: FutureWarning: In a future version, object-dtype columns with all-bool values will not be included in reductions with bool_only=True. Explicitly cast to bool dtype instead.\n",
      "  results_df = pd.concat([results_df, song_data_df], ignore_index=True)\n",
      "C:\\Users\\astaub\\AppData\\Local\\Temp\\ipykernel_16592\\1066911844.py:24: FutureWarning: In a future version, object-dtype columns with all-bool values will not be included in reductions with bool_only=True. Explicitly cast to bool dtype instead.\n",
      "  results_df = pd.concat([results_df, song_data_df], ignore_index=True)\n",
      "C:\\Users\\astaub\\AppData\\Local\\Temp\\ipykernel_16592\\1066911844.py:24: FutureWarning: In a future version, object-dtype columns with all-bool values will not be included in reductions with bool_only=True. Explicitly cast to bool dtype instead.\n",
      "  results_df = pd.concat([results_df, song_data_df], ignore_index=True)\n",
      "C:\\Users\\astaub\\AppData\\Local\\Temp\\ipykernel_16592\\1066911844.py:24: FutureWarning: In a future version, object-dtype columns with all-bool values will not be included in reductions with bool_only=True. Explicitly cast to bool dtype instead.\n",
      "  results_df = pd.concat([results_df, song_data_df], ignore_index=True)\n"
     ]
    },
    {
     "name": "stdout",
     "output_type": "stream",
     "text": [
      "Song not found: Ride Wit Me by Nelly Featuring City Spud\n"
     ]
    },
    {
     "name": "stderr",
     "output_type": "stream",
     "text": [
      "C:\\Users\\astaub\\AppData\\Local\\Temp\\ipykernel_16592\\1066911844.py:24: FutureWarning: In a future version, object-dtype columns with all-bool values will not be included in reductions with bool_only=True. Explicitly cast to bool dtype instead.\n",
      "  results_df = pd.concat([results_df, song_data_df], ignore_index=True)\n",
      "C:\\Users\\astaub\\AppData\\Local\\Temp\\ipykernel_16592\\1066911844.py:24: FutureWarning: In a future version, object-dtype columns with all-bool values will not be included in reductions with bool_only=True. Explicitly cast to bool dtype instead.\n",
      "  results_df = pd.concat([results_df, song_data_df], ignore_index=True)\n",
      "C:\\Users\\astaub\\AppData\\Local\\Temp\\ipykernel_16592\\1066911844.py:24: FutureWarning: In a future version, object-dtype columns with all-bool values will not be included in reductions with bool_only=True. Explicitly cast to bool dtype instead.\n",
      "  results_df = pd.concat([results_df, song_data_df], ignore_index=True)\n",
      "C:\\Users\\astaub\\AppData\\Local\\Temp\\ipykernel_16592\\1066911844.py:24: FutureWarning: In a future version, object-dtype columns with all-bool values will not be included in reductions with bool_only=True. Explicitly cast to bool dtype instead.\n",
      "  results_df = pd.concat([results_df, song_data_df], ignore_index=True)\n",
      "C:\\Users\\astaub\\AppData\\Local\\Temp\\ipykernel_16592\\1066911844.py:24: FutureWarning: In a future version, object-dtype columns with all-bool values will not be included in reductions with bool_only=True. Explicitly cast to bool dtype instead.\n",
      "  results_df = pd.concat([results_df, song_data_df], ignore_index=True)\n",
      "C:\\Users\\astaub\\AppData\\Local\\Temp\\ipykernel_16592\\1066911844.py:24: FutureWarning: In a future version, object-dtype columns with all-bool values will not be included in reductions with bool_only=True. Explicitly cast to bool dtype instead.\n",
      "  results_df = pd.concat([results_df, song_data_df], ignore_index=True)\n",
      "C:\\Users\\astaub\\AppData\\Local\\Temp\\ipykernel_16592\\1066911844.py:24: FutureWarning: In a future version, object-dtype columns with all-bool values will not be included in reductions with bool_only=True. Explicitly cast to bool dtype instead.\n",
      "  results_df = pd.concat([results_df, song_data_df], ignore_index=True)\n",
      "C:\\Users\\astaub\\AppData\\Local\\Temp\\ipykernel_16592\\1066911844.py:24: FutureWarning: In a future version, object-dtype columns with all-bool values will not be included in reductions with bool_only=True. Explicitly cast to bool dtype instead.\n",
      "  results_df = pd.concat([results_df, song_data_df], ignore_index=True)\n",
      "C:\\Users\\astaub\\AppData\\Local\\Temp\\ipykernel_16592\\1066911844.py:24: FutureWarning: In a future version, object-dtype columns with all-bool values will not be included in reductions with bool_only=True. Explicitly cast to bool dtype instead.\n",
      "  results_df = pd.concat([results_df, song_data_df], ignore_index=True)\n",
      "C:\\Users\\astaub\\AppData\\Local\\Temp\\ipykernel_16592\\1066911844.py:24: FutureWarning: In a future version, object-dtype columns with all-bool values will not be included in reductions with bool_only=True. Explicitly cast to bool dtype instead.\n",
      "  results_df = pd.concat([results_df, song_data_df], ignore_index=True)\n",
      "C:\\Users\\astaub\\AppData\\Local\\Temp\\ipykernel_16592\\1066911844.py:24: FutureWarning: In a future version, object-dtype columns with all-bool values will not be included in reductions with bool_only=True. Explicitly cast to bool dtype instead.\n",
      "  results_df = pd.concat([results_df, song_data_df], ignore_index=True)\n",
      "C:\\Users\\astaub\\AppData\\Local\\Temp\\ipykernel_16592\\1066911844.py:24: FutureWarning: In a future version, object-dtype columns with all-bool values will not be included in reductions with bool_only=True. Explicitly cast to bool dtype instead.\n",
      "  results_df = pd.concat([results_df, song_data_df], ignore_index=True)\n",
      "C:\\Users\\astaub\\AppData\\Local\\Temp\\ipykernel_16592\\1066911844.py:24: FutureWarning: In a future version, object-dtype columns with all-bool values will not be included in reductions with bool_only=True. Explicitly cast to bool dtype instead.\n",
      "  results_df = pd.concat([results_df, song_data_df], ignore_index=True)\n",
      "C:\\Users\\astaub\\AppData\\Local\\Temp\\ipykernel_16592\\1066911844.py:24: FutureWarning: In a future version, object-dtype columns with all-bool values will not be included in reductions with bool_only=True. Explicitly cast to bool dtype instead.\n",
      "  results_df = pd.concat([results_df, song_data_df], ignore_index=True)\n",
      "C:\\Users\\astaub\\AppData\\Local\\Temp\\ipykernel_16592\\1066911844.py:24: FutureWarning: In a future version, object-dtype columns with all-bool values will not be included in reductions with bool_only=True. Explicitly cast to bool dtype instead.\n",
      "  results_df = pd.concat([results_df, song_data_df], ignore_index=True)\n",
      "C:\\Users\\astaub\\AppData\\Local\\Temp\\ipykernel_16592\\1066911844.py:24: FutureWarning: In a future version, object-dtype columns with all-bool values will not be included in reductions with bool_only=True. Explicitly cast to bool dtype instead.\n",
      "  results_df = pd.concat([results_df, song_data_df], ignore_index=True)\n",
      "C:\\Users\\astaub\\AppData\\Local\\Temp\\ipykernel_16592\\1066911844.py:24: FutureWarning: In a future version, object-dtype columns with all-bool values will not be included in reductions with bool_only=True. Explicitly cast to bool dtype instead.\n",
      "  results_df = pd.concat([results_df, song_data_df], ignore_index=True)\n"
     ]
    },
    {
     "name": "stdout",
     "output_type": "stream",
     "text": [
      "Song not found: Untitled (How Does It Feel) by D'Angelo\n"
     ]
    },
    {
     "name": "stderr",
     "output_type": "stream",
     "text": [
      "C:\\Users\\astaub\\AppData\\Local\\Temp\\ipykernel_16592\\1066911844.py:24: FutureWarning: In a future version, object-dtype columns with all-bool values will not be included in reductions with bool_only=True. Explicitly cast to bool dtype instead.\n",
      "  results_df = pd.concat([results_df, song_data_df], ignore_index=True)\n",
      "C:\\Users\\astaub\\AppData\\Local\\Temp\\ipykernel_16592\\1066911844.py:24: FutureWarning: In a future version, object-dtype columns with all-bool values will not be included in reductions with bool_only=True. Explicitly cast to bool dtype instead.\n",
      "  results_df = pd.concat([results_df, song_data_df], ignore_index=True)\n"
     ]
    },
    {
     "name": "stdout",
     "output_type": "stream",
     "text": [
      "Song not found: What Happened To That Boy by Baby Featuring Clipse\n"
     ]
    },
    {
     "name": "stderr",
     "output_type": "stream",
     "text": [
      "C:\\Users\\astaub\\AppData\\Local\\Temp\\ipykernel_16592\\1066911844.py:24: FutureWarning: In a future version, object-dtype columns with all-bool values will not be included in reductions with bool_only=True. Explicitly cast to bool dtype instead.\n",
      "  results_df = pd.concat([results_df, song_data_df], ignore_index=True)\n",
      "C:\\Users\\astaub\\AppData\\Local\\Temp\\ipykernel_16592\\1066911844.py:24: FutureWarning: In a future version, object-dtype columns with all-bool values will not be included in reductions with bool_only=True. Explicitly cast to bool dtype instead.\n",
      "  results_df = pd.concat([results_df, song_data_df], ignore_index=True)\n",
      "C:\\Users\\astaub\\AppData\\Local\\Temp\\ipykernel_16592\\1066911844.py:24: FutureWarning: In a future version, object-dtype columns with all-bool values will not be included in reductions with bool_only=True. Explicitly cast to bool dtype instead.\n",
      "  results_df = pd.concat([results_df, song_data_df], ignore_index=True)\n",
      "C:\\Users\\astaub\\AppData\\Local\\Temp\\ipykernel_16592\\1066911844.py:24: FutureWarning: In a future version, object-dtype columns with all-bool values will not be included in reductions with bool_only=True. Explicitly cast to bool dtype instead.\n",
      "  results_df = pd.concat([results_df, song_data_df], ignore_index=True)\n",
      "C:\\Users\\astaub\\AppData\\Local\\Temp\\ipykernel_16592\\1066911844.py:24: FutureWarning: In a future version, object-dtype columns with all-bool values will not be included in reductions with bool_only=True. Explicitly cast to bool dtype instead.\n",
      "  results_df = pd.concat([results_df, song_data_df], ignore_index=True)\n",
      "C:\\Users\\astaub\\AppData\\Local\\Temp\\ipykernel_16592\\1066911844.py:24: FutureWarning: In a future version, object-dtype columns with all-bool values will not be included in reductions with bool_only=True. Explicitly cast to bool dtype instead.\n",
      "  results_df = pd.concat([results_df, song_data_df], ignore_index=True)\n"
     ]
    },
    {
     "name": "stdout",
     "output_type": "stream",
     "text": [
      "Song not found: Move Ya Body by Nina Sky Featuring Jabba\n"
     ]
    },
    {
     "name": "stderr",
     "output_type": "stream",
     "text": [
      "C:\\Users\\astaub\\AppData\\Local\\Temp\\ipykernel_16592\\1066911844.py:24: FutureWarning: In a future version, object-dtype columns with all-bool values will not be included in reductions with bool_only=True. Explicitly cast to bool dtype instead.\n",
      "  results_df = pd.concat([results_df, song_data_df], ignore_index=True)\n",
      "C:\\Users\\astaub\\AppData\\Local\\Temp\\ipykernel_16592\\1066911844.py:24: FutureWarning: In a future version, object-dtype columns with all-bool values will not be included in reductions with bool_only=True. Explicitly cast to bool dtype instead.\n",
      "  results_df = pd.concat([results_df, song_data_df], ignore_index=True)\n",
      "C:\\Users\\astaub\\AppData\\Local\\Temp\\ipykernel_16592\\1066911844.py:24: FutureWarning: In a future version, object-dtype columns with all-bool values will not be included in reductions with bool_only=True. Explicitly cast to bool dtype instead.\n",
      "  results_df = pd.concat([results_df, song_data_df], ignore_index=True)\n",
      "C:\\Users\\astaub\\AppData\\Local\\Temp\\ipykernel_16592\\1066911844.py:24: FutureWarning: In a future version, object-dtype columns with all-bool values will not be included in reductions with bool_only=True. Explicitly cast to bool dtype instead.\n",
      "  results_df = pd.concat([results_df, song_data_df], ignore_index=True)\n",
      "C:\\Users\\astaub\\AppData\\Local\\Temp\\ipykernel_16592\\1066911844.py:24: FutureWarning: In a future version, object-dtype columns with all-bool values will not be included in reductions with bool_only=True. Explicitly cast to bool dtype instead.\n",
      "  results_df = pd.concat([results_df, song_data_df], ignore_index=True)\n",
      "C:\\Users\\astaub\\AppData\\Local\\Temp\\ipykernel_16592\\1066911844.py:24: FutureWarning: In a future version, object-dtype columns with all-bool values will not be included in reductions with bool_only=True. Explicitly cast to bool dtype instead.\n",
      "  results_df = pd.concat([results_df, song_data_df], ignore_index=True)\n",
      "C:\\Users\\astaub\\AppData\\Local\\Temp\\ipykernel_16592\\1066911844.py:24: FutureWarning: In a future version, object-dtype columns with all-bool values will not be included in reductions with bool_only=True. Explicitly cast to bool dtype instead.\n",
      "  results_df = pd.concat([results_df, song_data_df], ignore_index=True)\n"
     ]
    },
    {
     "name": "stdout",
     "output_type": "stream",
     "text": [
      "Song not found: Gangsta Lovin' by Eve Featuring Alicia Keys\n"
     ]
    },
    {
     "name": "stderr",
     "output_type": "stream",
     "text": [
      "C:\\Users\\astaub\\AppData\\Local\\Temp\\ipykernel_16592\\1066911844.py:24: FutureWarning: In a future version, object-dtype columns with all-bool values will not be included in reductions with bool_only=True. Explicitly cast to bool dtype instead.\n",
      "  results_df = pd.concat([results_df, song_data_df], ignore_index=True)\n",
      "C:\\Users\\astaub\\AppData\\Local\\Temp\\ipykernel_16592\\1066911844.py:24: FutureWarning: In a future version, object-dtype columns with all-bool values will not be included in reductions with bool_only=True. Explicitly cast to bool dtype instead.\n",
      "  results_df = pd.concat([results_df, song_data_df], ignore_index=True)\n",
      "C:\\Users\\astaub\\AppData\\Local\\Temp\\ipykernel_16592\\1066911844.py:24: FutureWarning: In a future version, object-dtype columns with all-bool values will not be included in reductions with bool_only=True. Explicitly cast to bool dtype instead.\n",
      "  results_df = pd.concat([results_df, song_data_df], ignore_index=True)\n",
      "C:\\Users\\astaub\\AppData\\Local\\Temp\\ipykernel_16592\\1066911844.py:24: FutureWarning: In a future version, object-dtype columns with all-bool values will not be included in reductions with bool_only=True. Explicitly cast to bool dtype instead.\n",
      "  results_df = pd.concat([results_df, song_data_df], ignore_index=True)\n"
     ]
    },
    {
     "name": "stdout",
     "output_type": "stream",
     "text": [
      "Song not found: Drift Away by Uncle Kracker Featuring Dobie Gray\n"
     ]
    },
    {
     "name": "stderr",
     "output_type": "stream",
     "text": [
      "C:\\Users\\astaub\\AppData\\Local\\Temp\\ipykernel_16592\\1066911844.py:24: FutureWarning: In a future version, object-dtype columns with all-bool values will not be included in reductions with bool_only=True. Explicitly cast to bool dtype instead.\n",
      "  results_df = pd.concat([results_df, song_data_df], ignore_index=True)\n",
      "C:\\Users\\astaub\\AppData\\Local\\Temp\\ipykernel_16592\\1066911844.py:24: FutureWarning: In a future version, object-dtype columns with all-bool values will not be included in reductions with bool_only=True. Explicitly cast to bool dtype instead.\n",
      "  results_df = pd.concat([results_df, song_data_df], ignore_index=True)\n",
      "C:\\Users\\astaub\\AppData\\Local\\Temp\\ipykernel_16592\\1066911844.py:24: FutureWarning: In a future version, object-dtype columns with all-bool values will not be included in reductions with bool_only=True. Explicitly cast to bool dtype instead.\n",
      "  results_df = pd.concat([results_df, song_data_df], ignore_index=True)\n",
      "C:\\Users\\astaub\\AppData\\Local\\Temp\\ipykernel_16592\\1066911844.py:24: FutureWarning: In a future version, object-dtype columns with all-bool values will not be included in reductions with bool_only=True. Explicitly cast to bool dtype instead.\n",
      "  results_df = pd.concat([results_df, song_data_df], ignore_index=True)\n",
      "C:\\Users\\astaub\\AppData\\Local\\Temp\\ipykernel_16592\\1066911844.py:24: FutureWarning: In a future version, object-dtype columns with all-bool values will not be included in reductions with bool_only=True. Explicitly cast to bool dtype instead.\n",
      "  results_df = pd.concat([results_df, song_data_df], ignore_index=True)\n"
     ]
    },
    {
     "name": "stdout",
     "output_type": "stream",
     "text": [
      "Song not found: Feel It Boy by Beenie Man Featuring Janet\n"
     ]
    },
    {
     "name": "stderr",
     "output_type": "stream",
     "text": [
      "C:\\Users\\astaub\\AppData\\Local\\Temp\\ipykernel_16592\\1066911844.py:24: FutureWarning: In a future version, object-dtype columns with all-bool values will not be included in reductions with bool_only=True. Explicitly cast to bool dtype instead.\n",
      "  results_df = pd.concat([results_df, song_data_df], ignore_index=True)\n",
      "C:\\Users\\astaub\\AppData\\Local\\Temp\\ipykernel_16592\\1066911844.py:24: FutureWarning: In a future version, object-dtype columns with all-bool values will not be included in reductions with bool_only=True. Explicitly cast to bool dtype instead.\n",
      "  results_df = pd.concat([results_df, song_data_df], ignore_index=True)\n",
      "C:\\Users\\astaub\\AppData\\Local\\Temp\\ipykernel_16592\\1066911844.py:24: FutureWarning: In a future version, object-dtype columns with all-bool values will not be included in reductions with bool_only=True. Explicitly cast to bool dtype instead.\n",
      "  results_df = pd.concat([results_df, song_data_df], ignore_index=True)\n",
      "C:\\Users\\astaub\\AppData\\Local\\Temp\\ipykernel_16592\\1066911844.py:24: FutureWarning: In a future version, object-dtype columns with all-bool values will not be included in reductions with bool_only=True. Explicitly cast to bool dtype instead.\n",
      "  results_df = pd.concat([results_df, song_data_df], ignore_index=True)\n",
      "C:\\Users\\astaub\\AppData\\Local\\Temp\\ipykernel_16592\\1066911844.py:24: FutureWarning: In a future version, object-dtype columns with all-bool values will not be included in reductions with bool_only=True. Explicitly cast to bool dtype instead.\n",
      "  results_df = pd.concat([results_df, song_data_df], ignore_index=True)\n",
      "C:\\Users\\astaub\\AppData\\Local\\Temp\\ipykernel_16592\\1066911844.py:24: FutureWarning: In a future version, object-dtype columns with all-bool values will not be included in reductions with bool_only=True. Explicitly cast to bool dtype instead.\n",
      "  results_df = pd.concat([results_df, song_data_df], ignore_index=True)\n"
     ]
    },
    {
     "name": "stdout",
     "output_type": "stream",
     "text": [
      "Song not found: Oochie Wally by QB Finest Featuring Nas & Bravehearts\n"
     ]
    },
    {
     "name": "stderr",
     "output_type": "stream",
     "text": [
      "C:\\Users\\astaub\\AppData\\Local\\Temp\\ipykernel_16592\\1066911844.py:24: FutureWarning: In a future version, object-dtype columns with all-bool values will not be included in reductions with bool_only=True. Explicitly cast to bool dtype instead.\n",
      "  results_df = pd.concat([results_df, song_data_df], ignore_index=True)\n",
      "C:\\Users\\astaub\\AppData\\Local\\Temp\\ipykernel_16592\\1066911844.py:24: FutureWarning: In a future version, object-dtype columns with all-bool values will not be included in reductions with bool_only=True. Explicitly cast to bool dtype instead.\n",
      "  results_df = pd.concat([results_df, song_data_df], ignore_index=True)\n",
      "C:\\Users\\astaub\\AppData\\Local\\Temp\\ipykernel_16592\\1066911844.py:24: FutureWarning: In a future version, object-dtype columns with all-bool values will not be included in reductions with bool_only=True. Explicitly cast to bool dtype instead.\n",
      "  results_df = pd.concat([results_df, song_data_df], ignore_index=True)\n",
      "C:\\Users\\astaub\\AppData\\Local\\Temp\\ipykernel_16592\\1066911844.py:24: FutureWarning: In a future version, object-dtype columns with all-bool values will not be included in reductions with bool_only=True. Explicitly cast to bool dtype instead.\n",
      "  results_df = pd.concat([results_df, song_data_df], ignore_index=True)\n",
      "C:\\Users\\astaub\\AppData\\Local\\Temp\\ipykernel_16592\\1066911844.py:24: FutureWarning: In a future version, object-dtype columns with all-bool values will not be included in reductions with bool_only=True. Explicitly cast to bool dtype instead.\n",
      "  results_df = pd.concat([results_df, song_data_df], ignore_index=True)\n"
     ]
    },
    {
     "name": "stdout",
     "output_type": "stream",
     "text": [
      "Song not found: I'm Your Angel by R. Kelly & Celine Dion\n"
     ]
    },
    {
     "name": "stderr",
     "output_type": "stream",
     "text": [
      "C:\\Users\\astaub\\AppData\\Local\\Temp\\ipykernel_16592\\1066911844.py:24: FutureWarning: In a future version, object-dtype columns with all-bool values will not be included in reductions with bool_only=True. Explicitly cast to bool dtype instead.\n",
      "  results_df = pd.concat([results_df, song_data_df], ignore_index=True)\n"
     ]
    },
    {
     "name": "stdout",
     "output_type": "stream",
     "text": [
      "Song not found: Work It by Missy \"Misdemeanor\" Elliott\n"
     ]
    }
   ],
   "source": [
    "# create an empty dataframe\n",
    "results_df = pd.DataFrame(columns=[\"Track\", \"Artist\", \"song_name\", \"artist_name\", \"album_name_spotify\", \"release_date_spotify\",\n",
    "                                    \"popularity\", \"explicit\", \"duration_ms\", \"acousticness\", \"danceability\",\"energy\",\"instrumentalness\",\n",
    "                                    \"liveness\", \"loudness\", \"speechiness\", \"valence\", \"tempo\", \"key\", \"mode\", \"time_signature\"])\n",
    "\n",
    "# loop over the random sample dataframe\n",
    "\n",
    "rest_period = 0.2  # Time in seconds between requests\n",
    "\n",
    "for index, row in random_100_df.iterrows():\n",
    "    song_name = row[\"Track\"]\n",
    "    artist_name = row[\"Artist\"]\n",
    "\n",
    "    song_data = get_song_data(song_name, artist_name)\n",
    "    if song_data:\n",
    "        song_data[\"Track\"] = song_name\n",
    "        song_data[\"Artist\"] = artist_name\n",
    "\n",
    "        # Convert song_data dictionary to a DataFrame\n",
    "        song_data_df = pd.DataFrame([song_data])\n",
    "\n",
    "        # changed results.append to results_df.concat as per the errors in the previous code\n",
    "        \n",
    "        results_df = pd.concat([results_df, song_data_df], ignore_index=True)\n",
    "    else:\n",
    "        print(f\"Song not found: {song_name} by {artist_name}\")\n",
    "        \n",
    "    time.sleep(rest_period)  # Pause execution for the specified rest period    \n",
    "\n"
   ]
  }
 ],
 "metadata": {
  "kernelspec": {
   "display_name": "music_data",
   "language": "python",
   "name": "python3"
  },
  "language_info": {
   "codemirror_mode": {
    "name": "ipython",
    "version": 3
   },
   "file_extension": ".py",
   "mimetype": "text/x-python",
   "name": "python",
   "nbconvert_exporter": "python",
   "pygments_lexer": "ipython3",
   "version": "3.10.9"
  },
  "orig_nbformat": 4
 },
 "nbformat": 4,
 "nbformat_minor": 2
}
