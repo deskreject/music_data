{
 "cells": [
  {
   "cell_type": "markdown",
   "metadata": {},
   "source": [
    "\t# Author: Alexander Staub\n",
    "\t## Last changed: 2025.02.04\n",
    "\t## Purpose: Trialing the Chartmetrci API\n"
   ]
  },
  {
   "cell_type": "code",
   "execution_count": 1,
   "metadata": {},
   "outputs": [],
   "source": [
    "#installing packages\n",
    "import requests\n",
    "from pprint import pprint"
   ]
  },
  {
   "cell_type": "code",
   "execution_count": 9,
   "metadata": {},
   "outputs": [],
   "source": [
    "# Define API host and your refresh token\n",
    "HOST = 'https://api.chartmetric.com'\n",
    "with open(\"chartmetric_refresh_token.txt\", \"r\") as f:\n",
    "    REFRESH_TOKEN = f.read().strip()"
   ]
  },
  {
   "cell_type": "code",
   "execution_count": 10,
   "metadata": {},
   "outputs": [],
   "source": [
    "# Retrieve an access token using the refresh token\n",
    "token_response = requests.post(f'{HOST}/api/token', json={'refreshtoken': REFRESH_TOKEN})\n",
    "if token_response.status_code != 200:\n",
    "    raise Exception(f\"Error: received {token_response.status_code} from /api/token\")\n",
    "access_token = token_response.json()['token']"
   ]
  },
  {
   "cell_type": "code",
   "execution_count": 11,
   "metadata": {},
   "outputs": [],
   "source": [
    "# Setup headers with the retrieved access token\n",
    "headers = {'Authorization': f'Bearer {access_token}'}\n",
    "\n",
    "def get_request(endpoint, params=None, retry=True):\n",
    "    response = requests.get(f\"{HOST}{endpoint}\", headers=headers, params=params)\n",
    "    if response.status_code == 401 and retry:\n",
    "        # Refresh the token\n",
    "        token_response = requests.post(f'{HOST}/api/token', json={'refreshtoken': REFRESH_TOKEN})\n",
    "        if token_response.status_code != 200:\n",
    "            raise Exception(f\"Error: received {token_response.status_code} when refreshing token\")\n",
    "        new_token = token_response.json()['token']\n",
    "        headers['Authorization'] = f'Bearer {new_token}'\n",
    "        # Retry the request once\n",
    "        response = requests.get(f\"{HOST}{endpoint}\", headers=headers, params=params)\n",
    "    if response.status_code != 200:\n",
    "        raise Exception(f\"Error: received {response.status_code} when accessing {endpoint} - {response.text}\")\n",
    "    return response.json()"
   ]
  },
  {
   "cell_type": "markdown",
   "metadata": {},
   "source": []
  },
  {
   "cell_type": "markdown",
   "metadata": {},
   "source": [
    "Use Spotify ID to access song characteristics:\n",
    "- load in a subset of the spotify songs with spotify IDs\n",
    "- Loop over them to get the chartmetric IDs and any other further information accessible\n",
    "- use chartmetric IDs to get the information of relevance\n",
    "- setup code in a way that allows us to get information for our relevant songs"
   ]
  },
  {
   "cell_type": "code",
   "execution_count": 6,
   "metadata": {},
   "outputs": [],
   "source": [
    "#read in the first 100 lines from the file \"AD_spotify_accoustic_char_250k.csv\" in the data/raw_data/Spotify folder and call it spotify_sample\n",
    "# the data directory is 2 directories down from the current directory\n",
    "# it should be a pandas dataframe and the csv has headers\n",
    "\n",
    "import pandas as pd\n",
    "\n",
    "spotify_sample = pd.read_csv(\"../../data/raw_data/Spotify/AD_spotify_accoustic_char_250k.csv\", nrows=100)\n"
   ]
  },
  {
   "cell_type": "code",
   "execution_count": 12,
   "metadata": {},
   "outputs": [],
   "source": [
    "# Define a function that retrieves Chartmetric IDs for a given ISRC code\n",
    "\n",
    "def get_chartmetric_ids(isrc):\n",
    "\n",
    "    # Define the endpoint for the API request\n",
    "    endpoint = f\"/api/track/isrc/{isrc}/get-ids\"\n",
    "\n",
    "    # Make the API request\n",
    "    try:\n",
    "        response = get_request(endpoint)\n",
    "\n",
    "    # Catch any exceptions that occur during the request\n",
    "    except Exception as e:\n",
    "        # Log the error if needed; return NA (using None) and proceed\n",
    "        print(f\"Error for ISRC {isrc}: {e}\")\n",
    "        return None\n",
    "\n",
    "    # Check if a valid object was returned; if not, return NA\n",
    "    if response.get(\"obj\") and isinstance(response[\"obj\"], list) and len(response[\"obj\"]) > 0:\n",
    "        return response[\"obj\"][0].get(\"chartmetric_ids\", None)\n",
    "    else:\n",
    "        return None\n",
    "\n",
    "# Apply the function to the ISRC column in the Spotify sample data\n",
    "spotify_sample[\"chartmetric_ids\"] = spotify_sample[\"ISRC\"].apply(get_chartmetric_ids)\n",
    "\n"
   ]
  },
  {
   "cell_type": "code",
   "execution_count": 13,
   "metadata": {},
   "outputs": [],
   "source": [
    "#transform the object type into float \n",
    "spotify_sample[\"chartmetric_ids\"] = spotify_sample[\"chartmetric_ids\"].apply(\n",
    "    lambda x: float(x[0]) if isinstance(x, list) and len(x) > 0 else None\n",
    ")"
   ]
  },
  {
   "cell_type": "code",
   "execution_count": 14,
   "metadata": {},
   "outputs": [],
   "source": [
    "#retain only the rows with unique chartmetric_ids\n",
    "spotify_sample_unique = spotify_sample.drop_duplicates(subset=\"chartmetric_ids\")"
   ]
  },
  {
   "cell_type": "code",
   "execution_count": null,
   "metadata": {},
   "outputs": [],
   "source": [
    "# try the playlist endpoint with an actual playlist id = 2183278\n",
    "\n",
    "playlist_endpoint = '/api/playlist/spotify/2183278/current/tracks'\n",
    "\n",
    "playlist_output = get_request(playlist_endpoint)\n",
    "\n",
    "pprint(playlist_output)"
   ]
  }
 ],
 "metadata": {
  "kernelspec": {
   "display_name": "music_data_chartmetric",
   "language": "python",
   "name": "python3"
  },
  "language_info": {
   "codemirror_mode": {
    "name": "ipython",
    "version": 3
   },
   "file_extension": ".py",
   "mimetype": "text/x-python",
   "name": "python",
   "nbconvert_exporter": "python",
   "pygments_lexer": "ipython3",
   "version": "3.12.8"
  }
 },
 "nbformat": 4,
 "nbformat_minor": 2
}
