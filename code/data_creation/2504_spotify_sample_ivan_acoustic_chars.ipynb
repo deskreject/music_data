{
 "cells": [
  {
   "cell_type": "code",
   "execution_count": null,
   "metadata": {},
   "outputs": [],
   "source": [
    "'''\n",
    "author: Alexander Staub\n",
    "Date: 2025-04-21\n",
    "Description: Short script to get a 150 song sample from the dataset of songs we have acoustic characteristics for already. \n",
    "\n",
    "'''"
   ]
  },
  {
   "cell_type": "code",
   "execution_count": 2,
   "metadata": {},
   "outputs": [],
   "source": [
    "#load packages to read csv and to mainpuate dataframes\n",
    "import pandas as pd\n",
    "import numpy as np\n",
    "import random\n",
    "import os #to get the current working directory\n"
   ]
  },
  {
   "cell_type": "code",
   "execution_count": 4,
   "metadata": {},
   "outputs": [
    {
     "name": "stdout",
     "output_type": "stream",
     "text": [
      "(465100, 23)\n"
     ]
    }
   ],
   "source": [
    "#point to the correct base working directory which is two directories down from the script\n",
    "base_dir = os.path.abspath(os.path.join(os.getcwd(), '../..'))\n",
    "\n",
    "#load the dataset which is located in data/raw_data/Spotify/\"AD_spotify_accoustic_char_250k.csv\" relative to base_dir\n",
    "\n",
    "spotify_data =  pd.read_csv(os.path.join(base_dir, 'data', 'raw_data', 'Spotify', 'AD_spotify_accoustic_char_250k.csv'))\n",
    "\n",
    "#check the shape of the dataset\n",
    "print(spotify_data.shape)"
   ]
  },
  {
   "cell_type": "code",
   "execution_count": 7,
   "metadata": {},
   "outputs": [],
   "source": [
    "#create a dataframe that is a random sample of 150 songs from the spotify_data\n",
    "random_sample_full = spotify_data.sample(n=110, random_state=1)\n",
    "\n",
    "#remove any duplicates based on the Spotify ID column\n",
    "\n",
    "random_sample_clean = random_sample_full.drop_duplicates(subset='Spotify ID')"
   ]
  },
  {
   "cell_type": "code",
   "execution_count": 8,
   "metadata": {},
   "outputs": [],
   "source": [
    "#create a dataframe that only contains the column \"Spotify ID\"\n",
    "\n",
    "random_sample_ivan = random_sample_clean[['Spotify ID']]"
   ]
  },
  {
   "cell_type": "code",
   "execution_count": 10,
   "metadata": {},
   "outputs": [],
   "source": [
    "#save the \"full\" and \"ivan\" dataframe as csvs to data/interim/Ivan_spotify_sample\n",
    "random_sample_full.to_csv(os.path.join(base_dir, 'data', 'interim_data', 'Ivan_spotify_sample', 'ivan_sample_full.csv'), index=False)\n",
    "random_sample_ivan.to_csv(os.path.join(base_dir, 'data', 'interim_data', 'Ivan_spotify_sample', 'ivan_sample_send.csv'), index=False)"
   ]
  }
 ],
 "metadata": {
  "kernelspec": {
   "display_name": "music_data_chartmetric",
   "language": "python",
   "name": "python3"
  },
  "language_info": {
   "codemirror_mode": {
    "name": "ipython",
    "version": 3
   },
   "file_extension": ".py",
   "mimetype": "text/x-python",
   "name": "python",
   "nbconvert_exporter": "python",
   "pygments_lexer": "ipython3",
   "version": "3.12.8"
  }
 },
 "nbformat": 4,
 "nbformat_minor": 2
}
