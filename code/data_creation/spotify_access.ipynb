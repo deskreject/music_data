{
 "cells": [
  {
   "attachments": {},
   "cell_type": "markdown",
   "metadata": {},
   "source": [
    "\t# Author: Alexander Staub\n",
    "\t## Last changed: 2023.03.21\n",
    "\t## Purpose: Accessing the Spotify API\n"
   ]
  },
  {
   "cell_type": "code",
   "execution_count": 1,
   "metadata": {},
   "outputs": [],
   "source": [
    "import os\n",
    "import spotipy # lightweight Python library for the Spotify Web API\n",
    "import pandas as pd\n",
    "from spotipy.oauth2 import SpotifyClientCredentials # to access authorised Spotify data"
   ]
  },
  {
   "cell_type": "code",
   "execution_count": 2,
   "metadata": {},
   "outputs": [],
   "source": [
    "# package for accessing the local environment variables\n",
    "import os\n",
    "\n",
    "# get the client id and client secret from the environment variables\n",
    "client_id = os.environ.get('SPOTIPY_CLIENT_ID')\n",
    "client_secret = os.environ.get('SPOTIPY_CLIENT_SECRET')\n",
    "\n",
    "if not client_id or not client_secret:\n",
    "    raise ValueError(\"Spotify API credentials not found in environment variables\")\n",
    "\n",
    "sp = spotipy.Spotify(auth_manager=SpotifyClientCredentials(client_id=client_id, client_secret=client_secret))"
   ]
  }
 ],
 "metadata": {
  "kernelspec": {
   "display_name": "music_data",
   "language": "python",
   "name": "python3"
  },
  "language_info": {
   "codemirror_mode": {
    "name": "ipython",
    "version": 3
   },
   "file_extension": ".py",
   "mimetype": "text/x-python",
   "name": "python",
   "nbconvert_exporter": "python",
   "pygments_lexer": "ipython3",
   "version": "3.10.9"
  },
  "orig_nbformat": 4
 },
 "nbformat": 4,
 "nbformat_minor": 2
}
