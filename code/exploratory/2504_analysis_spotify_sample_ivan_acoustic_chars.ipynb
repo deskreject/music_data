{
 "cells": [
  {
   "cell_type": "code",
   "execution_count": null,
   "id": "d296d89b",
   "metadata": {},
   "outputs": [],
   "source": [
    "'''\n",
    "author: Alexander Staub\n",
    "Date: 2025-04-21\n",
    "Description: Short script to get a 150 song sample from the dataset of songs we have acoustic characteristics for already. \n",
    "\n",
    "'''"
   ]
  },
  {
   "cell_type": "code",
   "execution_count": 3,
   "id": "77084412",
   "metadata": {},
   "outputs": [],
   "source": [
    "#load packages to read csv and to mainpuate dataframes\n",
    "import pandas as pd\n",
    "import numpy as np\n",
    "import random\n",
    "import os #to get the current working directory\n",
    "import json\n"
   ]
  },
  {
   "cell_type": "code",
   "execution_count": 2,
   "id": "229c14a8",
   "metadata": {},
   "outputs": [],
   "source": [
    "# set the working directory two sections down\n",
    "base_dir = os.path.abspath(os.path.join(os.getcwd(), '../..'))\n",
    "\n",
    "# load the dataset ivan_sample_full.csv from data/interim/Ivan_spotify_sample\n",
    "df_ivan_shared = pd.read_csv(os.path.join(base_dir, 'data', 'interim_data', 'Ivan_spotify_sample', 'ivan_sample_full.csv'))"
   ]
  },
  {
   "cell_type": "code",
   "execution_count": 6,
   "id": "d5d6c80c",
   "metadata": {},
   "outputs": [],
   "source": [
    "#loading the json that Ivan returned\n",
    "with open(os.path.join(base_dir, 'data','raw_data', 'Ivan_soundstat','sample_tracks_analyzed.json'), 'r') as f:\n",
    "    json_data = json.load(f)"
   ]
  },
  {
   "cell_type": "code",
   "execution_count": 7,
   "id": "7d1811ee",
   "metadata": {},
   "outputs": [],
   "source": [
    "#Extract the relevant track information\n",
    "ivan_returned_full = json_data['successful']\n",
    "\n",
    "#Extract the relevant track information\n",
    "valid_tracks = [\n",
    "    {\n",
    "        'Spotify ID': t['data'].get('id'),\n",
    "        'Title': t['data'].get('name'),\n",
    "        'Artist': ', '.join(t['data'].get('artists', [])),\n",
    "        **pd.json_normalize(t['data']['features'], sep='_').iloc[0].to_dict()\n",
    "    }\n",
    "    for t in ivan_returned_full\n",
    "    if isinstance(t.get('data'), dict) and 'features' in t['data']\n",
    "]\n",
    "\n",
    "#convert to DataFrame\n",
    "df_ivan_returned = pd.DataFrame(valid_tracks)"
   ]
  },
  {
   "cell_type": "code",
   "execution_count": 9,
   "id": "ec3cf807",
   "metadata": {},
   "outputs": [],
   "source": [
    "#add 2 example tracks to the df_ivan_returned dataset.\n",
    "# the first one has 0s for all features, the second one has 1s for all features\n",
    "\n",
    "df_ivan_returned = pd.concat([df_ivan_returned, pd.DataFrame([\n",
    "    {\n",
    "        'Spotify ID': '0',\n",
    "        'Title': '0s track',\n",
    "        'Artist': '0s artist',\n",
    "        **{col: 0 for col in df_ivan_returned.columns if col not in ['Spotify ID', 'Title', 'Artist']}\n",
    "    },\n",
    "    {\n",
    "        'Spotify ID': '1',\n",
    "        'Title': '1s track',\n",
    "        'Artist': '1s artist',\n",
    "        **{col: 1 for col in df_ivan_returned.columns if col not in ['Spotify ID', 'Title', 'Artist']}\n",
    "    }\n",
    "])])\n"
   ]
  },
  {
   "cell_type": "code",
   "execution_count": 10,
   "id": "5e1cd820",
   "metadata": {},
   "outputs": [],
   "source": [
    "#remove all rows from the _shared dataset that aren't in the _returned dataset\n",
    "df_ivan_shared_subset = df_ivan_shared[df_ivan_shared['Spotify ID'].isin(df_ivan_returned['Spotify ID'])]"
   ]
  },
  {
   "cell_type": "code",
   "execution_count": null,
   "id": "5574b502",
   "metadata": {},
   "outputs": [],
   "source": [
    "#keep only the feature columns that match between the two datasets\n",
    "df_ivan_shared_subset = df_ivan_shared_subset[df_ivan_shared_subset.columns.intersection(df_ivan_returned.columns)]\n",
    "df_ivan_returned_subset = df_ivan_returned[df_ivan_returned.columns.intersection(df_ivan_shared_subset.columns)]\n"
   ]
  },
  {
   "cell_type": "code",
   "execution_count": 19,
   "id": "6dc76650",
   "metadata": {},
   "outputs": [],
   "source": [
    "#calculate the correlation coefficients between each feature variable (excluding Spotify ID, Title, and Artist) between each dataset\n",
    "correlation_matrix = {}\n",
    "\n",
    "\n",
    "for c in df_ivan_shared_subset.columns:\n",
    "    if c in ['Spotify ID','Title','Artist']:\n",
    "        continue\n",
    "    correlation_matrix[c] = (\n",
    "        df_ivan_shared_subset[c]\n",
    "        .corr(df_ivan_returned_subset[c])\n",
    "    )"
   ]
  }
 ],
 "metadata": {
  "kernelspec": {
   "display_name": "music_data_chartmetric",
   "language": "python",
   "name": "python3"
  },
  "language_info": {
   "codemirror_mode": {
    "name": "ipython",
    "version": 3
   },
   "file_extension": ".py",
   "mimetype": "text/x-python",
   "name": "python",
   "nbconvert_exporter": "python",
   "pygments_lexer": "ipython3",
   "version": "3.12.8"
  }
 },
 "nbformat": 4,
 "nbformat_minor": 5
}
