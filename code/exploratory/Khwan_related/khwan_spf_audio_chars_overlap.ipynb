{
 "cells": [
  {
   "cell_type": "markdown",
   "id": "b882b43e",
   "metadata": {},
   "source": [
    "\t# Author: Alexander Staub\n",
    "\t## Last changed: 2025.08.26\n",
    "\t## Purpose: Checking the overlap between Khwan's audio char data and our data\n"
   ]
  },
  {
   "cell_type": "code",
   "execution_count": 1,
   "id": "8916d80e",
   "metadata": {},
   "outputs": [],
   "source": [
    "#installing packages\n",
    "import logging\n",
    "import pandas as pd\n",
    "from pprint import pprint\n",
    "import numpy as np\n",
    "import json\n",
    "import os\n",
    "import glob\n",
    "from typing import Dict, Any, List, Optional\n",
    "import gc  # For garbage collection\n",
    "import csv"
   ]
  },
  {
   "cell_type": "code",
   "execution_count": 3,
   "id": "c55ed0c4",
   "metadata": {},
   "outputs": [],
   "source": [
    "# loading in the relevant datasets\n",
    "khwan_audio_chars = pd.read_csv(\"//bigdata.wu.ac.at/delpero/Data_alexander/data/raw_data/Khwan_Kim/2025_08_matched_spotify_ids.csv\")\n",
    "charts_with_spotify = pd.read_csv(\"//bigdata.wu.ac.at/delpero/Data_alexander/data/raw_data/Spotify/1980_2000_songs_artists/final_charted_from_spotify_1980_2000.csv\")\n",
    "mb_with_spotify = pd.read_csv(\"//bigdata.wu.ac.at/delpero/Data_alexander/data/raw_data/Spotify/1980_2000_songs_artists/musicbrainz_spotify_combined_track_artist_final.csv\")\n",
    "charts_no_spotify = pd.read_csv(\"//bigdata.wu.ac.at/delpero/Data_alexander/data/raw_data/Spotify/1980_2000_songs_artists/all_charts_songs_1980_2000_complete_clean.csv\")\n",
    "mb_songs_no_spotify = pd.read_csv(\"//bigdata.wu.ac.at/delpero/Data_alexander/data/raw_data/musicbrainz/sql_exports/musicbrainz_data_refined/release_recordings_unique_80_10_refined_ISRC.csv\")"
   ]
  },
  {
   "cell_type": "code",
   "execution_count": 7,
   "id": "eacb452f",
   "metadata": {},
   "outputs": [],
   "source": [
    "# create a column (audio_chars) that is either 0/1 depending on whether column sp_tr_id in khwan_audio_chars matches with spotify_track_id \n",
    "charts_with_spotify['audio_chars'] = charts_with_spotify['spotify_track_id'].isin(khwan_audio_chars['# sp_tr_id']).astype(int)"
   ]
  }
 ],
 "metadata": {
  "kernelspec": {
   "display_name": "music_data_chartmetric",
   "language": "python",
   "name": "python3"
  },
  "language_info": {
   "codemirror_mode": {
    "name": "ipython",
    "version": 3
   },
   "file_extension": ".py",
   "mimetype": "text/x-python",
   "name": "python",
   "nbconvert_exporter": "python",
   "pygments_lexer": "ipython3",
   "version": "3.12.8"
  }
 },
 "nbformat": 4,
 "nbformat_minor": 5
}
