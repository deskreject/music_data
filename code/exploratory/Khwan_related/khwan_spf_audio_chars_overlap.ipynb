{
 "cells": [
  {
   "cell_type": "markdown",
   "id": "b882b43e",
   "metadata": {},
   "source": [
    "\t# Author: Alexander Staub\n",
    "\t## Last changed: 2025.08.26\n",
    "\t## Purpose: Checking the overlap between Khwan's audio char data and our data\n"
   ]
  },
  {
   "cell_type": "code",
   "execution_count": 13,
   "id": "8916d80e",
   "metadata": {},
   "outputs": [],
   "source": [
    "#installing packages\n",
    "import logging\n",
    "import pandas as pd\n",
    "from pprint import pprint\n",
    "import numpy as np\n",
    "import json\n",
    "import os\n",
    "import glob\n",
    "from typing import Dict, Any, List, Optional\n",
    "import gc  # For garbage collection\n",
    "import csv\n",
    "import logging\n",
    "from collections import defaultdict\n",
    "\n",
    "# plotting\n",
    "import matplotlib.pyplot as plt\n",
    "import seaborn as sns\n",
    "# Set style for better-looking plots\n",
    "sns.set_style(\"whitegrid\")\n",
    "plt.rcParams['figure.figsize'] = (12, 6)"
   ]
  },
  {
   "cell_type": "code",
   "execution_count": 5,
   "id": "c55ed0c4",
   "metadata": {},
   "outputs": [],
   "source": [
    "# loading in the relevant datasets\n",
    "khwan_audio_chars = pd.read_csv(\"//bigdata.wu.ac.at/delpero/Data_alexander/data/raw_data/Khwan_Kim/2025_08_matched_spotify_ids.csv\")\n",
    "charts_with_spotify = pd.read_csv(\"//bigdata.wu.ac.at/delpero/Data_alexander/data/raw_data/Spotify/1980_2000_songs_artists/final_charted_from_spotify_1980_2000.csv\")\n",
    "mb_with_spotify = pd.read_csv(\"//bigdata.wu.ac.at/delpero/Data_alexander/data/raw_data/Spotify/1980_2000_songs_artists/musicbrainz_spotify_combined_track_artist_final.csv\")\n",
    "charts_no_spotify = pd.read_csv(\"//bigdata.wu.ac.at/delpero/Data_alexander/data/raw_data/Spotify/1980_2000_songs_artists/all_charts_songs_1980_2000_complete_clean.csv\")\n",
    "mb_songs_no_spotify = pd.read_csv(\"//bigdata.wu.ac.at/delpero/Data_alexander/data/raw_data/musicbrainz/sql_exports/musicbrainz_data_refined/release_recordings_unique_80_10_refined_ISRC.csv\")\n",
    "mb_country_labels = pd.read_csv(\"//bigdata.wu.ac.at/delpero/Data_alexander/data/raw_data/musicbrainz/sql_exports/release_country_labels_80_10_w_artists.csv\")\n",
    "\n",
    "# loading in the label datasets\n",
    "kk_record_label_chars = pd.read_csv(\"//bigdata.wu.ac.at/delpero/Data_alexander/data/raw_data/Khwan_Kim/kk_record_label_data.csv\")\n",
    "kk_record_label_mb_ids = pd.read_csv(\"//bigdata.wu.ac.at/delpero/Data_alexander/data/raw_data/Khwan_Kim/kk_record_label_data_discogs_mbz.csv\")"
   ]
  },
  {
   "cell_type": "code",
   "execution_count": 3,
   "id": "61fcdd83",
   "metadata": {},
   "outputs": [
    {
     "name": "stdout",
     "output_type": "stream",
     "text": [
      "Index(['Unnamed: 0', 'id_release', 'date_year', 'date_month', 'date_day',\n",
      "       'id_country', 'name_country', 'name_label', 'name_label_type',\n",
      "       'mbid_release', 'name_release', 'name_release_g_type',\n",
      "       'id_artist_credit', 'artist_credit_name'],\n",
      "      dtype='object')\n"
     ]
    }
   ],
   "source": [
    "#investigate the variables\n",
    "# print(mb_songs_no_spotify.columns)\n",
    "# print(mb_with_spotify.columns)\n",
    "# print(khwan_audio_chars.columns)\n",
    "print(mb_country_labels.columns)"
   ]
  },
  {
   "cell_type": "markdown",
   "id": "a0977a63",
   "metadata": {},
   "source": [
    "# Audio Chars: chart level analysis"
   ]
  },
  {
   "cell_type": "code",
   "execution_count": 10,
   "id": "eacb452f",
   "metadata": {},
   "outputs": [],
   "source": [
    "# create a column (audio_chars) that is either 0/1 depending on whether column sp_tr_id in khwan_audio_chars matches with spotify_track_id \n",
    "charts_with_spotify['audio_chars'] = charts_with_spotify['spotify_track_id'].isin(khwan_audio_chars['# sp_tr_id']).astype(int)"
   ]
  },
  {
   "cell_type": "code",
   "execution_count": 17,
   "id": "156d826d",
   "metadata": {},
   "outputs": [],
   "source": [
    "# Now I want a 0/1 column in the charts_no_spotify dataframe that indicates whether a record is in charts_with_spotify and whether it has 0/1 in audio_chars\n",
    "# based on the column 'tf_name_artist_credit'\n",
    "\n",
    "charts_no_spotify['in_charts_with_spotify'] = charts_no_spotify['tf_artist_song'].isin(charts_with_spotify['tf_artist_song']).astype(int)\n",
    "charts_no_spotify['audio_chars'] = charts_no_spotify['tf_artist_song'].isin(charts_with_spotify[charts_with_spotify['audio_chars'] == 1]['tf_artist_song']).astype(int)"
   ]
  },
  {
   "cell_type": "code",
   "execution_count": null,
   "id": "f4d08f81",
   "metadata": {},
   "outputs": [],
   "source": [
    "#print the column names in charts_no_spotify\n",
    "# print(charts_no_spotify.columns)"
   ]
  },
  {
   "cell_type": "markdown",
   "id": "9578cb0c",
   "metadata": {},
   "source": [
    "## The country bias analysis\n",
    "- currently no date variable because did not manage to get out of the US (CB and Billboard) charts just yet"
   ]
  },
  {
   "cell_type": "code",
   "execution_count": null,
   "id": "8230619c",
   "metadata": {},
   "outputs": [],
   "source": [
    "# Create the summary table\n",
    "def analyze_chart_bias(df):\n",
    "    \"\"\"\n",
    "    Analyze potential bias in Spotify ID and audio characteristics availability by country\n",
    "    \"\"\"\n",
    "    \n",
    "    # Calculate total records per country\n",
    "    country_counts = df['country'].value_counts()\n",
    "    total_records = len(df)\n",
    "    \n",
    "    # Calculate records with Spotify IDs per country\n",
    "    spotify_counts = df[df['in_charts_with_spotify'] == 1]['country'].value_counts()\n",
    "    \n",
    "    # Calculate records with audio characteristics per country\n",
    "    audio_counts = df[df['audio_chars'] == 1]['country'].value_counts()\n",
    "    \n",
    "    # Create summary dataframe\n",
    "    summary_df = pd.DataFrame({\n",
    "        'total_records': country_counts,\n",
    "        'pct_of_dataset': (country_counts / total_records * 100).round(2),\n",
    "        'records_with_spotify': spotify_counts.reindex(country_counts.index, fill_value=0),\n",
    "        'records_with_audio': audio_counts.reindex(country_counts.index, fill_value=0)\n",
    "    })\n",
    "    \n",
    "    # Calculate percentages within each country\n",
    "    summary_df['pct_with_spotify'] = (summary_df['records_with_spotify'] / \n",
    "                                       summary_df['total_records'] * 100).round(2)\n",
    "    summary_df['pct_with_audio'] = (summary_df['records_with_audio'] / \n",
    "                                    summary_df['total_records'] * 100).round(2)\n",
    "    \n",
    "    # Calculate overall percentages for comparison\n",
    "    overall_spotify_pct = (df['in_charts_with_spotify'].sum() / len(df) * 100)\n",
    "    overall_audio_pct = (df['audio_chars'].sum() / len(df) * 100)\n",
    "    \n",
    "    # Add difference from overall percentage (to identify bias)\n",
    "    summary_df['spotify_diff_from_overall'] = (summary_df['pct_with_spotify'] - \n",
    "                                                overall_spotify_pct).round(2)\n",
    "    summary_df['audio_diff_from_overall'] = (summary_df['pct_with_audio'] - \n",
    "                                             overall_audio_pct).round(2)\n",
    "    \n",
    "    # Sort by total records (or you could sort by any other column)\n",
    "    summary_df = summary_df.sort_values('total_records', ascending=False)\n",
    "    \n",
    "    return summary_df, overall_spotify_pct, overall_audio_pct"
   ]
  },
  {
   "cell_type": "code",
   "execution_count": null,
   "id": "598d6664",
   "metadata": {},
   "outputs": [],
   "source": [
    "# Run the analysis\n",
    "summary_table, overall_spotify, overall_audio = analyze_chart_bias(charts_no_spotify)"
   ]
  },
  {
   "cell_type": "code",
   "execution_count": 20,
   "id": "1b1b37c9",
   "metadata": {},
   "outputs": [
    {
     "name": "stdout",
     "output_type": "stream",
     "text": [
      "================================================================================\n",
      "COUNTRY BIAS ANALYSIS\n",
      "================================================================================\n",
      "\n",
      "Overall Spotify ID coverage: 42.76%\n",
      "Overall Audio Characteristics coverage: 25.72%\n",
      "\n",
      "Top 20 countries by number of records:\n",
      "--------------------------------------------------------------------------------\n"
     ]
    }
   ],
   "source": [
    "# Display the main comparison table\n",
    "print(\"=\"*80)\n",
    "print(\"COUNTRY BIAS ANALYSIS\")\n",
    "print(\"=\"*80)\n",
    "print(f\"\\nOverall Spotify ID coverage: {overall_spotify:.2f}%\")\n",
    "print(f\"Overall Audio Characteristics coverage: {overall_audio:.2f}%\")\n",
    "print(\"\\nTop 20 countries by number of records:\")\n",
    "print(\"-\"*80)"
   ]
  },
  {
   "cell_type": "code",
   "execution_count": 21,
   "id": "798be15f",
   "metadata": {},
   "outputs": [
    {
     "name": "stdout",
     "output_type": "stream",
     "text": [
      "         total_records  pct_of_dataset  pct_with_spotify  pct_with_audio  spotify_diff_from_overall  audio_diff_from_overall\n",
      "country                                                                                                                     \n",
      "uk               37351           66.42             41.06           24.15                      -1.70                    -1.57\n",
      "de                7747           13.78             42.11           22.49                      -0.65                    -3.23\n",
      "us                6105           10.86             64.93           49.70                      22.17                    23.98\n",
      "fr                3580            6.37             16.59            9.13                     -26.17                   -16.59\n",
      "it                1448            2.58             61.33           23.55                      18.57                    -2.17\n"
     ]
    }
   ],
   "source": [
    "# Select columns for display\n",
    "display_cols = ['total_records', 'pct_of_dataset', 'pct_with_spotify', \n",
    "                'pct_with_audio', 'spotify_diff_from_overall', 'audio_diff_from_overall']\n",
    "print(summary_table[display_cols].head(20).to_string())"
   ]
  },
  {
   "cell_type": "markdown",
   "id": "32d13738",
   "metadata": {},
   "source": [
    "# Audio chars: The musicbrainz analysis"
   ]
  },
  {
   "cell_type": "code",
   "execution_count": 29,
   "id": "1be20e20",
   "metadata": {},
   "outputs": [],
   "source": [
    "# create a column (audio_chars) that is either 0/1 depending on whether column \"# sp_tr_id\" in khwan_audio_chars matches with mb_with_spotify 'spotify_track_id'\n",
    "mb_with_spotify['audio_chars'] = mb_with_spotify['spotify_track_id'].isin(khwan_audio_chars['# sp_tr_id']).astype(int)"
   ]
  },
  {
   "cell_type": "code",
   "execution_count": 30,
   "id": "4f4ee0a7",
   "metadata": {},
   "outputs": [],
   "source": [
    "# Now I want a 0/1 column in the mb_songs_no_spotify dataframe that indicates whether a record is in mb_with_spotify and whether it has 0/1 in audio_chars\n",
    "# based on the column 'id_track'\n",
    "mb_songs_no_spotify['in_mb_with_spotify'] = mb_songs_no_spotify['id_track'].isin(mb_with_spotify['id_track']).astype(int)\n",
    "mb_songs_no_spotify['audio_chars'] = mb_songs_no_spotify['id_track'].isin(mb_with_spotify[mb_with_spotify['audio_chars'] == 1]['id_track']).astype(int)"
   ]
  },
  {
   "cell_type": "code",
   "execution_count": 39,
   "id": "30f9c231",
   "metadata": {},
   "outputs": [],
   "source": [
    "# do a 1 to many merge of the variables 'date_year' and 'name_country' from mb_country_labels \n",
    "# into mb_songs_no_spotify based on 'id_release'\n",
    "mb_songs_no_spotify_dupl = mb_songs_no_spotify.merge(mb_country_labels[['id_release', 'date_year', 'name_country']], on='id_release', how='left')\n"
   ]
  },
  {
   "cell_type": "code",
   "execution_count": 65,
   "id": "cacb9347",
   "metadata": {},
   "outputs": [],
   "source": [
    "# Create the summary table\n",
    "def analyze_mb_bias(df):\n",
    "    \"\"\"\n",
    "    Analyze potential bias in Spotify ID and audio characteristics availability by country and year\n",
    "    \"\"\"\n",
    "    \n",
    "    # Calculate overall percentages for comparison\n",
    "    overall_spotify_pct = (df['in_mb_with_spotify'].sum() / len(df) * 100)\n",
    "    overall_audio_pct = (df['audio_chars'].sum() / len(df) * 100)\n",
    "    \n",
    "    # Create summaries for both dimensions\n",
    "    summary_df_country = _create_summary_table(\n",
    "        df, \n",
    "        'name_country', \n",
    "        overall_spotify_pct, \n",
    "        overall_audio_pct,\n",
    "        sort_by='total_records',\n",
    "        ascending=False\n",
    "    )\n",
    "    \n",
    "    summary_df_year = _create_summary_table(\n",
    "        df, \n",
    "        'date_year', \n",
    "        overall_spotify_pct, \n",
    "        overall_audio_pct,\n",
    "        sort_by='index',\n",
    "        ascending=True\n",
    "    )\n",
    "    \n",
    "    return summary_df_country, summary_df_year, overall_spotify_pct, overall_audio_pct"
   ]
  },
  {
   "cell_type": "code",
   "execution_count": 66,
   "id": "e0c36240",
   "metadata": {},
   "outputs": [],
   "source": [
    "# helper functions to create the summary table\n",
    "def _create_summary_table(df, group_column, overall_spotify_pct, overall_audio_pct, \n",
    "                          sort_by='total_records', ascending=False):\n",
    "    \"\"\"\n",
    "    Helper function to create a summary table for a given grouping column\n",
    "    \n",
    "    Parameters:\n",
    "    -----------\n",
    "    df : DataFrame\n",
    "        Input dataframe\n",
    "    group_column : str\n",
    "        Column name to group by (e.g., 'name_country' or 'date_year')\n",
    "    overall_spotify_pct : float\n",
    "        Overall percentage of records with Spotify IDs\n",
    "    overall_audio_pct : float\n",
    "        Overall percentage of records with audio characteristics\n",
    "    sort_by : str\n",
    "        'total_records' or 'index' for sorting\n",
    "    ascending : bool\n",
    "        Sort order\n",
    "    \"\"\"\n",
    "    total_records = len(df)\n",
    "    \n",
    "    # Calculate total records per group\n",
    "    group_counts = df[group_column].value_counts()\n",
    "    \n",
    "    # Calculate records with Spotify IDs and audio chars per group\n",
    "    spotify_counts = df[df['in_mb_with_spotify'] == 1][group_column].value_counts()\n",
    "    audio_counts = df[df['audio_chars'] == 1][group_column].value_counts()\n",
    "    \n",
    "    # Create summary dataframe\n",
    "    summary_df = pd.DataFrame({\n",
    "        'total_records': group_counts,\n",
    "        'pct_of_dataset': (group_counts / total_records * 100).round(2),\n",
    "        'records_with_spotify': spotify_counts.reindex(group_counts.index, fill_value=0),\n",
    "        'records_with_audio': audio_counts.reindex(group_counts.index, fill_value=0)\n",
    "    })\n",
    "    \n",
    "    # Calculate percentages within each group\n",
    "    summary_df['pct_with_spotify'] = (summary_df['records_with_spotify'] / \n",
    "                                      summary_df['total_records'] * 100).round(2)\n",
    "    summary_df['pct_with_audio'] = (summary_df['records_with_audio'] / \n",
    "                                    summary_df['total_records'] * 100).round(2)\n",
    "    \n",
    "    # Add difference from overall percentage (to identify bias)\n",
    "    summary_df['spotify_diff_from_overall'] = (summary_df['pct_with_spotify'] - \n",
    "                                               overall_spotify_pct).round(2)\n",
    "    summary_df['audio_diff_from_overall'] = (summary_df['pct_with_audio'] - \n",
    "                                             overall_audio_pct).round(2)\n",
    "    \n",
    "    # Sort as specified\n",
    "    if sort_by == 'index':\n",
    "        summary_df = summary_df.sort_index(ascending=ascending)\n",
    "    else:\n",
    "        summary_df = summary_df.sort_values(sort_by, ascending=ascending)\n",
    "    \n",
    "    return summary_df"
   ]
  },
  {
   "cell_type": "code",
   "execution_count": 67,
   "id": "f8d87dc3",
   "metadata": {},
   "outputs": [],
   "source": [
    "summary_table_country, summary_table_year, overall_spotify_mb, overall_audio_mb = analyze_mb_bias(mb_songs_no_spotify_dupl)"
   ]
  },
  {
   "cell_type": "markdown",
   "id": "977d1d0e",
   "metadata": {},
   "source": [
    "## The country Level analysis"
   ]
  },
  {
   "cell_type": "code",
   "execution_count": 60,
   "id": "766825b8",
   "metadata": {},
   "outputs": [
    {
     "name": "stdout",
     "output_type": "stream",
     "text": [
      "================================================================================\n",
      "COUNTRY BIAS ANALYSIS\n",
      "================================================================================\n",
      "\n",
      "Overall Spotify ID coverage: 59.48%\n",
      "Overall Audio Characteristics coverage: 18.15%\n",
      "\n",
      "Top 20 countries by number of records:\n",
      "--------------------------------------------------------------------------------\n"
     ]
    }
   ],
   "source": [
    "# Display the main comparison table\n",
    "print(\"=\"*80)\n",
    "print(\"COUNTRY BIAS ANALYSIS\")\n",
    "print(\"=\"*80)\n",
    "print(f\"\\nOverall Spotify ID coverage: {overall_spotify_mb:.2f}%\")\n",
    "print(f\"Overall Audio Characteristics coverage: {overall_audio_mb:.2f}%\")\n",
    "print(\"\\nTop 20 countries by number of records:\")\n",
    "print(\"-\"*80)"
   ]
  },
  {
   "cell_type": "code",
   "execution_count": 64,
   "id": "e9b80769",
   "metadata": {},
   "outputs": [
    {
     "name": "stdout",
     "output_type": "stream",
     "text": [
      "                total_records  pct_of_dataset  pct_with_spotify  pct_with_audio  spotify_diff_from_overall  audio_diff_from_overall\n",
      "name_country                                                                                                                       \n",
      "United States         2903957           33.57             61.07           21.15                       1.59                     3.00\n",
      "United Kingdom        1619632           18.72             60.39           18.91                       0.91                     0.76\n",
      "Germany               1481820           17.13             54.17           16.70                      -5.31                    -1.45\n",
      "France                 645862            7.47             54.30           18.68                      -5.18                     0.53\n",
      "Netherlands            366418            4.24             60.48           15.37                       1.00                    -2.78\n",
      "Italy                  269265            3.11             61.14           14.72                       1.66                    -3.43\n",
      "Canada                 237729            2.75             60.03           14.94                       0.55                    -3.21\n",
      "Sweden                 209639            2.42             64.58           10.00                       5.10                    -8.15\n",
      "Spain                  205490            2.38             68.14           13.25                       8.66                    -4.90\n",
      "Russia                 158970            1.84             58.28           15.78                      -1.20                    -2.37\n",
      "Belgium                138305            1.60             57.96           14.65                      -1.52                    -3.50\n",
      "Austria                 96677            1.12             58.88           13.55                      -0.60                    -4.60\n",
      "Denmark                 86661            1.00             66.78           14.14                       7.30                    -4.01\n",
      "Switzerland             79943            0.92             55.61           10.97                      -3.87                    -7.18\n",
      "Norway                  75128            0.87             70.30           10.98                      10.82                    -7.17\n",
      "Portugal                43478            0.50             69.84           18.35                      10.36                     0.20\n",
      "Ireland                 32759            0.38             64.89           18.32                       5.41                     0.17\n"
     ]
    }
   ],
   "source": [
    "# Select columns for display\n",
    "display_cols = ['total_records', 'pct_of_dataset', 'pct_with_spotify', \n",
    "                'pct_with_audio', 'spotify_diff_from_overall', 'audio_diff_from_overall']\n",
    "print(summary_table_country[display_cols].head(20).to_string())"
   ]
  },
  {
   "cell_type": "markdown",
   "id": "f759e1ec",
   "metadata": {},
   "source": [
    "## The year level analysis"
   ]
  },
  {
   "cell_type": "code",
   "execution_count": 50,
   "id": "74654849",
   "metadata": {},
   "outputs": [
    {
     "name": "stdout",
     "output_type": "stream",
     "text": [
      "================================================================================\n",
      "YEAR BIAS ANALYSIS\n",
      "================================================================================\n",
      "\n",
      "Overall Spotify ID coverage: 59.48%\n",
      "Overall Audio Characteristics coverage: 18.15%\n",
      "\n",
      "Years by number of records:\n",
      "--------------------------------------------------------------------------------\n"
     ]
    }
   ],
   "source": [
    "# Display the main comparison table\n",
    "print(\"=\"*80)\n",
    "print(\"YEAR BIAS ANALYSIS\")\n",
    "print(\"=\"*80)\n",
    "print(f\"\\nOverall Spotify ID coverage: {overall_spotify_mb:.2f}%\")\n",
    "print(f\"Overall Audio Characteristics coverage: {overall_audio_mb:.2f}%\")\n",
    "print(\"\\nYears by number of records:\")\n",
    "print(\"-\"*80)"
   ]
  },
  {
   "cell_type": "code",
   "execution_count": null,
   "id": "0a781292",
   "metadata": {},
   "outputs": [],
   "source": [
    "# Select columns for display\n",
    "display_cols = ['total_records', 'pct_of_dataset', 'pct_with_spotify', \n",
    "                'pct_with_audio', 'spotify_diff_from_overall', 'audio_diff_from_overall']\n",
    "print(summary_table_year[display_cols].head(20).to_string())"
   ]
  },
  {
   "cell_type": "markdown",
   "id": "94f5a745",
   "metadata": {},
   "source": [
    "# Record labels: Overlap investigation\n"
   ]
  },
  {
   "cell_type": "code",
   "execution_count": 7,
   "id": "53cd83ff",
   "metadata": {},
   "outputs": [],
   "source": [
    "#create a 0/1 indicator column based on whether 'mbid_label' in mb_country_labels has a match with column\n",
    "# 'label_id_mbz' in kk_record_label_mb_ids\n",
    "mb_country_labels['label_id_match'] = mb_country_labels['mbid_label'].isin(kk_record_label_mb_ids['label_id_mbz']).astype(int)\n"
   ]
  },
  {
   "cell_type": "code",
   "execution_count": 10,
   "id": "91b31566",
   "metadata": {},
   "outputs": [
    {
     "name": "stdout",
     "output_type": "stream",
     "text": [
      "      name_country  pct_label_id_match\n",
      "10        Portugal               27.56\n",
      "6          Ireland               27.46\n",
      "16   United States               27.17\n",
      "2           Canada               22.77\n",
      "15  United Kingdom               22.44\n",
      "4           France               21.17\n",
      "3          Denmark               19.53\n",
      "9           Norway               18.58\n",
      "0          Austria               18.28\n",
      "8      Netherlands               16.89\n",
      "14     Switzerland               15.76\n",
      "12           Spain               14.63\n",
      "7            Italy               13.75\n",
      "5          Germany               13.61\n",
      "1          Belgium               12.78\n",
      "11          Russia               12.31\n",
      "13          Sweden               12.09\n"
     ]
    }
   ],
   "source": [
    "# show the percentage, by country, of records in mb_country_labels that have a 1 in label_id_match\n",
    "# as a table\n",
    "label_match_summary = mb_country_labels.groupby('name_country')['label_id_match'].mean().reset_index()\n",
    "label_match_summary['pct_label_id_match'] = (label_match_summary['label_id_match'] * 100).round(2)\n",
    "label_match_summary = label_match_summary.drop(columns=['label_id_match']).sort_values('pct_label_id_match', ascending=False)\n",
    "\n",
    "display_cols = ['name_country', 'pct_label_id_match']\n",
    "print(label_match_summary[display_cols].head(20).to_string())"
   ]
  },
  {
   "cell_type": "markdown",
   "id": "5fa83f9e",
   "metadata": {},
   "source": [
    "## Plotting the distribution of label data"
   ]
  },
  {
   "cell_type": "code",
   "execution_count": 14,
   "id": "b668d1ab",
   "metadata": {},
   "outputs": [
    {
     "name": "stdout",
     "output_type": "stream",
     "text": [
      "Labels with further info (label_id_match=1): 1,336\n",
      "Labels without further info (label_id_match=0): 81,801\n",
      "\n",
      "Max releases per label (with info): 14,034\n",
      "Max releases per label (no info): 25,070\n"
     ]
    }
   ],
   "source": [
    "#  Prepare the data\n",
    "# Count releases per label, separated by label_id_match status\n",
    "label_counts_with_info = mb_country_labels[mb_country_labels['label_id_match'] == 1].groupby('name_label').size()\n",
    "label_counts_no_info = mb_country_labels[mb_country_labels['label_id_match'] == 0].groupby('name_label').size()\n",
    "\n",
    "print(f\"Labels with further info (label_id_match=1): {len(label_counts_with_info):,}\")\n",
    "print(f\"Labels without further info (label_id_match=0): {len(label_counts_no_info):,}\")\n",
    "print(f\"\\nMax releases per label (with info): {label_counts_with_info.max():,}\")\n",
    "print(f\"Max releases per label (no info): {label_counts_no_info.max():,}\")"
   ]
  },
  {
   "cell_type": "code",
   "execution_count": 15,
   "id": "b5399100",
   "metadata": {},
   "outputs": [],
   "source": [
    "#  Create histogram data\n",
    "# Define bins on log scale\n",
    "min_count = 1\n",
    "max_count = max(label_counts_with_info.max(), label_counts_no_info.max())\n",
    "bins = np.logspace(np.log10(min_count), np.log10(max_count), 50)\n",
    "\n",
    "# Calculate histogram values\n",
    "hist_with_info, _ = np.histogram(label_counts_with_info, bins=bins)\n",
    "hist_no_info, _ = np.histogram(label_counts_no_info, bins=bins)"
   ]
  },
  {
   "cell_type": "code",
   "execution_count": 20,
   "id": "d60792fd",
   "metadata": {},
   "outputs": [
    {
     "data": {
      "image/png": "[encoded data removed]",
      "text/plain": [
       "<Figure size 1600x600 with 2 Axes>"
      ]
     },
     "metadata": {},
     "output_type": "display_data"
    }
   ],
   "source": [
    "# Create side-by-side distribution comparison with normalized y-axes\n",
    "fig, (ax1, ax2) = plt.subplots(1, 2, figsize=(16, 6))\n",
    "\n",
    "# Define consistent bins for both plots\n",
    "bins = [1, 2, 3, 5, 10, 20, 50, 100, 200, 500, 1000, 2000, 5000]\n",
    "labels = ['1', '2', '3', '4-5', '6-10', '11-20', '21-50', '51-100', \n",
    "          '101-200', '201-500', '501-1000', '1001-2000', '2000+']\n",
    "\n",
    "# Categorize the data\n",
    "def categorize_counts(counts, bins):\n",
    "    categories = pd.cut(counts, bins=bins + [np.inf], labels=labels, right=False)\n",
    "    return categories.value_counts().reindex(labels, fill_value=0)\n",
    "\n",
    "cat_with_info = categorize_counts(label_counts_with_info, bins)\n",
    "cat_no_info = categorize_counts(label_counts_no_info, bins)\n",
    "\n",
    "# Convert to percentages for normalization\n",
    "pct_with_info = (cat_with_info / cat_with_info.sum()) * 100\n",
    "pct_no_info = (cat_no_info / cat_no_info.sum()) * 100\n",
    "\n",
    "# Plot 1: With further information\n",
    "x = np.arange(len(labels))\n",
    "bars1 = ax1.bar(x, pct_with_info, color='steelblue', alpha=0.8)\n",
    "ax1.set_xlabel('Number of Releases per Label', fontsize=11)\n",
    "ax1.set_ylabel('Percentage of Labels (%)', fontsize=11)\n",
    "ax1.set_title(f'WITH Further Information\\n(n={len(label_counts_with_info):,} labels)', \n",
    "              fontsize=12, fontweight='bold')\n",
    "ax1.set_xticks(x)\n",
    "ax1.set_xticklabels(labels, rotation=45, ha='right')\n",
    "ax1.grid(True, alpha=0.3, axis='y')\n",
    "\n",
    "# Add value labels on bars for clarity\n",
    "for bar, val in zip(bars1, pct_with_info):\n",
    "    if val > 1:  # Only show labels for bars > 1%\n",
    "        ax1.text(bar.get_x() + bar.get_width()/2, bar.get_height() + 0.5,\n",
    "                f'{val:.1f}%', ha='center', va='bottom', fontsize=9)\n",
    "\n",
    "# Plot 2: Without further information  \n",
    "bars2 = ax2.bar(x, pct_no_info, color='coral', alpha=0.8)\n",
    "ax2.set_xlabel('Number of Releases per Label', fontsize=11)\n",
    "ax2.set_ylabel('Percentage of Labels (%)', fontsize=11)\n",
    "ax2.set_title(f'WITHOUT Further Information\\n(n={len(label_counts_no_info):,} labels)', \n",
    "              fontsize=12, fontweight='bold')\n",
    "ax2.set_xticks(x)\n",
    "ax2.set_xticklabels(labels, rotation=45, ha='right')\n",
    "ax2.grid(True, alpha=0.3, axis='y')\n",
    "\n",
    "# Add value labels on bars\n",
    "for bar, val in zip(bars2, pct_no_info):\n",
    "    if val > 1:  # Only show labels for bars > 1%\n",
    "        ax2.text(bar.get_x() + bar.get_width()/2, bar.get_height() + 0.5,\n",
    "                f'{val:.1f}%', ha='center', va='bottom', fontsize=9)\n",
    "\n",
    "# Make y-axes comparable\n",
    "max_pct = max(pct_with_info.max(), pct_no_info.max()) * 1.1\n",
    "ax1.set_ylim(0, max_pct)\n",
    "ax2.set_ylim(0, max_pct)\n",
    "\n",
    "plt.suptitle('Distribution Comparison of Record Label Releases', \n",
    "             fontsize=14, y=1.02, fontweight='bold')\n",
    "plt.tight_layout()\n",
    "plt.show()"
   ]
  }
 ],
 "metadata": {
  "kernelspec": {
   "display_name": "music_data_chartmetric",
   "language": "python",
   "name": "python3"
  },
  "language_info": {
   "codemirror_mode": {
    "name": "ipython",
    "version": 3
   },
   "file_extension": ".py",
   "mimetype": "text/x-python",
   "name": "python",
   "nbconvert_exporter": "python",
   "pygments_lexer": "ipython3",
   "version": "3.12.8"
  }
 },
 "nbformat": 4,
 "nbformat_minor": 5
}
