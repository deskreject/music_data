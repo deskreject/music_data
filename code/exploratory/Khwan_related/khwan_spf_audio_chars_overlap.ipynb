{
 "cells": [
  {
   "cell_type": "markdown",
   "id": "b882b43e",
   "metadata": {},
   "source": [
    "\t# Author: Alexander Staub\n",
    "\t## Last changed: 2025.08.26\n",
    "\t## Purpose: Checking the overlap between Khwan's audio char data and our data\n"
   ]
  },
  {
   "cell_type": "code",
   "execution_count": 8,
   "id": "8916d80e",
   "metadata": {},
   "outputs": [],
   "source": [
    "#installing packages\n",
    "import logging\n",
    "import pandas as pd\n",
    "from pprint import pprint\n",
    "import numpy as np\n",
    "import json\n",
    "import os\n",
    "import glob\n",
    "from typing import Dict, Any, List, Optional\n",
    "import gc  # For garbage collection\n",
    "import csv"
   ]
  },
  {
   "cell_type": "code",
   "execution_count": 27,
   "id": "c55ed0c4",
   "metadata": {},
   "outputs": [],
   "source": [
    "# loading in the relevant datasets\n",
    "khwan_audio_chars = pd.read_csv(\"//bigdata.wu.ac.at/delpero/Data_alexander/data/raw_data/Khwan_Kim/2025_08_matched_spotify_ids.csv\")\n",
    "charts_with_spotify = pd.read_csv(\"//bigdata.wu.ac.at/delpero/Data_alexander/data/raw_data/Spotify/1980_2000_songs_artists/final_charted_from_spotify_1980_2000.csv\")\n",
    "mb_with_spotify = pd.read_csv(\"//bigdata.wu.ac.at/delpero/Data_alexander/data/raw_data/Spotify/1980_2000_songs_artists/musicbrainz_spotify_combined_track_artist_final.csv\")\n",
    "charts_no_spotify = pd.read_csv(\"//bigdata.wu.ac.at/delpero/Data_alexander/data/raw_data/Spotify/1980_2000_songs_artists/all_charts_songs_1980_2000_complete_clean.csv\")\n",
    "mb_songs_no_spotify = pd.read_csv(\"//bigdata.wu.ac.at/delpero/Data_alexander/data/raw_data/musicbrainz/sql_exports/musicbrainz_data_refined/release_recordings_unique_80_10_refined_ISRC.csv\")\n",
    "mb_country_labels = pd.read_csv(\"//bigdata.wu.ac.at/delpero/Data_alexander/data/raw_data/musicbrainz/sql_exports/release_country_labels_80_10_w_artists.csv\")"
   ]
  },
  {
   "cell_type": "code",
   "execution_count": null,
   "id": "61fcdd83",
   "metadata": {},
   "outputs": [],
   "source": [
    "#investigate the variables\n",
    "# print(mb_songs_no_spotify.columns)\n",
    "# print(mb_with_spotify.columns)\n",
    "# print(khwan_audio_chars.columns)\n",
    "# print(mb_country_labels.columns)"
   ]
  },
  {
   "cell_type": "markdown",
   "id": "a0977a63",
   "metadata": {},
   "source": [
    "# Chart level analysis"
   ]
  },
  {
   "cell_type": "code",
   "execution_count": 10,
   "id": "eacb452f",
   "metadata": {},
   "outputs": [],
   "source": [
    "# create a column (audio_chars) that is either 0/1 depending on whether column sp_tr_id in khwan_audio_chars matches with spotify_track_id \n",
    "charts_with_spotify['audio_chars'] = charts_with_spotify['spotify_track_id'].isin(khwan_audio_chars['# sp_tr_id']).astype(int)"
   ]
  },
  {
   "cell_type": "code",
   "execution_count": 17,
   "id": "156d826d",
   "metadata": {},
   "outputs": [],
   "source": [
    "# Now I want a 0/1 column in the charts_no_spotify dataframe that indicates whether a record is in charts_with_spotify and whether it has 0/1 in audio_chars\n",
    "# based on the column 'tf_name_artist_credit'\n",
    "\n",
    "charts_no_spotify['in_charts_with_spotify'] = charts_no_spotify['tf_artist_song'].isin(charts_with_spotify['tf_artist_song']).astype(int)\n",
    "charts_no_spotify['audio_chars'] = charts_no_spotify['tf_artist_song'].isin(charts_with_spotify[charts_with_spotify['audio_chars'] == 1]['tf_artist_song']).astype(int)"
   ]
  },
  {
   "cell_type": "code",
   "execution_count": null,
   "id": "f4d08f81",
   "metadata": {},
   "outputs": [],
   "source": [
    "#print the column names in charts_no_spotify\n",
    "# print(charts_no_spotify.columns)"
   ]
  },
  {
   "cell_type": "markdown",
   "id": "9578cb0c",
   "metadata": {},
   "source": [
    "## The country bias analysis\n",
    "- currently no date variable because did not manage to get out of the US (CB and Billboard) charts just yet"
   ]
  },
  {
   "cell_type": "code",
   "execution_count": null,
   "id": "8230619c",
   "metadata": {},
   "outputs": [],
   "source": [
    "# Create the summary table\n",
    "def analyze_chart_bias(df):\n",
    "    \"\"\"\n",
    "    Analyze potential bias in Spotify ID and audio characteristics availability by country\n",
    "    \"\"\"\n",
    "    \n",
    "    # Calculate total records per country\n",
    "    country_counts = df['country'].value_counts()\n",
    "    total_records = len(df)\n",
    "    \n",
    "    # Calculate records with Spotify IDs per country\n",
    "    spotify_counts = df[df['in_charts_with_spotify'] == 1]['country'].value_counts()\n",
    "    \n",
    "    # Calculate records with audio characteristics per country\n",
    "    audio_counts = df[df['audio_chars'] == 1]['country'].value_counts()\n",
    "    \n",
    "    # Create summary dataframe\n",
    "    summary_df = pd.DataFrame({\n",
    "        'total_records': country_counts,\n",
    "        'pct_of_dataset': (country_counts / total_records * 100).round(2),\n",
    "        'records_with_spotify': spotify_counts.reindex(country_counts.index, fill_value=0),\n",
    "        'records_with_audio': audio_counts.reindex(country_counts.index, fill_value=0)\n",
    "    })\n",
    "    \n",
    "    # Calculate percentages within each country\n",
    "    summary_df['pct_with_spotify'] = (summary_df['records_with_spotify'] / \n",
    "                                       summary_df['total_records'] * 100).round(2)\n",
    "    summary_df['pct_with_audio'] = (summary_df['records_with_audio'] / \n",
    "                                    summary_df['total_records'] * 100).round(2)\n",
    "    \n",
    "    # Calculate overall percentages for comparison\n",
    "    overall_spotify_pct = (df['in_charts_with_spotify'].sum() / len(df) * 100)\n",
    "    overall_audio_pct = (df['audio_chars'].sum() / len(df) * 100)\n",
    "    \n",
    "    # Add difference from overall percentage (to identify bias)\n",
    "    summary_df['spotify_diff_from_overall'] = (summary_df['pct_with_spotify'] - \n",
    "                                                overall_spotify_pct).round(2)\n",
    "    summary_df['audio_diff_from_overall'] = (summary_df['pct_with_audio'] - \n",
    "                                             overall_audio_pct).round(2)\n",
    "    \n",
    "    # Sort by total records (or you could sort by any other column)\n",
    "    summary_df = summary_df.sort_values('total_records', ascending=False)\n",
    "    \n",
    "    return summary_df, overall_spotify_pct, overall_audio_pct"
   ]
  },
  {
   "cell_type": "code",
   "execution_count": null,
   "id": "598d6664",
   "metadata": {},
   "outputs": [],
   "source": [
    "# Run the analysis\n",
    "summary_table, overall_spotify, overall_audio = analyze_chart_bias(charts_no_spotify)"
   ]
  },
  {
   "cell_type": "code",
   "execution_count": 20,
   "id": "1b1b37c9",
   "metadata": {},
   "outputs": [
    {
     "name": "stdout",
     "output_type": "stream",
     "text": [
      "================================================================================\n",
      "COUNTRY BIAS ANALYSIS\n",
      "================================================================================\n",
      "\n",
      "Overall Spotify ID coverage: 42.76%\n",
      "Overall Audio Characteristics coverage: 25.72%\n",
      "\n",
      "Top 20 countries by number of records:\n",
      "--------------------------------------------------------------------------------\n"
     ]
    }
   ],
   "source": [
    "# Display the main comparison table\n",
    "print(\"=\"*80)\n",
    "print(\"COUNTRY BIAS ANALYSIS\")\n",
    "print(\"=\"*80)\n",
    "print(f\"\\nOverall Spotify ID coverage: {overall_spotify:.2f}%\")\n",
    "print(f\"Overall Audio Characteristics coverage: {overall_audio:.2f}%\")\n",
    "print(\"\\nTop 20 countries by number of records:\")\n",
    "print(\"-\"*80)"
   ]
  },
  {
   "cell_type": "code",
   "execution_count": 21,
   "id": "798be15f",
   "metadata": {},
   "outputs": [
    {
     "name": "stdout",
     "output_type": "stream",
     "text": [
      "         total_records  pct_of_dataset  pct_with_spotify  pct_with_audio  spotify_diff_from_overall  audio_diff_from_overall\n",
      "country                                                                                                                     \n",
      "uk               37351           66.42             41.06           24.15                      -1.70                    -1.57\n",
      "de                7747           13.78             42.11           22.49                      -0.65                    -3.23\n",
      "us                6105           10.86             64.93           49.70                      22.17                    23.98\n",
      "fr                3580            6.37             16.59            9.13                     -26.17                   -16.59\n",
      "it                1448            2.58             61.33           23.55                      18.57                    -2.17\n"
     ]
    }
   ],
   "source": [
    "# Select columns for display\n",
    "display_cols = ['total_records', 'pct_of_dataset', 'pct_with_spotify', \n",
    "                'pct_with_audio', 'spotify_diff_from_overall', 'audio_diff_from_overall']\n",
    "print(summary_table[display_cols].head(20).to_string())"
   ]
  },
  {
   "cell_type": "markdown",
   "id": "32d13738",
   "metadata": {},
   "source": [
    "# The musicbrainz analysis"
   ]
  },
  {
   "cell_type": "code",
   "execution_count": 29,
   "id": "1be20e20",
   "metadata": {},
   "outputs": [],
   "source": [
    "# create a column (audio_chars) that is either 0/1 depending on whether column \"# sp_tr_id\" in khwan_audio_chars matches with mb_with_spotify 'spotify_track_id'\n",
    "mb_with_spotify['audio_chars'] = mb_with_spotify['spotify_track_id'].isin(khwan_audio_chars['# sp_tr_id']).astype(int)"
   ]
  },
  {
   "cell_type": "code",
   "execution_count": 30,
   "id": "4f4ee0a7",
   "metadata": {},
   "outputs": [],
   "source": [
    "# Now I want a 0/1 column in the mb_songs_no_spotify dataframe that indicates whether a record is in mb_with_spotify and whether it has 0/1 in audio_chars\n",
    "# based on the column 'id_track'\n",
    "mb_songs_no_spotify['in_mb_with_spotify'] = mb_songs_no_spotify['id_track'].isin(mb_with_spotify['id_track']).astype(int)\n",
    "mb_songs_no_spotify['audio_chars'] = mb_songs_no_spotify['id_track'].isin(mb_with_spotify[mb_with_spotify['audio_chars'] == 1]['id_track']).astype(int)"
   ]
  },
  {
   "cell_type": "code",
   "execution_count": 39,
   "id": "30f9c231",
   "metadata": {},
   "outputs": [],
   "source": [
    "# do a 1 to many merge of the variables 'date_year' and 'name_country' from mb_country_labels \n",
    "# into mb_songs_no_spotify based on 'id_release'\n",
    "mb_songs_no_spotify_dupl = mb_songs_no_spotify.merge(mb_country_labels[['id_release', 'date_year', 'name_country']], on='id_release', how='left')\n"
   ]
  },
  {
   "cell_type": "code",
   "execution_count": 65,
   "id": "cacb9347",
   "metadata": {},
   "outputs": [],
   "source": [
    "# Create the summary table\n",
    "def analyze_mb_bias(df):\n",
    "    \"\"\"\n",
    "    Analyze potential bias in Spotify ID and audio characteristics availability by country and year\n",
    "    \"\"\"\n",
    "    \n",
    "    # Calculate overall percentages for comparison\n",
    "    overall_spotify_pct = (df['in_mb_with_spotify'].sum() / len(df) * 100)\n",
    "    overall_audio_pct = (df['audio_chars'].sum() / len(df) * 100)\n",
    "    \n",
    "    # Create summaries for both dimensions\n",
    "    summary_df_country = _create_summary_table(\n",
    "        df, \n",
    "        'name_country', \n",
    "        overall_spotify_pct, \n",
    "        overall_audio_pct,\n",
    "        sort_by='total_records',\n",
    "        ascending=False\n",
    "    )\n",
    "    \n",
    "    summary_df_year = _create_summary_table(\n",
    "        df, \n",
    "        'date_year', \n",
    "        overall_spotify_pct, \n",
    "        overall_audio_pct,\n",
    "        sort_by='index',\n",
    "        ascending=True\n",
    "    )\n",
    "    \n",
    "    return summary_df_country, summary_df_year, overall_spotify_pct, overall_audio_pct"
   ]
  },
  {
   "cell_type": "code",
   "execution_count": 66,
   "id": "e0c36240",
   "metadata": {},
   "outputs": [],
   "source": [
    "# helper functions to create the summary table\n",
    "def _create_summary_table(df, group_column, overall_spotify_pct, overall_audio_pct, \n",
    "                          sort_by='total_records', ascending=False):\n",
    "    \"\"\"\n",
    "    Helper function to create a summary table for a given grouping column\n",
    "    \n",
    "    Parameters:\n",
    "    -----------\n",
    "    df : DataFrame\n",
    "        Input dataframe\n",
    "    group_column : str\n",
    "        Column name to group by (e.g., 'name_country' or 'date_year')\n",
    "    overall_spotify_pct : float\n",
    "        Overall percentage of records with Spotify IDs\n",
    "    overall_audio_pct : float\n",
    "        Overall percentage of records with audio characteristics\n",
    "    sort_by : str\n",
    "        'total_records' or 'index' for sorting\n",
    "    ascending : bool\n",
    "        Sort order\n",
    "    \"\"\"\n",
    "    total_records = len(df)\n",
    "    \n",
    "    # Calculate total records per group\n",
    "    group_counts = df[group_column].value_counts()\n",
    "    \n",
    "    # Calculate records with Spotify IDs and audio chars per group\n",
    "    spotify_counts = df[df['in_mb_with_spotify'] == 1][group_column].value_counts()\n",
    "    audio_counts = df[df['audio_chars'] == 1][group_column].value_counts()\n",
    "    \n",
    "    # Create summary dataframe\n",
    "    summary_df = pd.DataFrame({\n",
    "        'total_records': group_counts,\n",
    "        'pct_of_dataset': (group_counts / total_records * 100).round(2),\n",
    "        'records_with_spotify': spotify_counts.reindex(group_counts.index, fill_value=0),\n",
    "        'records_with_audio': audio_counts.reindex(group_counts.index, fill_value=0)\n",
    "    })\n",
    "    \n",
    "    # Calculate percentages within each group\n",
    "    summary_df['pct_with_spotify'] = (summary_df['records_with_spotify'] / \n",
    "                                      summary_df['total_records'] * 100).round(2)\n",
    "    summary_df['pct_with_audio'] = (summary_df['records_with_audio'] / \n",
    "                                    summary_df['total_records'] * 100).round(2)\n",
    "    \n",
    "    # Add difference from overall percentage (to identify bias)\n",
    "    summary_df['spotify_diff_from_overall'] = (summary_df['pct_with_spotify'] - \n",
    "                                               overall_spotify_pct).round(2)\n",
    "    summary_df['audio_diff_from_overall'] = (summary_df['pct_with_audio'] - \n",
    "                                             overall_audio_pct).round(2)\n",
    "    \n",
    "    # Sort as specified\n",
    "    if sort_by == 'index':\n",
    "        summary_df = summary_df.sort_index(ascending=ascending)\n",
    "    else:\n",
    "        summary_df = summary_df.sort_values(sort_by, ascending=ascending)\n",
    "    \n",
    "    return summary_df"
   ]
  },
  {
   "cell_type": "code",
   "execution_count": 67,
   "id": "f8d87dc3",
   "metadata": {},
   "outputs": [],
   "source": [
    "summary_table_country, summary_table_year, overall_spotify_mb, overall_audio_mb = analyze_mb_bias(mb_songs_no_spotify_dupl)"
   ]
  },
  {
   "cell_type": "markdown",
   "id": "977d1d0e",
   "metadata": {},
   "source": [
    "## The country Level analysis"
   ]
  },
  {
   "cell_type": "code",
   "execution_count": 60,
   "id": "766825b8",
   "metadata": {},
   "outputs": [
    {
     "name": "stdout",
     "output_type": "stream",
     "text": [
      "================================================================================\n",
      "COUNTRY BIAS ANALYSIS\n",
      "================================================================================\n",
      "\n",
      "Overall Spotify ID coverage: 59.48%\n",
      "Overall Audio Characteristics coverage: 18.15%\n",
      "\n",
      "Top 20 countries by number of records:\n",
      "--------------------------------------------------------------------------------\n"
     ]
    }
   ],
   "source": [
    "# Display the main comparison table\n",
    "print(\"=\"*80)\n",
    "print(\"COUNTRY BIAS ANALYSIS\")\n",
    "print(\"=\"*80)\n",
    "print(f\"\\nOverall Spotify ID coverage: {overall_spotify_mb:.2f}%\")\n",
    "print(f\"Overall Audio Characteristics coverage: {overall_audio_mb:.2f}%\")\n",
    "print(\"\\nTop 20 countries by number of records:\")\n",
    "print(\"-\"*80)"
   ]
  },
  {
   "cell_type": "code",
   "execution_count": 64,
   "id": "e9b80769",
   "metadata": {},
   "outputs": [
    {
     "name": "stdout",
     "output_type": "stream",
     "text": [
      "                total_records  pct_of_dataset  pct_with_spotify  pct_with_audio  spotify_diff_from_overall  audio_diff_from_overall\n",
      "name_country                                                                                                                       \n",
      "United States         2903957           33.57             61.07           21.15                       1.59                     3.00\n",
      "United Kingdom        1619632           18.72             60.39           18.91                       0.91                     0.76\n",
      "Germany               1481820           17.13             54.17           16.70                      -5.31                    -1.45\n",
      "France                 645862            7.47             54.30           18.68                      -5.18                     0.53\n",
      "Netherlands            366418            4.24             60.48           15.37                       1.00                    -2.78\n",
      "Italy                  269265            3.11             61.14           14.72                       1.66                    -3.43\n",
      "Canada                 237729            2.75             60.03           14.94                       0.55                    -3.21\n",
      "Sweden                 209639            2.42             64.58           10.00                       5.10                    -8.15\n",
      "Spain                  205490            2.38             68.14           13.25                       8.66                    -4.90\n",
      "Russia                 158970            1.84             58.28           15.78                      -1.20                    -2.37\n",
      "Belgium                138305            1.60             57.96           14.65                      -1.52                    -3.50\n",
      "Austria                 96677            1.12             58.88           13.55                      -0.60                    -4.60\n",
      "Denmark                 86661            1.00             66.78           14.14                       7.30                    -4.01\n",
      "Switzerland             79943            0.92             55.61           10.97                      -3.87                    -7.18\n",
      "Norway                  75128            0.87             70.30           10.98                      10.82                    -7.17\n",
      "Portugal                43478            0.50             69.84           18.35                      10.36                     0.20\n",
      "Ireland                 32759            0.38             64.89           18.32                       5.41                     0.17\n"
     ]
    }
   ],
   "source": [
    "# Select columns for display\n",
    "display_cols = ['total_records', 'pct_of_dataset', 'pct_with_spotify', \n",
    "                'pct_with_audio', 'spotify_diff_from_overall', 'audio_diff_from_overall']\n",
    "print(summary_table_country[display_cols].head(20).to_string())"
   ]
  },
  {
   "cell_type": "markdown",
   "id": "f759e1ec",
   "metadata": {},
   "source": [
    "## The year level analysis"
   ]
  },
  {
   "cell_type": "code",
   "execution_count": 50,
   "id": "74654849",
   "metadata": {},
   "outputs": [
    {
     "name": "stdout",
     "output_type": "stream",
     "text": [
      "================================================================================\n",
      "YEAR BIAS ANALYSIS\n",
      "================================================================================\n",
      "\n",
      "Overall Spotify ID coverage: 59.48%\n",
      "Overall Audio Characteristics coverage: 18.15%\n",
      "\n",
      "Years by number of records:\n",
      "--------------------------------------------------------------------------------\n"
     ]
    }
   ],
   "source": [
    "# Display the main comparison table\n",
    "print(\"=\"*80)\n",
    "print(\"YEAR BIAS ANALYSIS\")\n",
    "print(\"=\"*80)\n",
    "print(f\"\\nOverall Spotify ID coverage: {overall_spotify_mb:.2f}%\")\n",
    "print(f\"Overall Audio Characteristics coverage: {overall_audio_mb:.2f}%\")\n",
    "print(\"\\nYears by number of records:\")\n",
    "print(\"-\"*80)"
   ]
  },
  {
   "cell_type": "code",
   "execution_count": 68,
   "id": "0a781292",
   "metadata": {},
   "outputs": [
    {
     "name": "stdout",
     "output_type": "stream",
     "text": [
      "           total_records  pct_of_dataset  pct_with_spotify  pct_with_audio  spotify_diff_from_overall  audio_diff_from_overall\n",
      "date_year                                                                                                                     \n",
      "1980               40816            0.47             56.90           18.69                      -2.58                     0.54\n",
      "1981               41116            0.48             56.22           18.19                      -3.26                     0.04\n",
      "1982               45278            0.52             56.54           18.04                      -2.94                    -0.11\n",
      "1983               45604            0.53             55.91           18.60                      -3.57                     0.45\n",
      "1984               50677            0.59             56.12           20.31                      -3.36                     2.16\n",
      "1985               56130            0.65             54.15           19.91                      -5.33                     1.76\n",
      "1986               66844            0.77             58.43           21.72                      -1.05                     3.57\n",
      "1987               89187            1.03             59.58           22.86                       0.10                     4.71\n",
      "1988              113776            1.32             58.53           22.55                      -0.95                     4.40\n",
      "1989              138140            1.60             59.86           22.65                       0.38                     4.50\n",
      "1990              167026            1.93             60.08           23.09                       0.60                     4.94\n",
      "1991              188677            2.18             60.56           22.02                       1.08                     3.87\n",
      "1992              214414            2.48             60.63           22.06                       1.15                     3.91\n",
      "1993              246204            2.85             59.71           21.12                       0.23                     2.97\n",
      "1994              285854            3.30             58.48           20.34                      -1.00                     2.19\n",
      "1995              319572            3.69             57.32           18.84                      -2.16                     0.69\n",
      "1996              339371            3.92             57.62           18.45                      -1.86                     0.30\n",
      "1997              348945            4.03             57.72           17.60                      -1.76                    -0.55\n",
      "1998              356782            4.12             57.31           17.73                      -2.17                    -0.42\n",
      "1999              392517            4.54             57.87           18.18                      -1.61                     0.03\n"
     ]
    }
   ],
   "source": [
    "# Select columns for display\n",
    "display_cols = ['total_records', 'pct_of_dataset', 'pct_with_spotify', \n",
    "                'pct_with_audio', 'spotify_diff_from_overall', 'audio_diff_from_overall']\n",
    "print(summary_table_year[display_cols].head(20).to_string())"
   ]
  }
 ],
 "metadata": {
  "kernelspec": {
   "display_name": "music_data_chartmetric",
   "language": "python",
   "name": "python3"
  },
  "language_info": {
   "codemirror_mode": {
    "name": "ipython",
    "version": 3
   },
   "file_extension": ".py",
   "mimetype": "text/x-python",
   "name": "python",
   "nbconvert_exporter": "python",
   "pygments_lexer": "ipython3",
   "version": "3.12.8"
  }
 },
 "nbformat": 4,
 "nbformat_minor": 5
}
